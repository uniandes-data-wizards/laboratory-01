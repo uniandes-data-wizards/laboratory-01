{
 "cells": [
  {
   "attachments": {},
   "cell_type": "markdown",
   "metadata": {},
   "source": [
    "# Preprocesamiento de los Datos - Pipeline\n",
    "\n",
    "A continuación se crea un pipeline que tiene como propósito ser utilizado para limpiar los datos de forma general antes de pasarlos a cualquier limpieza necesaria para cualquier algoritmo en particular. Se realizan, entre otros, ejercicios de one-hot encoding, imputación y normalizaión. Todo esto se consolida en un Pipeline para su reutilización."
   ]
  },
  {
   "attachments": {},
   "cell_type": "markdown",
   "metadata": {},
   "source": [
    "## 0. Instalar dependencias"
   ]
  },
  {
   "cell_type": "code",
   "execution_count": 2,
   "metadata": {},
   "outputs": [
    {
     "name": "stdout",
     "output_type": "stream",
     "text": [
      "Requirement already satisfied: appnope==0.1.3 in ./venv/lib/python3.11/site-packages (from -r requirements.txt (line 1)) (0.1.3)\n",
      "Requirement already satisfied: asttokens==2.2.1 in ./venv/lib/python3.11/site-packages (from -r requirements.txt (line 2)) (2.2.1)\n",
      "Requirement already satisfied: backcall==0.2.0 in ./venv/lib/python3.11/site-packages (from -r requirements.txt (line 3)) (0.2.0)\n",
      "Requirement already satisfied: comm==0.1.2 in ./venv/lib/python3.11/site-packages (from -r requirements.txt (line 4)) (0.1.2)\n",
      "Requirement already satisfied: contourpy==1.0.7 in ./venv/lib/python3.11/site-packages (from -r requirements.txt (line 5)) (1.0.7)\n",
      "Requirement already satisfied: cycler==0.11.0 in ./venv/lib/python3.11/site-packages (from -r requirements.txt (line 6)) (0.11.0)\n",
      "Requirement already satisfied: debugpy==1.6.6 in ./venv/lib/python3.11/site-packages (from -r requirements.txt (line 7)) (1.6.6)\n",
      "Requirement already satisfied: decorator==5.1.1 in ./venv/lib/python3.11/site-packages (from -r requirements.txt (line 8)) (5.1.1)\n",
      "Requirement already satisfied: executing==1.2.0 in ./venv/lib/python3.11/site-packages (from -r requirements.txt (line 9)) (1.2.0)\n",
      "Requirement already satisfied: fonttools==4.38.0 in ./venv/lib/python3.11/site-packages (from -r requirements.txt (line 10)) (4.38.0)\n",
      "Requirement already satisfied: ipykernel==6.21.2 in ./venv/lib/python3.11/site-packages (from -r requirements.txt (line 11)) (6.21.2)\n",
      "Requirement already satisfied: ipython==8.10.0 in ./venv/lib/python3.11/site-packages (from -r requirements.txt (line 12)) (8.10.0)\n",
      "Requirement already satisfied: jedi==0.18.2 in ./venv/lib/python3.11/site-packages (from -r requirements.txt (line 13)) (0.18.2)\n",
      "Requirement already satisfied: joblib==1.2.0 in ./venv/lib/python3.11/site-packages (from -r requirements.txt (line 14)) (1.2.0)\n",
      "Requirement already satisfied: jupyter_client==8.0.3 in ./venv/lib/python3.11/site-packages (from -r requirements.txt (line 15)) (8.0.3)\n",
      "Requirement already satisfied: jupyter_core==5.2.0 in ./venv/lib/python3.11/site-packages (from -r requirements.txt (line 16)) (5.2.0)\n",
      "Requirement already satisfied: kiwisolver==1.4.4 in ./venv/lib/python3.11/site-packages (from -r requirements.txt (line 17)) (1.4.4)\n",
      "Requirement already satisfied: matplotlib==3.7.0 in ./venv/lib/python3.11/site-packages (from -r requirements.txt (line 18)) (3.7.0)\n",
      "Requirement already satisfied: matplotlib-inline==0.1.6 in ./venv/lib/python3.11/site-packages (from -r requirements.txt (line 19)) (0.1.6)\n",
      "Requirement already satisfied: nest-asyncio==1.5.6 in ./venv/lib/python3.11/site-packages (from -r requirements.txt (line 20)) (1.5.6)\n",
      "Requirement already satisfied: numpy==1.24.2 in ./venv/lib/python3.11/site-packages (from -r requirements.txt (line 21)) (1.24.2)\n",
      "Requirement already satisfied: packaging==23.0 in ./venv/lib/python3.11/site-packages (from -r requirements.txt (line 22)) (23.0)\n",
      "Requirement already satisfied: pandas==1.5.3 in ./venv/lib/python3.11/site-packages (from -r requirements.txt (line 23)) (1.5.3)\n",
      "Requirement already satisfied: parso==0.8.3 in ./venv/lib/python3.11/site-packages (from -r requirements.txt (line 24)) (0.8.3)\n",
      "Requirement already satisfied: pexpect==4.8.0 in ./venv/lib/python3.11/site-packages (from -r requirements.txt (line 25)) (4.8.0)\n",
      "Requirement already satisfied: pickleshare==0.7.5 in ./venv/lib/python3.11/site-packages (from -r requirements.txt (line 26)) (0.7.5)\n",
      "Requirement already satisfied: Pillow==9.4.0 in ./venv/lib/python3.11/site-packages (from -r requirements.txt (line 27)) (9.4.0)\n",
      "Requirement already satisfied: platformdirs==3.0.0 in ./venv/lib/python3.11/site-packages (from -r requirements.txt (line 28)) (3.0.0)\n",
      "Requirement already satisfied: prompt-toolkit==3.0.36 in ./venv/lib/python3.11/site-packages (from -r requirements.txt (line 29)) (3.0.36)\n",
      "Requirement already satisfied: psutil==5.9.4 in ./venv/lib/python3.11/site-packages (from -r requirements.txt (line 30)) (5.9.4)\n",
      "Requirement already satisfied: ptyprocess==0.7.0 in ./venv/lib/python3.11/site-packages (from -r requirements.txt (line 31)) (0.7.0)\n",
      "Requirement already satisfied: pure-eval==0.2.2 in ./venv/lib/python3.11/site-packages (from -r requirements.txt (line 32)) (0.2.2)\n",
      "Requirement already satisfied: Pygments==2.14.0 in ./venv/lib/python3.11/site-packages (from -r requirements.txt (line 33)) (2.14.0)\n",
      "Requirement already satisfied: pyparsing==3.0.9 in ./venv/lib/python3.11/site-packages (from -r requirements.txt (line 34)) (3.0.9)\n",
      "Requirement already satisfied: python-dateutil==2.8.2 in ./venv/lib/python3.11/site-packages (from -r requirements.txt (line 35)) (2.8.2)\n",
      "Requirement already satisfied: pytz==2022.7.1 in ./venv/lib/python3.11/site-packages (from -r requirements.txt (line 36)) (2022.7.1)\n",
      "Requirement already satisfied: pyzmq==25.0.0 in ./venv/lib/python3.11/site-packages (from -r requirements.txt (line 37)) (25.0.0)\n",
      "Requirement already satisfied: scikit-learn==1.2.1 in ./venv/lib/python3.11/site-packages (from -r requirements.txt (line 38)) (1.2.1)\n",
      "Requirement already satisfied: scipy==1.10.0 in ./venv/lib/python3.11/site-packages (from -r requirements.txt (line 39)) (1.10.0)\n",
      "Requirement already satisfied: seaborn==0.12.2 in ./venv/lib/python3.11/site-packages (from -r requirements.txt (line 40)) (0.12.2)\n",
      "Requirement already satisfied: six==1.16.0 in ./venv/lib/python3.11/site-packages (from -r requirements.txt (line 41)) (1.16.0)\n",
      "Requirement already satisfied: stack-data==0.6.2 in ./venv/lib/python3.11/site-packages (from -r requirements.txt (line 42)) (0.6.2)\n",
      "Requirement already satisfied: threadpoolctl==3.1.0 in ./venv/lib/python3.11/site-packages (from -r requirements.txt (line 43)) (3.1.0)\n",
      "Requirement already satisfied: tornado==6.2 in ./venv/lib/python3.11/site-packages (from -r requirements.txt (line 44)) (6.2)\n",
      "Requirement already satisfied: traitlets==5.9.0 in ./venv/lib/python3.11/site-packages (from -r requirements.txt (line 45)) (5.9.0)\n",
      "Requirement already satisfied: wcwidth==0.2.6 in ./venv/lib/python3.11/site-packages (from -r requirements.txt (line 46)) (0.2.6)\n"
     ]
    },
    {
     "name": "stderr",
     "output_type": "stream",
     "text": [
      "\n",
      "[notice] A new release of pip available: 22.3.1 -> 23.0\n",
      "[notice] To update, run: pip install --upgrade pip\n"
     ]
    }
   ],
   "source": [
    "%%sh\n",
    "pip install -r requirements.txt"
   ]
  },
  {
   "attachments": {},
   "cell_type": "markdown",
   "metadata": {},
   "source": [
    "## 1. Carga y exploración de los datos"
   ]
  },
  {
   "cell_type": "code",
   "execution_count": 3,
   "metadata": {},
   "outputs": [],
   "source": [
    "import pandas as pd\n",
    "import numpy as np"
   ]
  },
  {
   "cell_type": "code",
   "execution_count": 4,
   "metadata": {},
   "outputs": [],
   "source": [
    "#Cargar el archivo csv a un DataFrame\n",
    "#Note que aqui se usa un path relativo a la raiz del repositorio de Github\n",
    "df = pd.read_csv('./data/Datos_BiciAlpes.csv', delimiter=\";\", encoding='ISO-8859-1')"
   ]
  },
  {
   "cell_type": "code",
   "execution_count": 5,
   "metadata": {},
   "outputs": [
    {
     "data": {
      "text/html": [
       "<div>\n",
       "<style scoped>\n",
       "    .dataframe tbody tr th:only-of-type {\n",
       "        vertical-align: middle;\n",
       "    }\n",
       "\n",
       "    .dataframe tbody tr th {\n",
       "        vertical-align: top;\n",
       "    }\n",
       "\n",
       "    .dataframe thead th {\n",
       "        text-align: right;\n",
       "    }\n",
       "</style>\n",
       "<table border=\"1\" class=\"dataframe\">\n",
       "  <thead>\n",
       "    <tr style=\"text-align: right;\">\n",
       "      <th></th>\n",
       "      <th>Time</th>\n",
       "      <th>Number_of_Casualties</th>\n",
       "      <th>Day_of_Week</th>\n",
       "      <th>Road_Type</th>\n",
       "      <th>Speed_limit</th>\n",
       "      <th>Light_Conditions</th>\n",
       "      <th>Weather_Conditions</th>\n",
       "      <th>Road_Surface_Conditions</th>\n",
       "      <th>Urban_or_Rural_Area</th>\n",
       "      <th>Vehicle_Type</th>\n",
       "      <th>Did_Police_Officer_Attend_Scene_of_Accident</th>\n",
       "      <th>Junction_Detail</th>\n",
       "      <th>Number_of_Vehicles</th>\n",
       "      <th>Accident_Severity</th>\n",
       "      <th>Unnamed: 14</th>\n",
       "    </tr>\n",
       "  </thead>\n",
       "  <tbody>\n",
       "    <tr>\n",
       "      <th>0</th>\n",
       "      <td>Mañana</td>\n",
       "      <td>1</td>\n",
       "      <td>Día laboral</td>\n",
       "      <td>6</td>\n",
       "      <td>30.0</td>\n",
       "      <td>1</td>\n",
       "      <td>1</td>\n",
       "      <td>1</td>\n",
       "      <td>1</td>\n",
       "      <td>bike</td>\n",
       "      <td>1</td>\n",
       "      <td>3</td>\n",
       "      <td>1</td>\n",
       "      <td>3</td>\n",
       "      <td>NaN</td>\n",
       "    </tr>\n",
       "    <tr>\n",
       "      <th>1</th>\n",
       "      <td>Mañana</td>\n",
       "      <td>1</td>\n",
       "      <td>Día laboral</td>\n",
       "      <td>6</td>\n",
       "      <td>30.0</td>\n",
       "      <td>1</td>\n",
       "      <td>1</td>\n",
       "      <td>1</td>\n",
       "      <td>1</td>\n",
       "      <td>bike</td>\n",
       "      <td>1</td>\n",
       "      <td>0</td>\n",
       "      <td>1</td>\n",
       "      <td>3</td>\n",
       "      <td>NaN</td>\n",
       "    </tr>\n",
       "    <tr>\n",
       "      <th>2</th>\n",
       "      <td>Tarde</td>\n",
       "      <td>1</td>\n",
       "      <td>Fin de semana</td>\n",
       "      <td>6</td>\n",
       "      <td>30.0</td>\n",
       "      <td>1</td>\n",
       "      <td>1</td>\n",
       "      <td>1</td>\n",
       "      <td>1</td>\n",
       "      <td>bike</td>\n",
       "      <td>1</td>\n",
       "      <td>3</td>\n",
       "      <td>1</td>\n",
       "      <td>3</td>\n",
       "      <td>NaN</td>\n",
       "    </tr>\n",
       "    <tr>\n",
       "      <th>3</th>\n",
       "      <td>Tarde</td>\n",
       "      <td>2</td>\n",
       "      <td>Día laboral</td>\n",
       "      <td>6</td>\n",
       "      <td>30.0</td>\n",
       "      <td>1</td>\n",
       "      <td>1</td>\n",
       "      <td>1</td>\n",
       "      <td>1</td>\n",
       "      <td>bike</td>\n",
       "      <td>1</td>\n",
       "      <td>6</td>\n",
       "      <td>1</td>\n",
       "      <td>2</td>\n",
       "      <td>NaN</td>\n",
       "    </tr>\n",
       "    <tr>\n",
       "      <th>4</th>\n",
       "      <td>Mañana</td>\n",
       "      <td>2</td>\n",
       "      <td>Día laboral</td>\n",
       "      <td>6</td>\n",
       "      <td>30.0</td>\n",
       "      <td>1</td>\n",
       "      <td>1</td>\n",
       "      <td>1</td>\n",
       "      <td>1</td>\n",
       "      <td>bike</td>\n",
       "      <td>1</td>\n",
       "      <td>6</td>\n",
       "      <td>1</td>\n",
       "      <td>3</td>\n",
       "      <td>NaN</td>\n",
       "    </tr>\n",
       "    <tr>\n",
       "      <th>5</th>\n",
       "      <td>Tarde</td>\n",
       "      <td>2</td>\n",
       "      <td>Día laboral</td>\n",
       "      <td>6</td>\n",
       "      <td>30.0</td>\n",
       "      <td>1</td>\n",
       "      <td>1</td>\n",
       "      <td>1</td>\n",
       "      <td>1</td>\n",
       "      <td>bike</td>\n",
       "      <td>1</td>\n",
       "      <td>3</td>\n",
       "      <td>1</td>\n",
       "      <td>3</td>\n",
       "      <td>NaN</td>\n",
       "    </tr>\n",
       "    <tr>\n",
       "      <th>6</th>\n",
       "      <td>Tarde</td>\n",
       "      <td>1</td>\n",
       "      <td>Fin de semana</td>\n",
       "      <td>6</td>\n",
       "      <td>30.0</td>\n",
       "      <td>1</td>\n",
       "      <td>1</td>\n",
       "      <td>1</td>\n",
       "      <td>1</td>\n",
       "      <td>bike</td>\n",
       "      <td>1</td>\n",
       "      <td>0</td>\n",
       "      <td>1</td>\n",
       "      <td>2</td>\n",
       "      <td>NaN</td>\n",
       "    </tr>\n",
       "    <tr>\n",
       "      <th>7</th>\n",
       "      <td>Tarde</td>\n",
       "      <td>1</td>\n",
       "      <td>Día laboral</td>\n",
       "      <td>3</td>\n",
       "      <td>30.0</td>\n",
       "      <td>4</td>\n",
       "      <td>1</td>\n",
       "      <td>1</td>\n",
       "      <td>1</td>\n",
       "      <td>bike</td>\n",
       "      <td>1</td>\n",
       "      <td>0</td>\n",
       "      <td>1</td>\n",
       "      <td>3</td>\n",
       "      <td>NaN</td>\n",
       "    </tr>\n",
       "    <tr>\n",
       "      <th>8</th>\n",
       "      <td>Noche</td>\n",
       "      <td>1</td>\n",
       "      <td>Día laboral</td>\n",
       "      <td>3</td>\n",
       "      <td>30.0</td>\n",
       "      <td>4</td>\n",
       "      <td>1</td>\n",
       "      <td>2</td>\n",
       "      <td>1</td>\n",
       "      <td>bike</td>\n",
       "      <td>1</td>\n",
       "      <td>3</td>\n",
       "      <td>1</td>\n",
       "      <td>3</td>\n",
       "      <td>NaN</td>\n",
       "    </tr>\n",
       "    <tr>\n",
       "      <th>9</th>\n",
       "      <td>Tarde</td>\n",
       "      <td>1</td>\n",
       "      <td>Fin de semana</td>\n",
       "      <td>3</td>\n",
       "      <td>30.0</td>\n",
       "      <td>1</td>\n",
       "      <td>1</td>\n",
       "      <td>1</td>\n",
       "      <td>1</td>\n",
       "      <td>bike</td>\n",
       "      <td>1</td>\n",
       "      <td>6</td>\n",
       "      <td>1</td>\n",
       "      <td>3</td>\n",
       "      <td>NaN</td>\n",
       "    </tr>\n",
       "    <tr>\n",
       "      <th>10</th>\n",
       "      <td>Tarde</td>\n",
       "      <td>1</td>\n",
       "      <td>Día laboral</td>\n",
       "      <td>1</td>\n",
       "      <td>30.0</td>\n",
       "      <td>1</td>\n",
       "      <td>1</td>\n",
       "      <td>1</td>\n",
       "      <td>1</td>\n",
       "      <td>bike</td>\n",
       "      <td>2</td>\n",
       "      <td>1</td>\n",
       "      <td>1</td>\n",
       "      <td>3</td>\n",
       "      <td>NaN</td>\n",
       "    </tr>\n",
       "    <tr>\n",
       "      <th>11</th>\n",
       "      <td>Mañana</td>\n",
       "      <td>1</td>\n",
       "      <td>Día laboral</td>\n",
       "      <td>6</td>\n",
       "      <td>30.0</td>\n",
       "      <td>1</td>\n",
       "      <td>1</td>\n",
       "      <td>1</td>\n",
       "      <td>1</td>\n",
       "      <td>bike</td>\n",
       "      <td>2</td>\n",
       "      <td>6</td>\n",
       "      <td>1</td>\n",
       "      <td>2</td>\n",
       "      <td>NaN</td>\n",
       "    </tr>\n",
       "    <tr>\n",
       "      <th>12</th>\n",
       "      <td>Mañana</td>\n",
       "      <td>1</td>\n",
       "      <td>Día laboral</td>\n",
       "      <td>6</td>\n",
       "      <td>30.0</td>\n",
       "      <td>1</td>\n",
       "      <td>1</td>\n",
       "      <td>1</td>\n",
       "      <td>1</td>\n",
       "      <td>bike</td>\n",
       "      <td>2</td>\n",
       "      <td>3</td>\n",
       "      <td>1</td>\n",
       "      <td>3</td>\n",
       "      <td>NaN</td>\n",
       "    </tr>\n",
       "    <tr>\n",
       "      <th>13</th>\n",
       "      <td>Mañana</td>\n",
       "      <td>1</td>\n",
       "      <td>Día laboral</td>\n",
       "      <td>6</td>\n",
       "      <td>30.0</td>\n",
       "      <td>1</td>\n",
       "      <td>1</td>\n",
       "      <td>1</td>\n",
       "      <td>1</td>\n",
       "      <td>bike</td>\n",
       "      <td>1</td>\n",
       "      <td>3</td>\n",
       "      <td>1</td>\n",
       "      <td>3</td>\n",
       "      <td>NaN</td>\n",
       "    </tr>\n",
       "    <tr>\n",
       "      <th>14</th>\n",
       "      <td>Mañana</td>\n",
       "      <td>1</td>\n",
       "      <td>Día laboral</td>\n",
       "      <td>6</td>\n",
       "      <td>30.0</td>\n",
       "      <td>1</td>\n",
       "      <td>9</td>\n",
       "      <td>1</td>\n",
       "      <td>1</td>\n",
       "      <td>bike</td>\n",
       "      <td>1</td>\n",
       "      <td>3</td>\n",
       "      <td>1</td>\n",
       "      <td>3</td>\n",
       "      <td>NaN</td>\n",
       "    </tr>\n",
       "    <tr>\n",
       "      <th>15</th>\n",
       "      <td>Noche</td>\n",
       "      <td>1</td>\n",
       "      <td>Día laboral</td>\n",
       "      <td>6</td>\n",
       "      <td>30.0</td>\n",
       "      <td>1</td>\n",
       "      <td>1</td>\n",
       "      <td>1</td>\n",
       "      <td>1</td>\n",
       "      <td>bike</td>\n",
       "      <td>1</td>\n",
       "      <td>3</td>\n",
       "      <td>1</td>\n",
       "      <td>3</td>\n",
       "      <td>NaN</td>\n",
       "    </tr>\n",
       "    <tr>\n",
       "      <th>16</th>\n",
       "      <td>Mañana</td>\n",
       "      <td>1</td>\n",
       "      <td>Día laboral</td>\n",
       "      <td>6</td>\n",
       "      <td>30.0</td>\n",
       "      <td>1</td>\n",
       "      <td>1</td>\n",
       "      <td>1</td>\n",
       "      <td>1</td>\n",
       "      <td>bike</td>\n",
       "      <td>1</td>\n",
       "      <td>6</td>\n",
       "      <td>1</td>\n",
       "      <td>3</td>\n",
       "      <td>NaN</td>\n",
       "    </tr>\n",
       "    <tr>\n",
       "      <th>17</th>\n",
       "      <td>Mañana</td>\n",
       "      <td>1</td>\n",
       "      <td>Día laboral</td>\n",
       "      <td>6</td>\n",
       "      <td>30.0</td>\n",
       "      <td>1</td>\n",
       "      <td>1</td>\n",
       "      <td>2</td>\n",
       "      <td>1</td>\n",
       "      <td>bike</td>\n",
       "      <td>1</td>\n",
       "      <td>3</td>\n",
       "      <td>1</td>\n",
       "      <td>3</td>\n",
       "      <td>NaN</td>\n",
       "    </tr>\n",
       "    <tr>\n",
       "      <th>18</th>\n",
       "      <td>Noche</td>\n",
       "      <td>1</td>\n",
       "      <td>Día laboral</td>\n",
       "      <td>6</td>\n",
       "      <td>30.0</td>\n",
       "      <td>4</td>\n",
       "      <td>1</td>\n",
       "      <td>1</td>\n",
       "      <td>1</td>\n",
       "      <td>bike</td>\n",
       "      <td>1</td>\n",
       "      <td>0</td>\n",
       "      <td>1</td>\n",
       "      <td>3</td>\n",
       "      <td>NaN</td>\n",
       "    </tr>\n",
       "    <tr>\n",
       "      <th>19</th>\n",
       "      <td>Noche</td>\n",
       "      <td>1</td>\n",
       "      <td>Día laboral</td>\n",
       "      <td>6</td>\n",
       "      <td>30.0</td>\n",
       "      <td>1</td>\n",
       "      <td>1</td>\n",
       "      <td>1</td>\n",
       "      <td>1</td>\n",
       "      <td>bike</td>\n",
       "      <td>1</td>\n",
       "      <td>3</td>\n",
       "      <td>1</td>\n",
       "      <td>3</td>\n",
       "      <td>NaN</td>\n",
       "    </tr>\n",
       "  </tbody>\n",
       "</table>\n",
       "</div>"
      ],
      "text/plain": [
       "      Time  Number_of_Casualties    Day_of_Week  Road_Type  Speed_limit  \\\n",
       "0   Mañana                     1    Día laboral          6         30.0   \n",
       "1   Mañana                     1    Día laboral          6         30.0   \n",
       "2    Tarde                     1  Fin de semana          6         30.0   \n",
       "3    Tarde                     2    Día laboral          6         30.0   \n",
       "4   Mañana                     2    Día laboral          6         30.0   \n",
       "5    Tarde                     2    Día laboral          6         30.0   \n",
       "6    Tarde                     1  Fin de semana          6         30.0   \n",
       "7    Tarde                     1    Día laboral          3         30.0   \n",
       "8    Noche                     1    Día laboral          3         30.0   \n",
       "9    Tarde                     1  Fin de semana          3         30.0   \n",
       "10   Tarde                     1    Día laboral          1         30.0   \n",
       "11  Mañana                     1    Día laboral          6         30.0   \n",
       "12  Mañana                     1    Día laboral          6         30.0   \n",
       "13  Mañana                     1    Día laboral          6         30.0   \n",
       "14  Mañana                     1    Día laboral          6         30.0   \n",
       "15   Noche                     1    Día laboral          6         30.0   \n",
       "16  Mañana                     1    Día laboral          6         30.0   \n",
       "17  Mañana                     1    Día laboral          6         30.0   \n",
       "18   Noche                     1    Día laboral          6         30.0   \n",
       "19   Noche                     1    Día laboral          6         30.0   \n",
       "\n",
       "    Light_Conditions  Weather_Conditions  Road_Surface_Conditions  \\\n",
       "0                  1                   1                        1   \n",
       "1                  1                   1                        1   \n",
       "2                  1                   1                        1   \n",
       "3                  1                   1                        1   \n",
       "4                  1                   1                        1   \n",
       "5                  1                   1                        1   \n",
       "6                  1                   1                        1   \n",
       "7                  4                   1                        1   \n",
       "8                  4                   1                        2   \n",
       "9                  1                   1                        1   \n",
       "10                 1                   1                        1   \n",
       "11                 1                   1                        1   \n",
       "12                 1                   1                        1   \n",
       "13                 1                   1                        1   \n",
       "14                 1                   9                        1   \n",
       "15                 1                   1                        1   \n",
       "16                 1                   1                        1   \n",
       "17                 1                   1                        2   \n",
       "18                 4                   1                        1   \n",
       "19                 1                   1                        1   \n",
       "\n",
       "    Urban_or_Rural_Area Vehicle_Type  \\\n",
       "0                     1         bike   \n",
       "1                     1         bike   \n",
       "2                     1         bike   \n",
       "3                     1         bike   \n",
       "4                     1         bike   \n",
       "5                     1         bike   \n",
       "6                     1         bike   \n",
       "7                     1         bike   \n",
       "8                     1         bike   \n",
       "9                     1         bike   \n",
       "10                    1         bike   \n",
       "11                    1         bike   \n",
       "12                    1         bike   \n",
       "13                    1         bike   \n",
       "14                    1         bike   \n",
       "15                    1         bike   \n",
       "16                    1         bike   \n",
       "17                    1         bike   \n",
       "18                    1         bike   \n",
       "19                    1         bike   \n",
       "\n",
       "    Did_Police_Officer_Attend_Scene_of_Accident  Junction_Detail  \\\n",
       "0                                             1                3   \n",
       "1                                             1                0   \n",
       "2                                             1                3   \n",
       "3                                             1                6   \n",
       "4                                             1                6   \n",
       "5                                             1                3   \n",
       "6                                             1                0   \n",
       "7                                             1                0   \n",
       "8                                             1                3   \n",
       "9                                             1                6   \n",
       "10                                            2                1   \n",
       "11                                            2                6   \n",
       "12                                            2                3   \n",
       "13                                            1                3   \n",
       "14                                            1                3   \n",
       "15                                            1                3   \n",
       "16                                            1                6   \n",
       "17                                            1                3   \n",
       "18                                            1                0   \n",
       "19                                            1                3   \n",
       "\n",
       "    Number_of_Vehicles  Accident_Severity  Unnamed: 14  \n",
       "0                    1                  3          NaN  \n",
       "1                    1                  3          NaN  \n",
       "2                    1                  3          NaN  \n",
       "3                    1                  2          NaN  \n",
       "4                    1                  3          NaN  \n",
       "5                    1                  3          NaN  \n",
       "6                    1                  2          NaN  \n",
       "7                    1                  3          NaN  \n",
       "8                    1                  3          NaN  \n",
       "9                    1                  3          NaN  \n",
       "10                   1                  3          NaN  \n",
       "11                   1                  2          NaN  \n",
       "12                   1                  3          NaN  \n",
       "13                   1                  3          NaN  \n",
       "14                   1                  3          NaN  \n",
       "15                   1                  3          NaN  \n",
       "16                   1                  3          NaN  \n",
       "17                   1                  3          NaN  \n",
       "18                   1                  3          NaN  \n",
       "19                   1                  3          NaN  "
      ]
     },
     "execution_count": 5,
     "metadata": {},
     "output_type": "execute_result"
    }
   ],
   "source": [
    "#Observar primeros 20 resultados\n",
    "df.head(20)"
   ]
  },
  {
   "attachments": {},
   "cell_type": "markdown",
   "metadata": {},
   "source": [
    "* Miremos el tipo de variables"
   ]
  },
  {
   "cell_type": "code",
   "execution_count": 6,
   "metadata": {},
   "outputs": [
    {
     "data": {
      "text/plain": [
       "Time                                            object\n",
       "Number_of_Casualties                             int64\n",
       "Day_of_Week                                     object\n",
       "Road_Type                                        int64\n",
       "Speed_limit                                    float64\n",
       "Light_Conditions                                 int64\n",
       "Weather_Conditions                               int64\n",
       "Road_Surface_Conditions                          int64\n",
       "Urban_or_Rural_Area                              int64\n",
       "Vehicle_Type                                    object\n",
       "Did_Police_Officer_Attend_Scene_of_Accident      int64\n",
       "Junction_Detail                                  int64\n",
       "Number_of_Vehicles                               int64\n",
       "Accident_Severity                                int64\n",
       "Unnamed: 14                                    float64\n",
       "dtype: object"
      ]
     },
     "execution_count": 6,
     "metadata": {},
     "output_type": "execute_result"
    }
   ],
   "source": [
    "#Parece que hay que cambiar algunas de tipo object a str.\n",
    "df.dtypes"
   ]
  },
  {
   "cell_type": "code",
   "execution_count": 7,
   "metadata": {},
   "outputs": [],
   "source": [
    "#Pasar las de objeto a str\n",
    "df['Time'] = df['Time'].astype('string')\n",
    "df['Day_of_Week'] = df['Day_of_Week'].astype('string')\n",
    "df['Vehicle_Type'] = df['Vehicle_Type'].astype('string')"
   ]
  },
  {
   "cell_type": "code",
   "execution_count": 8,
   "metadata": {},
   "outputs": [
    {
     "data": {
      "text/plain": [
       "Time                                            string\n",
       "Number_of_Casualties                             int64\n",
       "Day_of_Week                                     string\n",
       "Road_Type                                        int64\n",
       "Speed_limit                                    float64\n",
       "Light_Conditions                                 int64\n",
       "Weather_Conditions                               int64\n",
       "Road_Surface_Conditions                          int64\n",
       "Urban_or_Rural_Area                              int64\n",
       "Vehicle_Type                                    string\n",
       "Did_Police_Officer_Attend_Scene_of_Accident      int64\n",
       "Junction_Detail                                  int64\n",
       "Number_of_Vehicles                               int64\n",
       "Accident_Severity                                int64\n",
       "Unnamed: 14                                    float64\n",
       "dtype: object"
      ]
     },
     "execution_count": 8,
     "metadata": {},
     "output_type": "execute_result"
    }
   ],
   "source": [
    "#Verificar\n",
    "df.dtypes"
   ]
  },
  {
   "attachments": {},
   "cell_type": "markdown",
   "metadata": {},
   "source": [
    "* Ahora vamos a observar las distribuciones de las variables generando diagramas de barras. Esto nos va a servir más adelante para ver si hay outliers y tratar de aplicar transformaciones para corregir esto."
   ]
  },
  {
   "cell_type": "code",
   "execution_count": 9,
   "metadata": {},
   "outputs": [
    {
     "data": {
      "text/plain": [
       "<Axes: >"
      ]
     },
     "execution_count": 9,
     "metadata": {},
     "output_type": "execute_result"
    },
    {
     "data": {
      "image/png": "[encoded data removed]",
      "text/plain": [
       "<Figure size 640x480 with 1 Axes>"
      ]
     },
     "metadata": {},
     "output_type": "display_data"
    }
   ],
   "source": [
    "df['Time'].value_counts().plot(kind='bar')"
   ]
  },
  {
   "attachments": {},
   "cell_type": "markdown",
   "metadata": {},
   "source": [
    "* Nota: Vemos que hay una **representacion baja de valores de madrugada**. "
   ]
  },
  {
   "cell_type": "code",
   "execution_count": 10,
   "metadata": {},
   "outputs": [
    {
     "data": {
      "text/plain": [
       "<Axes: >"
      ]
     },
     "execution_count": 10,
     "metadata": {},
     "output_type": "execute_result"
    },
    {
     "data": {
      "image/png": "[encoded data removed]",
      "text/plain": [
       "<Figure size 640x480 with 1 Axes>"
      ]
     },
     "metadata": {},
     "output_type": "display_data"
    }
   ],
   "source": [
    "df['Day_of_Week'].value_counts().plot(kind='bar')"
   ]
  },
  {
   "cell_type": "code",
   "execution_count": 11,
   "metadata": {},
   "outputs": [
    {
     "data": {
      "text/plain": [
       "<Axes: >"
      ]
     },
     "execution_count": 11,
     "metadata": {},
     "output_type": "execute_result"
    },
    {
     "data": {
      "image/png": "[encoded data removed]",
      "text/plain": [
       "<Figure size 640x480 with 1 Axes>"
      ]
     },
     "metadata": {},
     "output_type": "display_data"
    }
   ],
   "source": [
    "df['Vehicle_Type'].value_counts().plot(kind='bar')"
   ]
  },
  {
   "attachments": {},
   "cell_type": "markdown",
   "metadata": {},
   "source": [
    "**Esto es problematico, vemos que en la base de datos solo hay ejemplos para muertes de bicicletas**. Por tanto esta variable es irrelevante. **Vamos a dropearla de una vez de la base de datos**"
   ]
  },
  {
   "cell_type": "code",
   "execution_count": 12,
   "metadata": {},
   "outputs": [],
   "source": [
    "df = df.drop('Vehicle_Type', axis=1)"
   ]
  },
  {
   "cell_type": "code",
   "execution_count": 13,
   "metadata": {},
   "outputs": [
    {
     "data": {
      "text/plain": [
       "Time                                            string\n",
       "Number_of_Casualties                             int64\n",
       "Day_of_Week                                     string\n",
       "Road_Type                                        int64\n",
       "Speed_limit                                    float64\n",
       "Light_Conditions                                 int64\n",
       "Weather_Conditions                               int64\n",
       "Road_Surface_Conditions                          int64\n",
       "Urban_or_Rural_Area                              int64\n",
       "Did_Police_Officer_Attend_Scene_of_Accident      int64\n",
       "Junction_Detail                                  int64\n",
       "Number_of_Vehicles                               int64\n",
       "Accident_Severity                                int64\n",
       "Unnamed: 14                                    float64\n",
       "dtype: object"
      ]
     },
     "execution_count": 13,
     "metadata": {},
     "output_type": "execute_result"
    }
   ],
   "source": [
    "df.dtypes"
   ]
  },
  {
   "attachments": {},
   "cell_type": "markdown",
   "metadata": {},
   "source": [
    "* Ahora bien, ya que terminamos el analisis de las variables string continuaremos con las que son categoricas segun la base de datos. Sin embargo antes analizaremos una la columna Unnamed. **Llama la atención que hay un alto porcentaje de valores nulos**"
   ]
  },
  {
   "cell_type": "code",
   "execution_count": 14,
   "metadata": {},
   "outputs": [
    {
     "name": "stdout",
     "output_type": "stream",
     "text": [
      "Hay 5338 valores nulos en esta columna de 5338\n"
     ]
    }
   ],
   "source": [
    "print('Hay ' + str(len(df['Unnamed: 14'].isna())) + ' valores nulos en esta columna de ' + str(df.shape[0]))"
   ]
  },
  {
   "cell_type": "code",
   "execution_count": 15,
   "metadata": {},
   "outputs": [],
   "source": [
    "#Vamos a dropearla\n",
    "df = df.drop('Unnamed: 14', axis=1)"
   ]
  },
  {
   "attachments": {},
   "cell_type": "markdown",
   "metadata": {},
   "source": [
    "### 1.1 Análisis Variables categoricas"
   ]
  },
  {
   "attachments": {},
   "cell_type": "markdown",
   "metadata": {},
   "source": [
    "* Segun el diccionario de la base de datos las siguientes variables son categoricas\n",
    "    - Accident_severity\n",
    "    - Day_of_Week\n",
    "    - Time\n",
    "    - Road type\n",
    "    - Junction_detail\n",
    "    - Light_conditions\n",
    "    - Weather_Conditions\n",
    "    - Road_surface_conditions\n",
    "    - Urban_or_Rural_Area\n",
    "    - Vehicle_Type\n",
    "    - Did_Police_Officer_Attend_Scene_of_Accident\n",
    "\n",
    "\n",
    "\n",
    "* Vamos a convertir estas a str y ver sus distribuciones entre las categoriasy analizar los resultados."
   ]
  },
  {
   "attachments": {},
   "cell_type": "markdown",
   "metadata": {},
   "source": [
    "#### 1.1.1 Convertir a string"
   ]
  },
  {
   "cell_type": "code",
   "execution_count": 16,
   "metadata": {},
   "outputs": [],
   "source": [
    "cat_vars = ['Accident_Severity', \n",
    "'Day_of_Week', \n",
    "'Time', 'Road_Type', \n",
    "'Junction_Detail', \n",
    "'Light_Conditions', \n",
    "'Weather_Conditions', \n",
    "'Road_Surface_Conditions', \n",
    "'Urban_or_Rural_Area', \n",
    "#'Vehicle_type', // Esta la dropeamos\n",
    "'Did_Police_Officer_Attend_Scene_of_Accident']\n",
    "\n",
    "for var in cat_vars:\n",
    "    df[var] = df[var].astype('string')"
   ]
  },
  {
   "cell_type": "code",
   "execution_count": 17,
   "metadata": {},
   "outputs": [
    {
     "data": {
      "text/plain": [
       "Time                                            string\n",
       "Number_of_Casualties                             int64\n",
       "Day_of_Week                                     string\n",
       "Road_Type                                       string\n",
       "Speed_limit                                    float64\n",
       "Light_Conditions                                string\n",
       "Weather_Conditions                              string\n",
       "Road_Surface_Conditions                         string\n",
       "Urban_or_Rural_Area                             string\n",
       "Did_Police_Officer_Attend_Scene_of_Accident     string\n",
       "Junction_Detail                                 string\n",
       "Number_of_Vehicles                               int64\n",
       "Accident_Severity                               string\n",
       "dtype: object"
      ]
     },
     "execution_count": 17,
     "metadata": {},
     "output_type": "execute_result"
    }
   ],
   "source": [
    "df.dtypes"
   ]
  },
  {
   "attachments": {},
   "cell_type": "markdown",
   "metadata": {},
   "source": [
    "#### 1.1.2 Reemplazar por labels del diccionario para las que faltan y ver su distribucion"
   ]
  },
  {
   "cell_type": "code",
   "execution_count": 18,
   "metadata": {},
   "outputs": [],
   "source": [
    "# Bien, ahora miremos las distribuciones\n",
    "def plot_distribution(df: pd.DataFrame, col: str, dropna=True):\n",
    "    df[col].value_counts(dropna=dropna).plot(kind='bar')"
   ]
  },
  {
   "cell_type": "code",
   "execution_count": 19,
   "metadata": {},
   "outputs": [],
   "source": [
    "df['Accident_Severity'] = df['Accident_Severity'].replace({'1': 'Fatal', '2': 'Serio', '3': 'Leve'})"
   ]
  },
  {
   "cell_type": "code",
   "execution_count": 20,
   "metadata": {},
   "outputs": [
    {
     "data": {
      "image/png": "[encoded data removed]",
      "text/plain": [
       "<Figure size 640x480 with 1 Axes>"
      ]
     },
     "metadata": {},
     "output_type": "display_data"
    }
   ],
   "source": [
    "plot_distribution(df, 'Accident_Severity')"
   ]
  },
  {
   "cell_type": "code",
   "execution_count": 21,
   "metadata": {},
   "outputs": [],
   "source": [
    "labels = ['Rotonda', '1SoloSentido', 'Autovia', 'Calzada', 'Circunvalacion', 'Desconocida']\n",
    "numbers = list(map(str,[1,2,3,6,7,9]))\n",
    "df['Road_Type'] = df['Road_Type'].replace(dict(zip(numbers, labels)))"
   ]
  },
  {
   "cell_type": "code",
   "execution_count": 22,
   "metadata": {},
   "outputs": [
    {
     "data": {
      "image/png": "[encoded data removed]",
      "text/plain": [
       "<Figure size 640x480 with 1 Axes>"
      ]
     },
     "metadata": {},
     "output_type": "display_data"
    }
   ],
   "source": [
    "plot_distribution(df, 'Road_Type')"
   ]
  },
  {
   "cell_type": "code",
   "execution_count": 23,
   "metadata": {},
   "outputs": [],
   "source": [
    "df['Junction_Detail'] = df['Junction_Detail'].astype('string')"
   ]
  },
  {
   "cell_type": "code",
   "execution_count": 24,
   "metadata": {},
   "outputs": [
    {
     "data": {
      "text/plain": [
       "0     2763\n",
       "3     1555\n",
       "6      468\n",
       "1      199\n",
       "9      171\n",
       "7       68\n",
       "8       43\n",
       "2       34\n",
       "-1      25\n",
       "5       12\n",
       "Name: Junction_Detail, dtype: Int64"
      ]
     },
     "execution_count": 24,
     "metadata": {},
     "output_type": "execute_result"
    }
   ],
   "source": [
    "df['Junction_Detail'].value_counts(dropna=False)"
   ]
  },
  {
   "cell_type": "code",
   "execution_count": 25,
   "metadata": {},
   "outputs": [],
   "source": [
    "labels = {'0': 'No_hay_cruce', '1': 'Rotonda', '2': 'Minirotonda', '3': 'T', '5': 'Carretera_Acceso', '6': 'Encrucijada', '7': '+4salidas', '8': 'Entrada_Privada', '9': 'Otros', '-1': np.NAN}"
   ]
  },
  {
   "cell_type": "code",
   "execution_count": 26,
   "metadata": {},
   "outputs": [],
   "source": [
    "df['Junction_Detail'] = df['Junction_Detail'].replace(labels)"
   ]
  },
  {
   "cell_type": "code",
   "execution_count": 27,
   "metadata": {},
   "outputs": [
    {
     "data": {
      "image/png": "[encoded data removed]",
      "text/plain": [
       "<Figure size 640x480 with 1 Axes>"
      ]
     },
     "metadata": {},
     "output_type": "display_data"
    }
   ],
   "source": [
    "plot_distribution(df, 'Junction_Detail', False)"
   ]
  },
  {
   "attachments": {},
   "cell_type": "markdown",
   "metadata": {},
   "source": [
    "**Vemos que hay nans en esta característica**. Son pocos entonces más adelante lso imputaremos con la moda (No_hay_cruce)."
   ]
  },
  {
   "cell_type": "code",
   "execution_count": 28,
   "metadata": {},
   "outputs": [],
   "source": [
    "labels_light_conditions = {'1': 'Diurna' , '4': 'Oscuridad_Luces_Encendidas', '6': 'Oscuridad_Sin_Iluminacion' , '7': 'Oscuridad_Iluminacion_Desconocida', '5': 'Oscuridad_Luces_Apagadas'}"
   ]
  },
  {
   "cell_type": "code",
   "execution_count": 29,
   "metadata": {},
   "outputs": [],
   "source": [
    "df['Light_Conditions'] = df['Light_Conditions'].replace(labels_light_conditions)"
   ]
  },
  {
   "cell_type": "code",
   "execution_count": 30,
   "metadata": {},
   "outputs": [
    {
     "data": {
      "image/png": "[encoded data removed]",
      "text/plain": [
       "<Figure size 640x480 with 1 Axes>"
      ]
     },
     "metadata": {},
     "output_type": "display_data"
    }
   ],
   "source": [
    "plot_distribution(df, 'Light_Conditions')"
   ]
  },
  {
   "cell_type": "code",
   "execution_count": 31,
   "metadata": {},
   "outputs": [
    {
     "data": {
      "text/plain": [
       "1    4621\n",
       "2     321\n",
       "9     191\n",
       "8      80\n",
       "4      59\n",
       "5      46\n",
       "3      12\n",
       "7       7\n",
       "6       1\n",
       "Name: Weather_Conditions, dtype: Int64"
      ]
     },
     "execution_count": 31,
     "metadata": {},
     "output_type": "execute_result"
    }
   ],
   "source": [
    "df['Weather_Conditions'].value_counts()"
   ]
  },
  {
   "cell_type": "code",
   "execution_count": 32,
   "metadata": {},
   "outputs": [],
   "source": [
    "labels = ['Bien, con vientos suaves', 'Lluvioso', 'Nevando', 'Bien, con vientos fuertes', 'Lluvioso, con vientos fuertes'\n",
    ", 'Nevando, con vientos fuertes', 'Niebla', 'Otro', 'Desconocido']\n",
    "replace_weather_conditions =  dict(map(lambda x: (str(x[0] + 1), x[1]), enumerate(labels)))"
   ]
  },
  {
   "cell_type": "code",
   "execution_count": 33,
   "metadata": {},
   "outputs": [
    {
     "data": {
      "text/plain": [
       "{'1': 'Bien, con vientos suaves',\n",
       " '2': 'Lluvioso',\n",
       " '3': 'Nevando',\n",
       " '4': 'Bien, con vientos fuertes',\n",
       " '5': 'Lluvioso, con vientos fuertes',\n",
       " '6': 'Nevando, con vientos fuertes',\n",
       " '7': 'Niebla',\n",
       " '8': 'Otro',\n",
       " '9': 'Desconocido'}"
      ]
     },
     "execution_count": 33,
     "metadata": {},
     "output_type": "execute_result"
    }
   ],
   "source": [
    "replace_weather_conditions"
   ]
  },
  {
   "cell_type": "code",
   "execution_count": 34,
   "metadata": {},
   "outputs": [],
   "source": [
    "df['Weather_Conditions'] = df['Weather_Conditions'].replace(replace_weather_conditions)"
   ]
  },
  {
   "cell_type": "code",
   "execution_count": 35,
   "metadata": {},
   "outputs": [
    {
     "data": {
      "image/png": "[encoded data removed]",
      "text/plain": [
       "<Figure size 640x480 with 1 Axes>"
      ]
     },
     "metadata": {},
     "output_type": "display_data"
    }
   ],
   "source": [
    "plot_distribution(df, 'Weather_Conditions')"
   ]
  },
  {
   "cell_type": "code",
   "execution_count": 36,
   "metadata": {},
   "outputs": [
    {
     "data": {
      "text/plain": [
       "1     4260\n",
       "2      901\n",
       "4       87\n",
       "-1      81\n",
       "3        8\n",
       "5        1\n",
       "Name: Road_Surface_Conditions, dtype: Int64"
      ]
     },
     "execution_count": 36,
     "metadata": {},
     "output_type": "execute_result"
    }
   ],
   "source": [
    "df['Road_Surface_Conditions'].value_counts()"
   ]
  },
  {
   "cell_type": "code",
   "execution_count": 37,
   "metadata": {},
   "outputs": [
    {
     "data": {
      "text/plain": [
       "{'1': 'Seca',\n",
       " '2': 'Húmeda',\n",
       " '3': 'Nieve',\n",
       " '4': 'Hielo',\n",
       " '5': 'Inundadas',\n",
       " '6': 'Aceite',\n",
       " '7': 'Fango',\n",
       " '-1': nan}"
      ]
     },
     "execution_count": 37,
     "metadata": {},
     "output_type": "execute_result"
    }
   ],
   "source": [
    "labels = ['Seca', 'Húmeda', 'Nieve', 'Hielo', 'Inundadas', 'Aceite', 'Fango']\n",
    "replace_road_surface_conditions=  dict(map(lambda x: (str(x[0] + 1), x[1]), enumerate(labels))) | {'-1': np.NAN}\n",
    "replace_road_surface_conditions"
   ]
  },
  {
   "cell_type": "code",
   "execution_count": 38,
   "metadata": {},
   "outputs": [],
   "source": [
    "df['Road_Surface_Condition'] = df['Road_Surface_Conditions'].replace(replace_road_surface_conditions)"
   ]
  },
  {
   "cell_type": "code",
   "execution_count": 39,
   "metadata": {},
   "outputs": [
    {
     "data": {
      "image/png": "[encoded data removed]",
      "text/plain": [
       "<Figure size 640x480 with 1 Axes>"
      ]
     },
     "metadata": {},
     "output_type": "display_data"
    }
   ],
   "source": [
    "plot_distribution(df, 'Road_Surface_Condition', False)"
   ]
  },
  {
   "cell_type": "code",
   "execution_count": 40,
   "metadata": {},
   "outputs": [
    {
     "data": {
      "text/plain": [
       "1    4040\n",
       "2    1298\n",
       "Name: Urban_or_Rural_Area, dtype: Int64"
      ]
     },
     "execution_count": 40,
     "metadata": {},
     "output_type": "execute_result"
    }
   ],
   "source": [
    "df['Urban_or_Rural_Area'].value_counts()"
   ]
  },
  {
   "cell_type": "code",
   "execution_count": 41,
   "metadata": {},
   "outputs": [
    {
     "data": {
      "text/plain": [
       "{'1': 'Urbano', '2': 'Rural', '3': 'No especificado'}"
      ]
     },
     "execution_count": 41,
     "metadata": {},
     "output_type": "execute_result"
    }
   ],
   "source": [
    "labels = ['Urbano', 'Rural', 'No especificado']\n",
    "replace_urban_rural=  dict(map(lambda x: (str(x[0] + 1), x[1]), enumerate(labels))) \n",
    "replace_urban_rural"
   ]
  },
  {
   "cell_type": "code",
   "execution_count": 42,
   "metadata": {},
   "outputs": [],
   "source": [
    "df['Urban_or_Rural_Area'] = df['Urban_or_Rural_Area'].replace(replace_urban_rural)"
   ]
  },
  {
   "cell_type": "code",
   "execution_count": 43,
   "metadata": {},
   "outputs": [
    {
     "data": {
      "image/png": "[encoded data removed]",
      "text/plain": [
       "<Figure size 640x480 with 1 Axes>"
      ]
     },
     "metadata": {},
     "output_type": "display_data"
    }
   ],
   "source": [
    "plot_distribution(df, 'Urban_or_Rural_Area')"
   ]
  },
  {
   "cell_type": "code",
   "execution_count": 44,
   "metadata": {},
   "outputs": [
    {
     "data": {
      "text/plain": [
       "1     4059\n",
       "2     1231\n",
       "3       46\n",
       "-1       2\n",
       "Name: Did_Police_Officer_Attend_Scene_of_Accident, dtype: Int64"
      ]
     },
     "execution_count": 44,
     "metadata": {},
     "output_type": "execute_result"
    }
   ],
   "source": [
    "df['Did_Police_Officer_Attend_Scene_of_Accident'].value_counts()"
   ]
  },
  {
   "cell_type": "code",
   "execution_count": 45,
   "metadata": {},
   "outputs": [],
   "source": [
    "replace_police = {'1': 'Si', '2': 'No', '3': 'No se reporto', '-1': np.NAN}"
   ]
  },
  {
   "cell_type": "code",
   "execution_count": 46,
   "metadata": {},
   "outputs": [],
   "source": [
    "df['Did_Police_Officer_Attend_Scene_of_Accident'] = df['Did_Police_Officer_Attend_Scene_of_Accident'].replace(replace_police)"
   ]
  },
  {
   "cell_type": "code",
   "execution_count": 47,
   "metadata": {},
   "outputs": [
    {
     "data": {
      "image/png": "[encoded data removed]",
      "text/plain": [
       "<Figure size 640x480 with 1 Axes>"
      ]
     },
     "metadata": {},
     "output_type": "display_data"
    }
   ],
   "source": [
    "plot_distribution(df, 'Did_Police_Officer_Attend_Scene_of_Accident', False)"
   ]
  },
  {
   "attachments": {},
   "cell_type": "markdown",
   "metadata": {},
   "source": [
    "### 1.2 Analisis Variables Continuas"
   ]
  },
  {
   "attachments": {},
   "cell_type": "markdown",
   "metadata": {},
   "source": [
    "#### 1.2.1 Recuperar variables continuas"
   ]
  },
  {
   "attachments": {},
   "cell_type": "markdown",
   "metadata": {},
   "source": [
    "- Vamos a analizar el, número de missing values y distribución de cada una de estas variables"
   ]
  },
  {
   "cell_type": "code",
   "execution_count": 48,
   "metadata": {},
   "outputs": [],
   "source": [
    "is_str = lambda x: type(df[x].dtype) is pd.core.arrays.string_.StringDtype"
   ]
  },
  {
   "cell_type": "code",
   "execution_count": 49,
   "metadata": {},
   "outputs": [
    {
     "data": {
      "text/plain": [
       "['Time',\n",
       " 'Number_of_Casualties',\n",
       " 'Day_of_Week',\n",
       " 'Road_Type',\n",
       " 'Speed_limit',\n",
       " 'Light_Conditions',\n",
       " 'Weather_Conditions',\n",
       " 'Road_Surface_Conditions',\n",
       " 'Urban_or_Rural_Area',\n",
       " 'Did_Police_Officer_Attend_Scene_of_Accident',\n",
       " 'Junction_Detail',\n",
       " 'Number_of_Vehicles',\n",
       " 'Accident_Severity',\n",
       " 'Road_Surface_Condition']"
      ]
     },
     "execution_count": 49,
     "metadata": {},
     "output_type": "execute_result"
    }
   ],
   "source": [
    "list(df.columns)"
   ]
  },
  {
   "cell_type": "code",
   "execution_count": 50,
   "metadata": {},
   "outputs": [],
   "source": [
    "cont_cols = list(filter(lambda x: not is_str(x), list(df.columns)))"
   ]
  },
  {
   "cell_type": "code",
   "execution_count": 51,
   "metadata": {},
   "outputs": [
    {
     "data": {
      "text/plain": [
       "['Number_of_Casualties', 'Speed_limit', 'Number_of_Vehicles']"
      ]
     },
     "execution_count": 51,
     "metadata": {},
     "output_type": "execute_result"
    }
   ],
   "source": [
    "cont_cols"
   ]
  },
  {
   "attachments": {},
   "cell_type": "markdown",
   "metadata": {},
   "source": [
    "#### 1.2.2 Explorar distribuciones"
   ]
  },
  {
   "attachments": {},
   "cell_type": "markdown",
   "metadata": {},
   "source": [
    "* Miremos la densidad del numero de muertes"
   ]
  },
  {
   "cell_type": "code",
   "execution_count": 52,
   "metadata": {},
   "outputs": [
    {
     "data": {
      "text/plain": [
       "<Axes: ylabel='Density'>"
      ]
     },
     "execution_count": 52,
     "metadata": {},
     "output_type": "execute_result"
    },
    {
     "data": {
      "image/png": "[encoded data removed]",
      "text/plain": [
       "<Figure size 640x480 with 1 Axes>"
      ]
     },
     "metadata": {},
     "output_type": "display_data"
    }
   ],
   "source": [
    "df[cont_cols[0]].plot(kind='kde', ylabel='Density Number of Casualties')"
   ]
  },
  {
   "attachments": {},
   "cell_type": "markdown",
   "metadata": {},
   "source": [
    "- Vemos que para esta variable la mayoria estan concentradas en 1 y el resto en 2, 3 o 4. Vamos a convertir esta variable en una variable categorica"
   ]
  },
  {
   "cell_type": "code",
   "execution_count": 53,
   "metadata": {},
   "outputs": [],
   "source": [
    "df[cont_cols[0]] = df[cont_cols[0]].astype('string')"
   ]
  },
  {
   "cell_type": "code",
   "execution_count": 54,
   "metadata": {},
   "outputs": [
    {
     "data": {
      "image/png": "[encoded data removed]",
      "text/plain": [
       "<Figure size 640x480 with 1 Axes>"
      ]
     },
     "metadata": {},
     "output_type": "display_data"
    }
   ],
   "source": [
    "plot_distribution(df, cont_cols[0])"
   ]
  },
  {
   "cell_type": "code",
   "execution_count": 55,
   "metadata": {},
   "outputs": [],
   "source": [
    "#Actualizemos las variables continuas ya que removimos una\n",
    "cont_cols = cont_cols[1:]"
   ]
  },
  {
   "cell_type": "code",
   "execution_count": 56,
   "metadata": {},
   "outputs": [
    {
     "data": {
      "text/plain": [
       "'Speed_limit'"
      ]
     },
     "execution_count": 56,
     "metadata": {},
     "output_type": "execute_result"
    }
   ],
   "source": [
    "#Sigamos explorando ahora esta variable\n",
    "cont_cols[0]"
   ]
  },
  {
   "cell_type": "code",
   "execution_count": 57,
   "metadata": {},
   "outputs": [
    {
     "data": {
      "text/plain": [
       "<Axes: ylabel='Density'>"
      ]
     },
     "execution_count": 57,
     "metadata": {},
     "output_type": "execute_result"
    },
    {
     "data": {
      "image/png": "[encoded data removed]",
      "text/plain": [
       "<Figure size 640x480 with 1 Axes>"
      ]
     },
     "metadata": {},
     "output_type": "display_data"
    }
   ],
   "source": [
    "df[cont_cols[0]].plot(kind='kde')"
   ]
  },
  {
   "cell_type": "code",
   "execution_count": 58,
   "metadata": {},
   "outputs": [
    {
     "data": {
      "text/plain": [
       "30.0    4047\n",
       "60.0     533\n",
       "40.0     322\n",
       "20.0     321\n",
       "50.0      87\n",
       "70.0      27\n",
       "15.0       1\n",
       "Name: Speed_limit, dtype: int64"
      ]
     },
     "execution_count": 58,
     "metadata": {},
     "output_type": "execute_result"
    }
   ],
   "source": [
    "#Veamos ahora los value counts\n",
    "df[cont_cols[0]].value_counts()"
   ]
  },
  {
   "cell_type": "code",
   "execution_count": 59,
   "metadata": {},
   "outputs": [],
   "source": [
    "# Tampoco tiene mucha variabilidad, vamos a pasarla a discreta."
   ]
  },
  {
   "cell_type": "code",
   "execution_count": 60,
   "metadata": {},
   "outputs": [],
   "source": [
    "df[cont_cols[0]] = df[cont_cols[0]].astype('string')"
   ]
  },
  {
   "cell_type": "code",
   "execution_count": 61,
   "metadata": {},
   "outputs": [
    {
     "data": {
      "image/png": "[encoded data removed]",
      "text/plain": [
       "<Figure size 640x480 with 1 Axes>"
      ]
     },
     "metadata": {},
     "output_type": "display_data"
    }
   ],
   "source": [
    "plot_distribution(df, cont_cols[0])"
   ]
  },
  {
   "cell_type": "code",
   "execution_count": 62,
   "metadata": {},
   "outputs": [
    {
     "data": {
      "text/plain": [
       "['Number_of_Vehicles']"
      ]
     },
     "execution_count": 62,
     "metadata": {},
     "output_type": "execute_result"
    }
   ],
   "source": [
    "#Actualizemos ya que volvimos a reducir este conjunto de variables continuas\n",
    "cont_cols = cont_cols[1:]\n",
    "cont_cols"
   ]
  },
  {
   "cell_type": "code",
   "execution_count": 63,
   "metadata": {},
   "outputs": [
    {
     "data": {
      "text/plain": [
       "<Axes: ylabel='Density'>"
      ]
     },
     "execution_count": 63,
     "metadata": {},
     "output_type": "execute_result"
    },
    {
     "data": {
      "image/png": "[encoded data removed]",
      "text/plain": [
       "<Figure size 640x480 with 1 Axes>"
      ]
     },
     "metadata": {},
     "output_type": "display_data"
    }
   ],
   "source": [
    "#Exploremos la distribución de número de vehiculos\n",
    "df[cont_cols[0]].plot(kind='kde')"
   ]
  },
  {
   "cell_type": "code",
   "execution_count": 64,
   "metadata": {},
   "outputs": [
    {
     "data": {
      "text/plain": [
       "1    5332\n",
       "2       6\n",
       "Name: Number_of_Vehicles, dtype: int64"
      ]
     },
     "execution_count": 64,
     "metadata": {},
     "output_type": "execute_result"
    }
   ],
   "source": [
    "#Miremos los value counts\n",
    "df[cont_cols[0]].value_counts()"
   ]
  },
  {
   "cell_type": "code",
   "execution_count": 65,
   "metadata": {},
   "outputs": [],
   "source": [
    "#No hay variabilidad, vale más la pena estudiarla como variable categorica"
   ]
  },
  {
   "cell_type": "code",
   "execution_count": 66,
   "metadata": {},
   "outputs": [],
   "source": [
    "df[cont_cols[0]] = df[cont_cols[0]].astype('string')"
   ]
  },
  {
   "cell_type": "code",
   "execution_count": 67,
   "metadata": {},
   "outputs": [
    {
     "data": {
      "image/png": "[encoded data removed]",
      "text/plain": [
       "<Figure size 640x480 with 1 Axes>"
      ]
     },
     "metadata": {},
     "output_type": "display_data"
    }
   ],
   "source": [
    "plot_distribution(df, cont_cols[0])"
   ]
  },
  {
   "attachments": {},
   "cell_type": "markdown",
   "metadata": {},
   "source": [
    "### 1.3 Resumen resultado exploración"
   ]
  },
  {
   "attachments": {},
   "cell_type": "markdown",
   "metadata": {},
   "source": [
    "- Tenemos entonces las siguientes variables"
   ]
  },
  {
   "cell_type": "code",
   "execution_count": 68,
   "metadata": {},
   "outputs": [
    {
     "data": {
      "text/plain": [
       "Time                                           string\n",
       "Number_of_Casualties                           string\n",
       "Day_of_Week                                    string\n",
       "Road_Type                                      string\n",
       "Speed_limit                                    string\n",
       "Light_Conditions                               string\n",
       "Weather_Conditions                             string\n",
       "Road_Surface_Conditions                        string\n",
       "Urban_or_Rural_Area                            string\n",
       "Did_Police_Officer_Attend_Scene_of_Accident    string\n",
       "Junction_Detail                                string\n",
       "Number_of_Vehicles                             string\n",
       "Accident_Severity                              string\n",
       "Road_Surface_Condition                         string\n",
       "dtype: object"
      ]
     },
     "execution_count": 68,
     "metadata": {},
     "output_type": "execute_result"
    }
   ],
   "source": [
    "df.dtypes"
   ]
  },
  {
   "attachments": {},
   "cell_type": "markdown",
   "metadata": {},
   "source": [
    "- Como vemos, debido a la baja variabilidad de las que representaban valores númericos originalmente, optamos por tratarlas como categoricas.\n",
    "- Miremos el número de valores faltantes por columna"
   ]
  },
  {
   "cell_type": "code",
   "execution_count": 69,
   "metadata": {},
   "outputs": [
    {
     "data": {
      "text/plain": [
       "Time                                            0\n",
       "Number_of_Casualties                            0\n",
       "Day_of_Week                                    19\n",
       "Road_Type                                       0\n",
       "Speed_limit                                     0\n",
       "Light_Conditions                                0\n",
       "Weather_Conditions                              0\n",
       "Road_Surface_Conditions                         0\n",
       "Urban_or_Rural_Area                             0\n",
       "Did_Police_Officer_Attend_Scene_of_Accident     2\n",
       "Junction_Detail                                25\n",
       "Number_of_Vehicles                              0\n",
       "Accident_Severity                               0\n",
       "Road_Surface_Condition                         81\n",
       "dtype: int64"
      ]
     },
     "execution_count": 69,
     "metadata": {},
     "output_type": "execute_result"
    }
   ],
   "source": [
    "df.isna().sum()"
   ]
  },
  {
   "attachments": {},
   "cell_type": "markdown",
   "metadata": {},
   "source": [
    "- Vemos que, relativo al total de observaciones el número de valores faltantes es bajo y por tanto procederemos a hacer una imputación con la moda para las variables categoricas (todas). En la siguiente seccion realizaremos esto y posteriormente un OneHotEncoding."
   ]
  },
  {
   "attachments": {},
   "cell_type": "markdown",
   "metadata": {},
   "source": [
    "## 2. Construcción del Pipeline"
   ]
  },
  {
   "cell_type": "code",
   "execution_count": 70,
   "metadata": {},
   "outputs": [],
   "source": [
    "from sklearn.compose import ColumnTransformer \n",
    "from sklearn.impute import SimpleImputer\n",
    "from sklearn.preprocessing import OneHotEncoder\n",
    "from sklearn.pipeline import Pipeline"
   ]
  },
  {
   "cell_type": "code",
   "execution_count": 79,
   "metadata": {},
   "outputs": [
    {
     "name": "stderr",
     "output_type": "stream",
     "text": [
      "/var/folders/r_/zq13xvq14tn3xjm_rnxttsn00000gn/T/ipykernel_83525/2749921371.py:1: DeprecationWarning: In a future version, `df.iloc[:, i] = newvals` will attempt to set the values inplace instead of always setting a new array. To retain the old behavior, use either `df[df.columns[i]] = newvals` or, if columns are non-unique, `df.isetitem(i, newvals)`\n",
      "  df[:] = df[:].astype('category')\n"
     ]
    }
   ],
   "source": [
    "df[:] = df[:].astype('category')"
   ]
  },
  {
   "cell_type": "code",
   "execution_count": 80,
   "metadata": {},
   "outputs": [
    {
     "name": "stderr",
     "output_type": "stream",
     "text": [
      "/var/folders/r_/zq13xvq14tn3xjm_rnxttsn00000gn/T/ipykernel_83525/2637582962.py:2: DeprecationWarning: In a future version, `df.iloc[:, i] = newvals` will attempt to set the values inplace instead of always setting a new array. To retain the old behavior, use either `df[df.columns[i]] = newvals` or, if columns are non-unique, `df.isetitem(i, newvals)`\n",
      "  df[:] = df[:].replace({np.NAN: None})\n"
     ]
    },
    {
     "data": {
      "text/plain": [
       "Time                                            0\n",
       "Number_of_Casualties                            0\n",
       "Day_of_Week                                    19\n",
       "Road_Type                                       0\n",
       "Speed_limit                                     0\n",
       "Light_Conditions                                0\n",
       "Weather_Conditions                              0\n",
       "Road_Surface_Conditions                         0\n",
       "Urban_or_Rural_Area                             0\n",
       "Did_Police_Officer_Attend_Scene_of_Accident     2\n",
       "Junction_Detail                                25\n",
       "Number_of_Vehicles                              0\n",
       "Accident_Severity                               0\n",
       "Road_Surface_Condition                         81\n",
       "dtype: int64"
      ]
     },
     "execution_count": 80,
     "metadata": {},
     "output_type": "execute_result"
    }
   ],
   "source": [
    "#Transformación necesaria para que identifique\n",
    "df[:] = df[:].replace({np.NAN: None})\n",
    "df.isna().sum()"
   ]
  },
  {
   "cell_type": "code",
   "execution_count": 82,
   "metadata": {},
   "outputs": [
    {
     "data": {
      "text/plain": [
       "['Time',\n",
       " 'Number_of_Casualties',\n",
       " 'Day_of_Week',\n",
       " 'Road_Type',\n",
       " 'Speed_limit',\n",
       " 'Light_Conditions',\n",
       " 'Weather_Conditions',\n",
       " 'Road_Surface_Conditions',\n",
       " 'Urban_or_Rural_Area',\n",
       " 'Did_Police_Officer_Attend_Scene_of_Accident',\n",
       " 'Junction_Detail',\n",
       " 'Number_of_Vehicles',\n",
       " 'Accident_Severity',\n",
       " 'Road_Surface_Condition']"
      ]
     },
     "execution_count": 82,
     "metadata": {},
     "output_type": "execute_result"
    }
   ],
   "source": [
    "cols"
   ]
  },
  {
   "cell_type": "code",
   "execution_count": 90,
   "metadata": {},
   "outputs": [
    {
     "data": {
      "text/plain": [
       "Time                                           0\n",
       "Number_of_Casualties                           0\n",
       "Day_of_Week                                    0\n",
       "Road_Type                                      0\n",
       "Speed_limit                                    0\n",
       "Light_Conditions                               0\n",
       "Weather_Conditions                             0\n",
       "Road_Surface_Conditions                        0\n",
       "Urban_or_Rural_Area                            0\n",
       "Did_Police_Officer_Attend_Scene_of_Accident    0\n",
       "Junction_Detail                                0\n",
       "Number_of_Vehicles                             0\n",
       "Accident_Severity                              0\n",
       "Road_Surface_Condition                         0\n",
       "dtype: int64"
      ]
     },
     "execution_count": 90,
     "metadata": {},
     "output_type": "execute_result"
    }
   ],
   "source": [
    "cols = list(df.columns)\n",
    "imputer = SimpleImputer(strategy ='most_frequent', missing_values=None)\n",
    "imputed = pd.DataFrame(imputer.fit_transform(df), columns=cols)\n",
    "imputed.isna().sum()"
   ]
  },
  {
   "cell_type": "code",
   "execution_count": 94,
   "metadata": {},
   "outputs": [
    {
     "data": {
      "text/html": [
       "<div>\n",
       "<style scoped>\n",
       "    .dataframe tbody tr th:only-of-type {\n",
       "        vertical-align: middle;\n",
       "    }\n",
       "\n",
       "    .dataframe tbody tr th {\n",
       "        vertical-align: top;\n",
       "    }\n",
       "\n",
       "    .dataframe thead th {\n",
       "        text-align: right;\n",
       "    }\n",
       "</style>\n",
       "<table border=\"1\" class=\"dataframe\">\n",
       "  <thead>\n",
       "    <tr style=\"text-align: right;\">\n",
       "      <th></th>\n",
       "      <th>Time</th>\n",
       "      <th>Number_of_Casualties</th>\n",
       "      <th>Day_of_Week</th>\n",
       "      <th>Road_Type</th>\n",
       "      <th>Speed_limit</th>\n",
       "      <th>Light_Conditions</th>\n",
       "      <th>Weather_Conditions</th>\n",
       "      <th>Road_Surface_Conditions</th>\n",
       "      <th>Urban_or_Rural_Area</th>\n",
       "      <th>Did_Police_Officer_Attend_Scene_of_Accident</th>\n",
       "      <th>Junction_Detail</th>\n",
       "      <th>Number_of_Vehicles</th>\n",
       "      <th>Accident_Severity</th>\n",
       "      <th>Road_Surface_Condition</th>\n",
       "    </tr>\n",
       "  </thead>\n",
       "  <tbody>\n",
       "    <tr>\n",
       "      <th>0</th>\n",
       "      <td>Mañana</td>\n",
       "      <td>1</td>\n",
       "      <td>Día laboral</td>\n",
       "      <td>Calzada</td>\n",
       "      <td>30.0</td>\n",
       "      <td>Diurna</td>\n",
       "      <td>Bien, con vientos suaves</td>\n",
       "      <td>1</td>\n",
       "      <td>Urbano</td>\n",
       "      <td>Si</td>\n",
       "      <td>T</td>\n",
       "      <td>1</td>\n",
       "      <td>Leve</td>\n",
       "      <td>Seca</td>\n",
       "    </tr>\n",
       "    <tr>\n",
       "      <th>1</th>\n",
       "      <td>Mañana</td>\n",
       "      <td>1</td>\n",
       "      <td>Día laboral</td>\n",
       "      <td>Calzada</td>\n",
       "      <td>30.0</td>\n",
       "      <td>Diurna</td>\n",
       "      <td>Bien, con vientos suaves</td>\n",
       "      <td>1</td>\n",
       "      <td>Urbano</td>\n",
       "      <td>Si</td>\n",
       "      <td>No_hay_cruce</td>\n",
       "      <td>1</td>\n",
       "      <td>Leve</td>\n",
       "      <td>Seca</td>\n",
       "    </tr>\n",
       "    <tr>\n",
       "      <th>2</th>\n",
       "      <td>Tarde</td>\n",
       "      <td>1</td>\n",
       "      <td>Fin de semana</td>\n",
       "      <td>Calzada</td>\n",
       "      <td>30.0</td>\n",
       "      <td>Diurna</td>\n",
       "      <td>Bien, con vientos suaves</td>\n",
       "      <td>1</td>\n",
       "      <td>Urbano</td>\n",
       "      <td>Si</td>\n",
       "      <td>T</td>\n",
       "      <td>1</td>\n",
       "      <td>Leve</td>\n",
       "      <td>Seca</td>\n",
       "    </tr>\n",
       "    <tr>\n",
       "      <th>3</th>\n",
       "      <td>Tarde</td>\n",
       "      <td>2</td>\n",
       "      <td>Día laboral</td>\n",
       "      <td>Calzada</td>\n",
       "      <td>30.0</td>\n",
       "      <td>Diurna</td>\n",
       "      <td>Bien, con vientos suaves</td>\n",
       "      <td>1</td>\n",
       "      <td>Urbano</td>\n",
       "      <td>Si</td>\n",
       "      <td>Encrucijada</td>\n",
       "      <td>1</td>\n",
       "      <td>Serio</td>\n",
       "      <td>Seca</td>\n",
       "    </tr>\n",
       "    <tr>\n",
       "      <th>4</th>\n",
       "      <td>Mañana</td>\n",
       "      <td>2</td>\n",
       "      <td>Día laboral</td>\n",
       "      <td>Calzada</td>\n",
       "      <td>30.0</td>\n",
       "      <td>Diurna</td>\n",
       "      <td>Bien, con vientos suaves</td>\n",
       "      <td>1</td>\n",
       "      <td>Urbano</td>\n",
       "      <td>Si</td>\n",
       "      <td>Encrucijada</td>\n",
       "      <td>1</td>\n",
       "      <td>Leve</td>\n",
       "      <td>Seca</td>\n",
       "    </tr>\n",
       "  </tbody>\n",
       "</table>\n",
       "</div>"
      ],
      "text/plain": [
       "     Time Number_of_Casualties    Day_of_Week Road_Type Speed_limit  \\\n",
       "0  Mañana                    1    Día laboral   Calzada        30.0   \n",
       "1  Mañana                    1    Día laboral   Calzada        30.0   \n",
       "2   Tarde                    1  Fin de semana   Calzada        30.0   \n",
       "3   Tarde                    2    Día laboral   Calzada        30.0   \n",
       "4  Mañana                    2    Día laboral   Calzada        30.0   \n",
       "\n",
       "  Light_Conditions        Weather_Conditions Road_Surface_Conditions  \\\n",
       "0           Diurna  Bien, con vientos suaves                       1   \n",
       "1           Diurna  Bien, con vientos suaves                       1   \n",
       "2           Diurna  Bien, con vientos suaves                       1   \n",
       "3           Diurna  Bien, con vientos suaves                       1   \n",
       "4           Diurna  Bien, con vientos suaves                       1   \n",
       "\n",
       "  Urban_or_Rural_Area Did_Police_Officer_Attend_Scene_of_Accident  \\\n",
       "0              Urbano                                          Si   \n",
       "1              Urbano                                          Si   \n",
       "2              Urbano                                          Si   \n",
       "3              Urbano                                          Si   \n",
       "4              Urbano                                          Si   \n",
       "\n",
       "  Junction_Detail Number_of_Vehicles Accident_Severity Road_Surface_Condition  \n",
       "0               T                  1              Leve                   Seca  \n",
       "1    No_hay_cruce                  1              Leve                   Seca  \n",
       "2               T                  1              Leve                   Seca  \n",
       "3     Encrucijada                  1             Serio                   Seca  \n",
       "4     Encrucijada                  1              Leve                   Seca  "
      ]
     },
     "execution_count": 94,
     "metadata": {},
     "output_type": "execute_result"
    }
   ],
   "source": [
    "imputed.head()"
   ]
  },
  {
   "cell_type": "code",
   "execution_count": 99,
   "metadata": {},
   "outputs": [
    {
     "name": "stderr",
     "output_type": "stream",
     "text": [
      "/Users/elefantickets/laboratory-01/venv/lib/python3.11/site-packages/sklearn/preprocessing/_encoders.py:828: FutureWarning: `sparse` was renamed to `sparse_output` in version 1.2 and will be removed in 1.4. `sparse_output` is ignored unless you leave `sparse` to its default value.\n",
      "  warnings.warn(\n"
     ]
    },
    {
     "data": {
      "text/plain": [
       "array([[0., 1., 0., ..., 0., 0., 1.],\n",
       "       [0., 1., 0., ..., 0., 0., 1.],\n",
       "       [0., 0., 0., ..., 0., 0., 1.],\n",
       "       ...,\n",
       "       [0., 0., 0., ..., 0., 0., 0.],\n",
       "       [0., 0., 1., ..., 0., 0., 1.],\n",
       "       [0., 1., 0., ..., 0., 0., 1.]])"
      ]
     },
     "execution_count": 99,
     "metadata": {},
     "output_type": "execute_result"
    }
   ],
   "source": [
    "one_hot = OneHotEncoder(handle_unknown='ignore', sparse=False)\n",
    "encoded = one_hot.fit_transform(imputed)\n",
    "encoded"
   ]
  },
  {
   "attachments": {},
   "cell_type": "markdown",
   "metadata": {},
   "source": [
    "- Si bien esta base de datos ya está lista para ser procesada haremos un paso extra para recuperar los labels"
   ]
  },
  {
   "cell_type": "code",
   "execution_count": 101,
   "metadata": {},
   "outputs": [
    {
     "data": {
      "text/plain": [
       "array(['Time_Madrugada', 'Time_Mañana', 'Time_Noche', 'Time_Tarde',\n",
       "       'Number_of_Casualties_1', 'Number_of_Casualties_2',\n",
       "       'Number_of_Casualties_3', 'Number_of_Casualties_4',\n",
       "       'Day_of_Week_Día laboral', 'Day_of_Week_Fin de semana',\n",
       "       'Road_Type_1SoloSentido', 'Road_Type_Autovia', 'Road_Type_Calzada',\n",
       "       'Road_Type_Circunvalacion', 'Road_Type_Desconocida',\n",
       "       'Road_Type_Rotonda', 'Speed_limit_15.0', 'Speed_limit_20.0',\n",
       "       'Speed_limit_30.0', 'Speed_limit_40.0', 'Speed_limit_50.0',\n",
       "       'Speed_limit_60.0', 'Speed_limit_70.0', 'Light_Conditions_Diurna',\n",
       "       'Light_Conditions_Oscuridad_Iluminacion_Desconocida',\n",
       "       'Light_Conditions_Oscuridad_Luces_Apagadas',\n",
       "       'Light_Conditions_Oscuridad_Luces_Encendidas',\n",
       "       'Light_Conditions_Oscuridad_Sin_Iluminacion',\n",
       "       'Weather_Conditions_Bien, con vientos fuertes',\n",
       "       'Weather_Conditions_Bien, con vientos suaves',\n",
       "       'Weather_Conditions_Desconocido', 'Weather_Conditions_Lluvioso',\n",
       "       'Weather_Conditions_Lluvioso, con vientos fuertes',\n",
       "       'Weather_Conditions_Nevando',\n",
       "       'Weather_Conditions_Nevando, con vientos fuertes',\n",
       "       'Weather_Conditions_Niebla', 'Weather_Conditions_Otro',\n",
       "       'Road_Surface_Conditions_-1', 'Road_Surface_Conditions_1',\n",
       "       'Road_Surface_Conditions_2', 'Road_Surface_Conditions_3',\n",
       "       'Road_Surface_Conditions_4', 'Road_Surface_Conditions_5',\n",
       "       'Urban_or_Rural_Area_Rural', 'Urban_or_Rural_Area_Urbano',\n",
       "       'Did_Police_Officer_Attend_Scene_of_Accident_No',\n",
       "       'Did_Police_Officer_Attend_Scene_of_Accident_No se reporto',\n",
       "       'Did_Police_Officer_Attend_Scene_of_Accident_Si',\n",
       "       'Junction_Detail_+4salidas', 'Junction_Detail_Carretera_Acceso',\n",
       "       'Junction_Detail_Encrucijada', 'Junction_Detail_Entrada_Privada',\n",
       "       'Junction_Detail_Minirotonda', 'Junction_Detail_No_hay_cruce',\n",
       "       'Junction_Detail_Otros', 'Junction_Detail_Rotonda',\n",
       "       'Junction_Detail_T', 'Number_of_Vehicles_1',\n",
       "       'Number_of_Vehicles_2', 'Accident_Severity_Fatal',\n",
       "       'Accident_Severity_Leve', 'Accident_Severity_Serio',\n",
       "       'Road_Surface_Condition_Hielo', 'Road_Surface_Condition_Húmeda',\n",
       "       'Road_Surface_Condition_Inundadas', 'Road_Surface_Condition_Nieve',\n",
       "       'Road_Surface_Condition_Seca'], dtype=object)"
      ]
     },
     "execution_count": 101,
     "metadata": {},
     "output_type": "execute_result"
    }
   ],
   "source": [
    "one_hot.get_feature_names_out()"
   ]
  },
  {
   "cell_type": "code",
   "execution_count": 102,
   "metadata": {},
   "outputs": [],
   "source": [
    "cols = one_hot.get_feature_names_out()"
   ]
  },
  {
   "cell_type": "code",
   "execution_count": 103,
   "metadata": {},
   "outputs": [],
   "source": [
    "final_df = pd.DataFrame(encoded, columns=cols)"
   ]
  },
  {
   "cell_type": "code",
   "execution_count": 104,
   "metadata": {},
   "outputs": [
    {
     "data": {
      "text/html": [
       "<div>\n",
       "<style scoped>\n",
       "    .dataframe tbody tr th:only-of-type {\n",
       "        vertical-align: middle;\n",
       "    }\n",
       "\n",
       "    .dataframe tbody tr th {\n",
       "        vertical-align: top;\n",
       "    }\n",
       "\n",
       "    .dataframe thead th {\n",
       "        text-align: right;\n",
       "    }\n",
       "</style>\n",
       "<table border=\"1\" class=\"dataframe\">\n",
       "  <thead>\n",
       "    <tr style=\"text-align: right;\">\n",
       "      <th></th>\n",
       "      <th>Time_Madrugada</th>\n",
       "      <th>Time_Mañana</th>\n",
       "      <th>Time_Noche</th>\n",
       "      <th>Time_Tarde</th>\n",
       "      <th>Number_of_Casualties_1</th>\n",
       "      <th>Number_of_Casualties_2</th>\n",
       "      <th>Number_of_Casualties_3</th>\n",
       "      <th>Number_of_Casualties_4</th>\n",
       "      <th>Day_of_Week_Día laboral</th>\n",
       "      <th>Day_of_Week_Fin de semana</th>\n",
       "      <th>...</th>\n",
       "      <th>Number_of_Vehicles_1</th>\n",
       "      <th>Number_of_Vehicles_2</th>\n",
       "      <th>Accident_Severity_Fatal</th>\n",
       "      <th>Accident_Severity_Leve</th>\n",
       "      <th>Accident_Severity_Serio</th>\n",
       "      <th>Road_Surface_Condition_Hielo</th>\n",
       "      <th>Road_Surface_Condition_Húmeda</th>\n",
       "      <th>Road_Surface_Condition_Inundadas</th>\n",
       "      <th>Road_Surface_Condition_Nieve</th>\n",
       "      <th>Road_Surface_Condition_Seca</th>\n",
       "    </tr>\n",
       "  </thead>\n",
       "  <tbody>\n",
       "    <tr>\n",
       "      <th>0</th>\n",
       "      <td>0.0</td>\n",
       "      <td>1.0</td>\n",
       "      <td>0.0</td>\n",
       "      <td>0.0</td>\n",
       "      <td>1.0</td>\n",
       "      <td>0.0</td>\n",
       "      <td>0.0</td>\n",
       "      <td>0.0</td>\n",
       "      <td>1.0</td>\n",
       "      <td>0.0</td>\n",
       "      <td>...</td>\n",
       "      <td>1.0</td>\n",
       "      <td>0.0</td>\n",
       "      <td>0.0</td>\n",
       "      <td>1.0</td>\n",
       "      <td>0.0</td>\n",
       "      <td>0.0</td>\n",
       "      <td>0.0</td>\n",
       "      <td>0.0</td>\n",
       "      <td>0.0</td>\n",
       "      <td>1.0</td>\n",
       "    </tr>\n",
       "    <tr>\n",
       "      <th>1</th>\n",
       "      <td>0.0</td>\n",
       "      <td>1.0</td>\n",
       "      <td>0.0</td>\n",
       "      <td>0.0</td>\n",
       "      <td>1.0</td>\n",
       "      <td>0.0</td>\n",
       "      <td>0.0</td>\n",
       "      <td>0.0</td>\n",
       "      <td>1.0</td>\n",
       "      <td>0.0</td>\n",
       "      <td>...</td>\n",
       "      <td>1.0</td>\n",
       "      <td>0.0</td>\n",
       "      <td>0.0</td>\n",
       "      <td>1.0</td>\n",
       "      <td>0.0</td>\n",
       "      <td>0.0</td>\n",
       "      <td>0.0</td>\n",
       "      <td>0.0</td>\n",
       "      <td>0.0</td>\n",
       "      <td>1.0</td>\n",
       "    </tr>\n",
       "    <tr>\n",
       "      <th>2</th>\n",
       "      <td>0.0</td>\n",
       "      <td>0.0</td>\n",
       "      <td>0.0</td>\n",
       "      <td>1.0</td>\n",
       "      <td>1.0</td>\n",
       "      <td>0.0</td>\n",
       "      <td>0.0</td>\n",
       "      <td>0.0</td>\n",
       "      <td>0.0</td>\n",
       "      <td>1.0</td>\n",
       "      <td>...</td>\n",
       "      <td>1.0</td>\n",
       "      <td>0.0</td>\n",
       "      <td>0.0</td>\n",
       "      <td>1.0</td>\n",
       "      <td>0.0</td>\n",
       "      <td>0.0</td>\n",
       "      <td>0.0</td>\n",
       "      <td>0.0</td>\n",
       "      <td>0.0</td>\n",
       "      <td>1.0</td>\n",
       "    </tr>\n",
       "    <tr>\n",
       "      <th>3</th>\n",
       "      <td>0.0</td>\n",
       "      <td>0.0</td>\n",
       "      <td>0.0</td>\n",
       "      <td>1.0</td>\n",
       "      <td>0.0</td>\n",
       "      <td>1.0</td>\n",
       "      <td>0.0</td>\n",
       "      <td>0.0</td>\n",
       "      <td>1.0</td>\n",
       "      <td>0.0</td>\n",
       "      <td>...</td>\n",
       "      <td>1.0</td>\n",
       "      <td>0.0</td>\n",
       "      <td>0.0</td>\n",
       "      <td>0.0</td>\n",
       "      <td>1.0</td>\n",
       "      <td>0.0</td>\n",
       "      <td>0.0</td>\n",
       "      <td>0.0</td>\n",
       "      <td>0.0</td>\n",
       "      <td>1.0</td>\n",
       "    </tr>\n",
       "    <tr>\n",
       "      <th>4</th>\n",
       "      <td>0.0</td>\n",
       "      <td>1.0</td>\n",
       "      <td>0.0</td>\n",
       "      <td>0.0</td>\n",
       "      <td>0.0</td>\n",
       "      <td>1.0</td>\n",
       "      <td>0.0</td>\n",
       "      <td>0.0</td>\n",
       "      <td>1.0</td>\n",
       "      <td>0.0</td>\n",
       "      <td>...</td>\n",
       "      <td>1.0</td>\n",
       "      <td>0.0</td>\n",
       "      <td>0.0</td>\n",
       "      <td>1.0</td>\n",
       "      <td>0.0</td>\n",
       "      <td>0.0</td>\n",
       "      <td>0.0</td>\n",
       "      <td>0.0</td>\n",
       "      <td>0.0</td>\n",
       "      <td>1.0</td>\n",
       "    </tr>\n",
       "  </tbody>\n",
       "</table>\n",
       "<p>5 rows × 67 columns</p>\n",
       "</div>"
      ],
      "text/plain": [
       "   Time_Madrugada  Time_Mañana  Time_Noche  Time_Tarde  \\\n",
       "0             0.0          1.0         0.0         0.0   \n",
       "1             0.0          1.0         0.0         0.0   \n",
       "2             0.0          0.0         0.0         1.0   \n",
       "3             0.0          0.0         0.0         1.0   \n",
       "4             0.0          1.0         0.0         0.0   \n",
       "\n",
       "   Number_of_Casualties_1  Number_of_Casualties_2  Number_of_Casualties_3  \\\n",
       "0                     1.0                     0.0                     0.0   \n",
       "1                     1.0                     0.0                     0.0   \n",
       "2                     1.0                     0.0                     0.0   \n",
       "3                     0.0                     1.0                     0.0   \n",
       "4                     0.0                     1.0                     0.0   \n",
       "\n",
       "   Number_of_Casualties_4  Day_of_Week_Día laboral  Day_of_Week_Fin de semana  \\\n",
       "0                     0.0                      1.0                        0.0   \n",
       "1                     0.0                      1.0                        0.0   \n",
       "2                     0.0                      0.0                        1.0   \n",
       "3                     0.0                      1.0                        0.0   \n",
       "4                     0.0                      1.0                        0.0   \n",
       "\n",
       "   ...  Number_of_Vehicles_1  Number_of_Vehicles_2  Accident_Severity_Fatal  \\\n",
       "0  ...                   1.0                   0.0                      0.0   \n",
       "1  ...                   1.0                   0.0                      0.0   \n",
       "2  ...                   1.0                   0.0                      0.0   \n",
       "3  ...                   1.0                   0.0                      0.0   \n",
       "4  ...                   1.0                   0.0                      0.0   \n",
       "\n",
       "   Accident_Severity_Leve  Accident_Severity_Serio  \\\n",
       "0                     1.0                      0.0   \n",
       "1                     1.0                      0.0   \n",
       "2                     1.0                      0.0   \n",
       "3                     0.0                      1.0   \n",
       "4                     1.0                      0.0   \n",
       "\n",
       "   Road_Surface_Condition_Hielo  Road_Surface_Condition_Húmeda  \\\n",
       "0                           0.0                            0.0   \n",
       "1                           0.0                            0.0   \n",
       "2                           0.0                            0.0   \n",
       "3                           0.0                            0.0   \n",
       "4                           0.0                            0.0   \n",
       "\n",
       "   Road_Surface_Condition_Inundadas  Road_Surface_Condition_Nieve  \\\n",
       "0                               0.0                           0.0   \n",
       "1                               0.0                           0.0   \n",
       "2                               0.0                           0.0   \n",
       "3                               0.0                           0.0   \n",
       "4                               0.0                           0.0   \n",
       "\n",
       "   Road_Surface_Condition_Seca  \n",
       "0                          1.0  \n",
       "1                          1.0  \n",
       "2                          1.0  \n",
       "3                          1.0  \n",
       "4                          1.0  \n",
       "\n",
       "[5 rows x 67 columns]"
      ]
     },
     "execution_count": 104,
     "metadata": {},
     "output_type": "execute_result"
    }
   ],
   "source": [
    "final_df.head()"
   ]
  },
  {
   "attachments": {},
   "cell_type": "markdown",
   "metadata": {},
   "source": [
    "- Como vemos, vamos a realizar el clustering en un espacio de 67 dimensiones."
   ]
  },
  {
   "attachments": {},
   "cell_type": "markdown",
   "metadata": {},
   "source": [
    "## 3. Guardar Base de Datos con Preprocesamiento General"
   ]
  },
  {
   "cell_type": "code",
   "execution_count": 105,
   "metadata": {},
   "outputs": [],
   "source": [
    "final_df.to_csv('./final_preprocessed.csv')"
   ]
  },
  {
   "cell_type": "code",
   "execution_count": 113,
   "metadata": {},
   "outputs": [],
   "source": [
    "# Para cargar simplemente hacemos\n",
    "clean_df = pd.read_csv('./final_preprocessed.csv')\n",
    "#Dropeamos el indice\n",
    "clean_df = clean_df.drop('Unnamed: 0', axis=1)"
   ]
  },
  {
   "cell_type": "code",
   "execution_count": 116,
   "metadata": {},
   "outputs": [
    {
     "data": {
      "text/html": [
       "<div>\n",
       "<style scoped>\n",
       "    .dataframe tbody tr th:only-of-type {\n",
       "        vertical-align: middle;\n",
       "    }\n",
       "\n",
       "    .dataframe tbody tr th {\n",
       "        vertical-align: top;\n",
       "    }\n",
       "\n",
       "    .dataframe thead th {\n",
       "        text-align: right;\n",
       "    }\n",
       "</style>\n",
       "<table border=\"1\" class=\"dataframe\">\n",
       "  <thead>\n",
       "    <tr style=\"text-align: right;\">\n",
       "      <th></th>\n",
       "      <th>Time_Madrugada</th>\n",
       "      <th>Time_Mañana</th>\n",
       "      <th>Time_Noche</th>\n",
       "      <th>Time_Tarde</th>\n",
       "      <th>Number_of_Casualties_1</th>\n",
       "      <th>Number_of_Casualties_2</th>\n",
       "      <th>Number_of_Casualties_3</th>\n",
       "      <th>Number_of_Casualties_4</th>\n",
       "      <th>Day_of_Week_Día laboral</th>\n",
       "      <th>Day_of_Week_Fin de semana</th>\n",
       "      <th>...</th>\n",
       "      <th>Number_of_Vehicles_1</th>\n",
       "      <th>Number_of_Vehicles_2</th>\n",
       "      <th>Accident_Severity_Fatal</th>\n",
       "      <th>Accident_Severity_Leve</th>\n",
       "      <th>Accident_Severity_Serio</th>\n",
       "      <th>Road_Surface_Condition_Hielo</th>\n",
       "      <th>Road_Surface_Condition_Húmeda</th>\n",
       "      <th>Road_Surface_Condition_Inundadas</th>\n",
       "      <th>Road_Surface_Condition_Nieve</th>\n",
       "      <th>Road_Surface_Condition_Seca</th>\n",
       "    </tr>\n",
       "  </thead>\n",
       "  <tbody>\n",
       "    <tr>\n",
       "      <th>0</th>\n",
       "      <td>0.0</td>\n",
       "      <td>1.0</td>\n",
       "      <td>0.0</td>\n",
       "      <td>0.0</td>\n",
       "      <td>1.0</td>\n",
       "      <td>0.0</td>\n",
       "      <td>0.0</td>\n",
       "      <td>0.0</td>\n",
       "      <td>1.0</td>\n",
       "      <td>0.0</td>\n",
       "      <td>...</td>\n",
       "      <td>1.0</td>\n",
       "      <td>0.0</td>\n",
       "      <td>0.0</td>\n",
       "      <td>1.0</td>\n",
       "      <td>0.0</td>\n",
       "      <td>0.0</td>\n",
       "      <td>0.0</td>\n",
       "      <td>0.0</td>\n",
       "      <td>0.0</td>\n",
       "      <td>1.0</td>\n",
       "    </tr>\n",
       "    <tr>\n",
       "      <th>1</th>\n",
       "      <td>0.0</td>\n",
       "      <td>1.0</td>\n",
       "      <td>0.0</td>\n",
       "      <td>0.0</td>\n",
       "      <td>1.0</td>\n",
       "      <td>0.0</td>\n",
       "      <td>0.0</td>\n",
       "      <td>0.0</td>\n",
       "      <td>1.0</td>\n",
       "      <td>0.0</td>\n",
       "      <td>...</td>\n",
       "      <td>1.0</td>\n",
       "      <td>0.0</td>\n",
       "      <td>0.0</td>\n",
       "      <td>1.0</td>\n",
       "      <td>0.0</td>\n",
       "      <td>0.0</td>\n",
       "      <td>0.0</td>\n",
       "      <td>0.0</td>\n",
       "      <td>0.0</td>\n",
       "      <td>1.0</td>\n",
       "    </tr>\n",
       "    <tr>\n",
       "      <th>2</th>\n",
       "      <td>0.0</td>\n",
       "      <td>0.0</td>\n",
       "      <td>0.0</td>\n",
       "      <td>1.0</td>\n",
       "      <td>1.0</td>\n",
       "      <td>0.0</td>\n",
       "      <td>0.0</td>\n",
       "      <td>0.0</td>\n",
       "      <td>0.0</td>\n",
       "      <td>1.0</td>\n",
       "      <td>...</td>\n",
       "      <td>1.0</td>\n",
       "      <td>0.0</td>\n",
       "      <td>0.0</td>\n",
       "      <td>1.0</td>\n",
       "      <td>0.0</td>\n",
       "      <td>0.0</td>\n",
       "      <td>0.0</td>\n",
       "      <td>0.0</td>\n",
       "      <td>0.0</td>\n",
       "      <td>1.0</td>\n",
       "    </tr>\n",
       "    <tr>\n",
       "      <th>3</th>\n",
       "      <td>0.0</td>\n",
       "      <td>0.0</td>\n",
       "      <td>0.0</td>\n",
       "      <td>1.0</td>\n",
       "      <td>0.0</td>\n",
       "      <td>1.0</td>\n",
       "      <td>0.0</td>\n",
       "      <td>0.0</td>\n",
       "      <td>1.0</td>\n",
       "      <td>0.0</td>\n",
       "      <td>...</td>\n",
       "      <td>1.0</td>\n",
       "      <td>0.0</td>\n",
       "      <td>0.0</td>\n",
       "      <td>0.0</td>\n",
       "      <td>1.0</td>\n",
       "      <td>0.0</td>\n",
       "      <td>0.0</td>\n",
       "      <td>0.0</td>\n",
       "      <td>0.0</td>\n",
       "      <td>1.0</td>\n",
       "    </tr>\n",
       "    <tr>\n",
       "      <th>4</th>\n",
       "      <td>0.0</td>\n",
       "      <td>1.0</td>\n",
       "      <td>0.0</td>\n",
       "      <td>0.0</td>\n",
       "      <td>0.0</td>\n",
       "      <td>1.0</td>\n",
       "      <td>0.0</td>\n",
       "      <td>0.0</td>\n",
       "      <td>1.0</td>\n",
       "      <td>0.0</td>\n",
       "      <td>...</td>\n",
       "      <td>1.0</td>\n",
       "      <td>0.0</td>\n",
       "      <td>0.0</td>\n",
       "      <td>1.0</td>\n",
       "      <td>0.0</td>\n",
       "      <td>0.0</td>\n",
       "      <td>0.0</td>\n",
       "      <td>0.0</td>\n",
       "      <td>0.0</td>\n",
       "      <td>1.0</td>\n",
       "    </tr>\n",
       "  </tbody>\n",
       "</table>\n",
       "<p>5 rows × 67 columns</p>\n",
       "</div>"
      ],
      "text/plain": [
       "   Time_Madrugada  Time_Mañana  Time_Noche  Time_Tarde  \\\n",
       "0             0.0          1.0         0.0         0.0   \n",
       "1             0.0          1.0         0.0         0.0   \n",
       "2             0.0          0.0         0.0         1.0   \n",
       "3             0.0          0.0         0.0         1.0   \n",
       "4             0.0          1.0         0.0         0.0   \n",
       "\n",
       "   Number_of_Casualties_1  Number_of_Casualties_2  Number_of_Casualties_3  \\\n",
       "0                     1.0                     0.0                     0.0   \n",
       "1                     1.0                     0.0                     0.0   \n",
       "2                     1.0                     0.0                     0.0   \n",
       "3                     0.0                     1.0                     0.0   \n",
       "4                     0.0                     1.0                     0.0   \n",
       "\n",
       "   Number_of_Casualties_4  Day_of_Week_Día laboral  Day_of_Week_Fin de semana  \\\n",
       "0                     0.0                      1.0                        0.0   \n",
       "1                     0.0                      1.0                        0.0   \n",
       "2                     0.0                      0.0                        1.0   \n",
       "3                     0.0                      1.0                        0.0   \n",
       "4                     0.0                      1.0                        0.0   \n",
       "\n",
       "   ...  Number_of_Vehicles_1  Number_of_Vehicles_2  Accident_Severity_Fatal  \\\n",
       "0  ...                   1.0                   0.0                      0.0   \n",
       "1  ...                   1.0                   0.0                      0.0   \n",
       "2  ...                   1.0                   0.0                      0.0   \n",
       "3  ...                   1.0                   0.0                      0.0   \n",
       "4  ...                   1.0                   0.0                      0.0   \n",
       "\n",
       "   Accident_Severity_Leve  Accident_Severity_Serio  \\\n",
       "0                     1.0                      0.0   \n",
       "1                     1.0                      0.0   \n",
       "2                     1.0                      0.0   \n",
       "3                     0.0                      1.0   \n",
       "4                     1.0                      0.0   \n",
       "\n",
       "   Road_Surface_Condition_Hielo  Road_Surface_Condition_Húmeda  \\\n",
       "0                           0.0                            0.0   \n",
       "1                           0.0                            0.0   \n",
       "2                           0.0                            0.0   \n",
       "3                           0.0                            0.0   \n",
       "4                           0.0                            0.0   \n",
       "\n",
       "   Road_Surface_Condition_Inundadas  Road_Surface_Condition_Nieve  \\\n",
       "0                               0.0                           0.0   \n",
       "1                               0.0                           0.0   \n",
       "2                               0.0                           0.0   \n",
       "3                               0.0                           0.0   \n",
       "4                               0.0                           0.0   \n",
       "\n",
       "   Road_Surface_Condition_Seca  \n",
       "0                          1.0  \n",
       "1                          1.0  \n",
       "2                          1.0  \n",
       "3                          1.0  \n",
       "4                          1.0  \n",
       "\n",
       "[5 rows x 67 columns]"
      ]
     },
     "execution_count": 116,
     "metadata": {},
     "output_type": "execute_result"
    }
   ],
   "source": [
    "clean_df.head()"
   ]
  }
 ],
 "metadata": {
  "kernelspec": {
   "display_name": "venv",
   "language": "python",
   "name": "python3"
  },
  "language_info": {
   "codemirror_mode": {
    "name": "ipython",
    "version": 3
   },
   "file_extension": ".py",
   "mimetype": "text/x-python",
   "name": "python",
   "nbconvert_exporter": "python",
   "pygments_lexer": "ipython3",
   "version": "3.11.2"
  },
  "orig_nbformat": 4,
  "vscode": {
   "interpreter": {
    "hash": "b365be7cc5434a7f88b33032de8a66b63f5883dcd4afa27ccd63f35b69e00d74"
   }
  }
 },
 "nbformat": 4,
 "nbformat_minor": 2
}
