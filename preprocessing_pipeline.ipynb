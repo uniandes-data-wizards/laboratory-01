{
 "cells": [
  {
   "attachments": {},
   "cell_type": "markdown",
   "metadata": {},
   "source": [
    "# Preprocesamiento de los Datos - Pipeline\n",
    "\n",
    "A continuación se crea un pipeline que tiene como propósito ser utilizado para limpiar los datos de forma general antes de pasarlos a cualquier limpieza necesaria para cualquier algoritmo en particular. Se realizan, entre otros, ejercicios de one-hot encoding, imputación y normalizaión. Todo esto se consolida en un Pipeline para su reutilización."
   ]
  },
  {
   "attachments": {},
   "cell_type": "markdown",
   "metadata": {},
   "source": [
    "## 0. Instalar dependencias"
   ]
  },
  {
   "cell_type": "code",
   "execution_count": 1,
   "metadata": {},
   "outputs": [
    {
     "name": "stdout",
     "output_type": "stream",
     "text": [
      "Requirement already satisfied: appnope==0.1.3 in ./venv/lib/python3.11/site-packages (from -r requirements.txt (line 1)) (0.1.3)\n",
      "Requirement already satisfied: asttokens==2.2.1 in ./venv/lib/python3.11/site-packages (from -r requirements.txt (line 2)) (2.2.1)\n",
      "Requirement already satisfied: backcall==0.2.0 in ./venv/lib/python3.11/site-packages (from -r requirements.txt (line 3)) (0.2.0)\n",
      "Requirement already satisfied: comm==0.1.2 in ./venv/lib/python3.11/site-packages (from -r requirements.txt (line 4)) (0.1.2)\n",
      "Requirement already satisfied: contourpy==1.0.7 in ./venv/lib/python3.11/site-packages (from -r requirements.txt (line 5)) (1.0.7)\n",
      "Requirement already satisfied: cycler==0.11.0 in ./venv/lib/python3.11/site-packages (from -r requirements.txt (line 6)) (0.11.0)\n",
      "Requirement already satisfied: debugpy==1.6.6 in ./venv/lib/python3.11/site-packages (from -r requirements.txt (line 7)) (1.6.6)\n",
      "Requirement already satisfied: decorator==5.1.1 in ./venv/lib/python3.11/site-packages (from -r requirements.txt (line 8)) (5.1.1)\n",
      "Requirement already satisfied: executing==1.2.0 in ./venv/lib/python3.11/site-packages (from -r requirements.txt (line 9)) (1.2.0)\n",
      "Requirement already satisfied: fonttools==4.38.0 in ./venv/lib/python3.11/site-packages (from -r requirements.txt (line 10)) (4.38.0)\n",
      "Requirement already satisfied: ipykernel==6.21.2 in ./venv/lib/python3.11/site-packages (from -r requirements.txt (line 11)) (6.21.2)\n",
      "Requirement already satisfied: ipython==8.10.0 in ./venv/lib/python3.11/site-packages (from -r requirements.txt (line 12)) (8.10.0)\n",
      "Requirement already satisfied: jedi==0.18.2 in ./venv/lib/python3.11/site-packages (from -r requirements.txt (line 13)) (0.18.2)\n",
      "Requirement already satisfied: jupyter_client==8.0.3 in ./venv/lib/python3.11/site-packages (from -r requirements.txt (line 14)) (8.0.3)\n",
      "Requirement already satisfied: jupyter_core==5.2.0 in ./venv/lib/python3.11/site-packages (from -r requirements.txt (line 15)) (5.2.0)\n",
      "Requirement already satisfied: kiwisolver==1.4.4 in ./venv/lib/python3.11/site-packages (from -r requirements.txt (line 16)) (1.4.4)\n",
      "Requirement already satisfied: matplotlib==3.7.0 in ./venv/lib/python3.11/site-packages (from -r requirements.txt (line 17)) (3.7.0)\n",
      "Requirement already satisfied: matplotlib-inline==0.1.6 in ./venv/lib/python3.11/site-packages (from -r requirements.txt (line 18)) (0.1.6)\n",
      "Requirement already satisfied: nest-asyncio==1.5.6 in ./venv/lib/python3.11/site-packages (from -r requirements.txt (line 19)) (1.5.6)\n",
      "Requirement already satisfied: numpy==1.24.2 in ./venv/lib/python3.11/site-packages (from -r requirements.txt (line 20)) (1.24.2)\n",
      "Requirement already satisfied: packaging==23.0 in ./venv/lib/python3.11/site-packages (from -r requirements.txt (line 21)) (23.0)\n",
      "Requirement already satisfied: pandas==1.5.3 in ./venv/lib/python3.11/site-packages (from -r requirements.txt (line 22)) (1.5.3)\n",
      "Requirement already satisfied: parso==0.8.3 in ./venv/lib/python3.11/site-packages (from -r requirements.txt (line 23)) (0.8.3)\n",
      "Requirement already satisfied: pexpect==4.8.0 in ./venv/lib/python3.11/site-packages (from -r requirements.txt (line 24)) (4.8.0)\n",
      "Requirement already satisfied: pickleshare==0.7.5 in ./venv/lib/python3.11/site-packages (from -r requirements.txt (line 25)) (0.7.5)\n",
      "Requirement already satisfied: Pillow==9.4.0 in ./venv/lib/python3.11/site-packages (from -r requirements.txt (line 26)) (9.4.0)\n",
      "Requirement already satisfied: platformdirs==3.0.0 in ./venv/lib/python3.11/site-packages (from -r requirements.txt (line 27)) (3.0.0)\n",
      "Requirement already satisfied: prompt-toolkit==3.0.36 in ./venv/lib/python3.11/site-packages (from -r requirements.txt (line 28)) (3.0.36)\n",
      "Requirement already satisfied: psutil==5.9.4 in ./venv/lib/python3.11/site-packages (from -r requirements.txt (line 29)) (5.9.4)\n",
      "Requirement already satisfied: ptyprocess==0.7.0 in ./venv/lib/python3.11/site-packages (from -r requirements.txt (line 30)) (0.7.0)\n",
      "Requirement already satisfied: pure-eval==0.2.2 in ./venv/lib/python3.11/site-packages (from -r requirements.txt (line 31)) (0.2.2)\n",
      "Requirement already satisfied: Pygments==2.14.0 in ./venv/lib/python3.11/site-packages (from -r requirements.txt (line 32)) (2.14.0)\n",
      "Requirement already satisfied: pyparsing==3.0.9 in ./venv/lib/python3.11/site-packages (from -r requirements.txt (line 33)) (3.0.9)\n",
      "Requirement already satisfied: python-dateutil==2.8.2 in ./venv/lib/python3.11/site-packages (from -r requirements.txt (line 34)) (2.8.2)\n",
      "Requirement already satisfied: pytz==2022.7.1 in ./venv/lib/python3.11/site-packages (from -r requirements.txt (line 35)) (2022.7.1)\n",
      "Requirement already satisfied: pyzmq==25.0.0 in ./venv/lib/python3.11/site-packages (from -r requirements.txt (line 36)) (25.0.0)\n",
      "Requirement already satisfied: seaborn==0.12.2 in ./venv/lib/python3.11/site-packages (from -r requirements.txt (line 37)) (0.12.2)\n",
      "Requirement already satisfied: six==1.16.0 in ./venv/lib/python3.11/site-packages (from -r requirements.txt (line 38)) (1.16.0)\n",
      "Requirement already satisfied: stack-data==0.6.2 in ./venv/lib/python3.11/site-packages (from -r requirements.txt (line 39)) (0.6.2)\n",
      "Requirement already satisfied: tornado==6.2 in ./venv/lib/python3.11/site-packages (from -r requirements.txt (line 40)) (6.2)\n",
      "Requirement already satisfied: traitlets==5.9.0 in ./venv/lib/python3.11/site-packages (from -r requirements.txt (line 41)) (5.9.0)\n",
      "Requirement already satisfied: wcwidth==0.2.6 in ./venv/lib/python3.11/site-packages (from -r requirements.txt (line 42)) (0.2.6)\n"
     ]
    },
    {
     "name": "stderr",
     "output_type": "stream",
     "text": [
      "\n",
      "[notice] A new release of pip available: 22.3.1 -> 23.0\n",
      "[notice] To update, run: pip install --upgrade pip\n"
     ]
    }
   ],
   "source": [
    "%%sh\n",
    "pip install -r requirements.txt"
   ]
  },
  {
   "attachments": {},
   "cell_type": "markdown",
   "metadata": {},
   "source": [
    "## 1. Carga y exploración de los datos"
   ]
  },
  {
   "cell_type": "code",
   "execution_count": 2,
   "metadata": {},
   "outputs": [],
   "source": [
    "import pandas as pd"
   ]
  },
  {
   "cell_type": "code",
   "execution_count": 3,
   "metadata": {},
   "outputs": [],
   "source": [
    "#Cargar el archivo csv a un DataFrame\n",
    "#Note que aqui se usa un path relativo a la raiz del repositorio de Github\n",
    "df = pd.read_csv('./data/Datos_BiciAlpes.csv', delimiter=\";\", encoding='ISO-8859-1')"
   ]
  },
  {
   "cell_type": "code",
   "execution_count": 4,
   "metadata": {},
   "outputs": [
    {
     "data": {
      "text/html": [
       "<div>\n",
       "<style scoped>\n",
       "    .dataframe tbody tr th:only-of-type {\n",
       "        vertical-align: middle;\n",
       "    }\n",
       "\n",
       "    .dataframe tbody tr th {\n",
       "        vertical-align: top;\n",
       "    }\n",
       "\n",
       "    .dataframe thead th {\n",
       "        text-align: right;\n",
       "    }\n",
       "</style>\n",
       "<table border=\"1\" class=\"dataframe\">\n",
       "  <thead>\n",
       "    <tr style=\"text-align: right;\">\n",
       "      <th></th>\n",
       "      <th>Time</th>\n",
       "      <th>Number_of_Casualties</th>\n",
       "      <th>Day_of_Week</th>\n",
       "      <th>Road_Type</th>\n",
       "      <th>Speed_limit</th>\n",
       "      <th>Light_Conditions</th>\n",
       "      <th>Weather_Conditions</th>\n",
       "      <th>Road_Surface_Conditions</th>\n",
       "      <th>Urban_or_Rural_Area</th>\n",
       "      <th>Vehicle_Type</th>\n",
       "      <th>Did_Police_Officer_Attend_Scene_of_Accident</th>\n",
       "      <th>Junction_Detail</th>\n",
       "      <th>Number_of_Vehicles</th>\n",
       "      <th>Accident_Severity</th>\n",
       "      <th>Unnamed: 14</th>\n",
       "    </tr>\n",
       "  </thead>\n",
       "  <tbody>\n",
       "    <tr>\n",
       "      <th>0</th>\n",
       "      <td>Mañana</td>\n",
       "      <td>1</td>\n",
       "      <td>Día laboral</td>\n",
       "      <td>6</td>\n",
       "      <td>30.0</td>\n",
       "      <td>1</td>\n",
       "      <td>1</td>\n",
       "      <td>1</td>\n",
       "      <td>1</td>\n",
       "      <td>bike</td>\n",
       "      <td>1</td>\n",
       "      <td>3</td>\n",
       "      <td>1</td>\n",
       "      <td>3</td>\n",
       "      <td>NaN</td>\n",
       "    </tr>\n",
       "    <tr>\n",
       "      <th>1</th>\n",
       "      <td>Mañana</td>\n",
       "      <td>1</td>\n",
       "      <td>Día laboral</td>\n",
       "      <td>6</td>\n",
       "      <td>30.0</td>\n",
       "      <td>1</td>\n",
       "      <td>1</td>\n",
       "      <td>1</td>\n",
       "      <td>1</td>\n",
       "      <td>bike</td>\n",
       "      <td>1</td>\n",
       "      <td>0</td>\n",
       "      <td>1</td>\n",
       "      <td>3</td>\n",
       "      <td>NaN</td>\n",
       "    </tr>\n",
       "    <tr>\n",
       "      <th>2</th>\n",
       "      <td>Tarde</td>\n",
       "      <td>1</td>\n",
       "      <td>Fin de semana</td>\n",
       "      <td>6</td>\n",
       "      <td>30.0</td>\n",
       "      <td>1</td>\n",
       "      <td>1</td>\n",
       "      <td>1</td>\n",
       "      <td>1</td>\n",
       "      <td>bike</td>\n",
       "      <td>1</td>\n",
       "      <td>3</td>\n",
       "      <td>1</td>\n",
       "      <td>3</td>\n",
       "      <td>NaN</td>\n",
       "    </tr>\n",
       "    <tr>\n",
       "      <th>3</th>\n",
       "      <td>Tarde</td>\n",
       "      <td>2</td>\n",
       "      <td>Día laboral</td>\n",
       "      <td>6</td>\n",
       "      <td>30.0</td>\n",
       "      <td>1</td>\n",
       "      <td>1</td>\n",
       "      <td>1</td>\n",
       "      <td>1</td>\n",
       "      <td>bike</td>\n",
       "      <td>1</td>\n",
       "      <td>6</td>\n",
       "      <td>1</td>\n",
       "      <td>2</td>\n",
       "      <td>NaN</td>\n",
       "    </tr>\n",
       "    <tr>\n",
       "      <th>4</th>\n",
       "      <td>Mañana</td>\n",
       "      <td>2</td>\n",
       "      <td>Día laboral</td>\n",
       "      <td>6</td>\n",
       "      <td>30.0</td>\n",
       "      <td>1</td>\n",
       "      <td>1</td>\n",
       "      <td>1</td>\n",
       "      <td>1</td>\n",
       "      <td>bike</td>\n",
       "      <td>1</td>\n",
       "      <td>6</td>\n",
       "      <td>1</td>\n",
       "      <td>3</td>\n",
       "      <td>NaN</td>\n",
       "    </tr>\n",
       "    <tr>\n",
       "      <th>5</th>\n",
       "      <td>Tarde</td>\n",
       "      <td>2</td>\n",
       "      <td>Día laboral</td>\n",
       "      <td>6</td>\n",
       "      <td>30.0</td>\n",
       "      <td>1</td>\n",
       "      <td>1</td>\n",
       "      <td>1</td>\n",
       "      <td>1</td>\n",
       "      <td>bike</td>\n",
       "      <td>1</td>\n",
       "      <td>3</td>\n",
       "      <td>1</td>\n",
       "      <td>3</td>\n",
       "      <td>NaN</td>\n",
       "    </tr>\n",
       "    <tr>\n",
       "      <th>6</th>\n",
       "      <td>Tarde</td>\n",
       "      <td>1</td>\n",
       "      <td>Fin de semana</td>\n",
       "      <td>6</td>\n",
       "      <td>30.0</td>\n",
       "      <td>1</td>\n",
       "      <td>1</td>\n",
       "      <td>1</td>\n",
       "      <td>1</td>\n",
       "      <td>bike</td>\n",
       "      <td>1</td>\n",
       "      <td>0</td>\n",
       "      <td>1</td>\n",
       "      <td>2</td>\n",
       "      <td>NaN</td>\n",
       "    </tr>\n",
       "    <tr>\n",
       "      <th>7</th>\n",
       "      <td>Tarde</td>\n",
       "      <td>1</td>\n",
       "      <td>Día laboral</td>\n",
       "      <td>3</td>\n",
       "      <td>30.0</td>\n",
       "      <td>4</td>\n",
       "      <td>1</td>\n",
       "      <td>1</td>\n",
       "      <td>1</td>\n",
       "      <td>bike</td>\n",
       "      <td>1</td>\n",
       "      <td>0</td>\n",
       "      <td>1</td>\n",
       "      <td>3</td>\n",
       "      <td>NaN</td>\n",
       "    </tr>\n",
       "    <tr>\n",
       "      <th>8</th>\n",
       "      <td>Noche</td>\n",
       "      <td>1</td>\n",
       "      <td>Día laboral</td>\n",
       "      <td>3</td>\n",
       "      <td>30.0</td>\n",
       "      <td>4</td>\n",
       "      <td>1</td>\n",
       "      <td>2</td>\n",
       "      <td>1</td>\n",
       "      <td>bike</td>\n",
       "      <td>1</td>\n",
       "      <td>3</td>\n",
       "      <td>1</td>\n",
       "      <td>3</td>\n",
       "      <td>NaN</td>\n",
       "    </tr>\n",
       "    <tr>\n",
       "      <th>9</th>\n",
       "      <td>Tarde</td>\n",
       "      <td>1</td>\n",
       "      <td>Fin de semana</td>\n",
       "      <td>3</td>\n",
       "      <td>30.0</td>\n",
       "      <td>1</td>\n",
       "      <td>1</td>\n",
       "      <td>1</td>\n",
       "      <td>1</td>\n",
       "      <td>bike</td>\n",
       "      <td>1</td>\n",
       "      <td>6</td>\n",
       "      <td>1</td>\n",
       "      <td>3</td>\n",
       "      <td>NaN</td>\n",
       "    </tr>\n",
       "    <tr>\n",
       "      <th>10</th>\n",
       "      <td>Tarde</td>\n",
       "      <td>1</td>\n",
       "      <td>Día laboral</td>\n",
       "      <td>1</td>\n",
       "      <td>30.0</td>\n",
       "      <td>1</td>\n",
       "      <td>1</td>\n",
       "      <td>1</td>\n",
       "      <td>1</td>\n",
       "      <td>bike</td>\n",
       "      <td>2</td>\n",
       "      <td>1</td>\n",
       "      <td>1</td>\n",
       "      <td>3</td>\n",
       "      <td>NaN</td>\n",
       "    </tr>\n",
       "    <tr>\n",
       "      <th>11</th>\n",
       "      <td>Mañana</td>\n",
       "      <td>1</td>\n",
       "      <td>Día laboral</td>\n",
       "      <td>6</td>\n",
       "      <td>30.0</td>\n",
       "      <td>1</td>\n",
       "      <td>1</td>\n",
       "      <td>1</td>\n",
       "      <td>1</td>\n",
       "      <td>bike</td>\n",
       "      <td>2</td>\n",
       "      <td>6</td>\n",
       "      <td>1</td>\n",
       "      <td>2</td>\n",
       "      <td>NaN</td>\n",
       "    </tr>\n",
       "    <tr>\n",
       "      <th>12</th>\n",
       "      <td>Mañana</td>\n",
       "      <td>1</td>\n",
       "      <td>Día laboral</td>\n",
       "      <td>6</td>\n",
       "      <td>30.0</td>\n",
       "      <td>1</td>\n",
       "      <td>1</td>\n",
       "      <td>1</td>\n",
       "      <td>1</td>\n",
       "      <td>bike</td>\n",
       "      <td>2</td>\n",
       "      <td>3</td>\n",
       "      <td>1</td>\n",
       "      <td>3</td>\n",
       "      <td>NaN</td>\n",
       "    </tr>\n",
       "    <tr>\n",
       "      <th>13</th>\n",
       "      <td>Mañana</td>\n",
       "      <td>1</td>\n",
       "      <td>Día laboral</td>\n",
       "      <td>6</td>\n",
       "      <td>30.0</td>\n",
       "      <td>1</td>\n",
       "      <td>1</td>\n",
       "      <td>1</td>\n",
       "      <td>1</td>\n",
       "      <td>bike</td>\n",
       "      <td>1</td>\n",
       "      <td>3</td>\n",
       "      <td>1</td>\n",
       "      <td>3</td>\n",
       "      <td>NaN</td>\n",
       "    </tr>\n",
       "    <tr>\n",
       "      <th>14</th>\n",
       "      <td>Mañana</td>\n",
       "      <td>1</td>\n",
       "      <td>Día laboral</td>\n",
       "      <td>6</td>\n",
       "      <td>30.0</td>\n",
       "      <td>1</td>\n",
       "      <td>9</td>\n",
       "      <td>1</td>\n",
       "      <td>1</td>\n",
       "      <td>bike</td>\n",
       "      <td>1</td>\n",
       "      <td>3</td>\n",
       "      <td>1</td>\n",
       "      <td>3</td>\n",
       "      <td>NaN</td>\n",
       "    </tr>\n",
       "    <tr>\n",
       "      <th>15</th>\n",
       "      <td>Noche</td>\n",
       "      <td>1</td>\n",
       "      <td>Día laboral</td>\n",
       "      <td>6</td>\n",
       "      <td>30.0</td>\n",
       "      <td>1</td>\n",
       "      <td>1</td>\n",
       "      <td>1</td>\n",
       "      <td>1</td>\n",
       "      <td>bike</td>\n",
       "      <td>1</td>\n",
       "      <td>3</td>\n",
       "      <td>1</td>\n",
       "      <td>3</td>\n",
       "      <td>NaN</td>\n",
       "    </tr>\n",
       "    <tr>\n",
       "      <th>16</th>\n",
       "      <td>Mañana</td>\n",
       "      <td>1</td>\n",
       "      <td>Día laboral</td>\n",
       "      <td>6</td>\n",
       "      <td>30.0</td>\n",
       "      <td>1</td>\n",
       "      <td>1</td>\n",
       "      <td>1</td>\n",
       "      <td>1</td>\n",
       "      <td>bike</td>\n",
       "      <td>1</td>\n",
       "      <td>6</td>\n",
       "      <td>1</td>\n",
       "      <td>3</td>\n",
       "      <td>NaN</td>\n",
       "    </tr>\n",
       "    <tr>\n",
       "      <th>17</th>\n",
       "      <td>Mañana</td>\n",
       "      <td>1</td>\n",
       "      <td>Día laboral</td>\n",
       "      <td>6</td>\n",
       "      <td>30.0</td>\n",
       "      <td>1</td>\n",
       "      <td>1</td>\n",
       "      <td>2</td>\n",
       "      <td>1</td>\n",
       "      <td>bike</td>\n",
       "      <td>1</td>\n",
       "      <td>3</td>\n",
       "      <td>1</td>\n",
       "      <td>3</td>\n",
       "      <td>NaN</td>\n",
       "    </tr>\n",
       "    <tr>\n",
       "      <th>18</th>\n",
       "      <td>Noche</td>\n",
       "      <td>1</td>\n",
       "      <td>Día laboral</td>\n",
       "      <td>6</td>\n",
       "      <td>30.0</td>\n",
       "      <td>4</td>\n",
       "      <td>1</td>\n",
       "      <td>1</td>\n",
       "      <td>1</td>\n",
       "      <td>bike</td>\n",
       "      <td>1</td>\n",
       "      <td>0</td>\n",
       "      <td>1</td>\n",
       "      <td>3</td>\n",
       "      <td>NaN</td>\n",
       "    </tr>\n",
       "    <tr>\n",
       "      <th>19</th>\n",
       "      <td>Noche</td>\n",
       "      <td>1</td>\n",
       "      <td>Día laboral</td>\n",
       "      <td>6</td>\n",
       "      <td>30.0</td>\n",
       "      <td>1</td>\n",
       "      <td>1</td>\n",
       "      <td>1</td>\n",
       "      <td>1</td>\n",
       "      <td>bike</td>\n",
       "      <td>1</td>\n",
       "      <td>3</td>\n",
       "      <td>1</td>\n",
       "      <td>3</td>\n",
       "      <td>NaN</td>\n",
       "    </tr>\n",
       "  </tbody>\n",
       "</table>\n",
       "</div>"
      ],
      "text/plain": [
       "      Time  Number_of_Casualties    Day_of_Week  Road_Type  Speed_limit  \\\n",
       "0   Mañana                     1    Día laboral          6         30.0   \n",
       "1   Mañana                     1    Día laboral          6         30.0   \n",
       "2    Tarde                     1  Fin de semana          6         30.0   \n",
       "3    Tarde                     2    Día laboral          6         30.0   \n",
       "4   Mañana                     2    Día laboral          6         30.0   \n",
       "5    Tarde                     2    Día laboral          6         30.0   \n",
       "6    Tarde                     1  Fin de semana          6         30.0   \n",
       "7    Tarde                     1    Día laboral          3         30.0   \n",
       "8    Noche                     1    Día laboral          3         30.0   \n",
       "9    Tarde                     1  Fin de semana          3         30.0   \n",
       "10   Tarde                     1    Día laboral          1         30.0   \n",
       "11  Mañana                     1    Día laboral          6         30.0   \n",
       "12  Mañana                     1    Día laboral          6         30.0   \n",
       "13  Mañana                     1    Día laboral          6         30.0   \n",
       "14  Mañana                     1    Día laboral          6         30.0   \n",
       "15   Noche                     1    Día laboral          6         30.0   \n",
       "16  Mañana                     1    Día laboral          6         30.0   \n",
       "17  Mañana                     1    Día laboral          6         30.0   \n",
       "18   Noche                     1    Día laboral          6         30.0   \n",
       "19   Noche                     1    Día laboral          6         30.0   \n",
       "\n",
       "    Light_Conditions  Weather_Conditions  Road_Surface_Conditions  \\\n",
       "0                  1                   1                        1   \n",
       "1                  1                   1                        1   \n",
       "2                  1                   1                        1   \n",
       "3                  1                   1                        1   \n",
       "4                  1                   1                        1   \n",
       "5                  1                   1                        1   \n",
       "6                  1                   1                        1   \n",
       "7                  4                   1                        1   \n",
       "8                  4                   1                        2   \n",
       "9                  1                   1                        1   \n",
       "10                 1                   1                        1   \n",
       "11                 1                   1                        1   \n",
       "12                 1                   1                        1   \n",
       "13                 1                   1                        1   \n",
       "14                 1                   9                        1   \n",
       "15                 1                   1                        1   \n",
       "16                 1                   1                        1   \n",
       "17                 1                   1                        2   \n",
       "18                 4                   1                        1   \n",
       "19                 1                   1                        1   \n",
       "\n",
       "    Urban_or_Rural_Area Vehicle_Type  \\\n",
       "0                     1         bike   \n",
       "1                     1         bike   \n",
       "2                     1         bike   \n",
       "3                     1         bike   \n",
       "4                     1         bike   \n",
       "5                     1         bike   \n",
       "6                     1         bike   \n",
       "7                     1         bike   \n",
       "8                     1         bike   \n",
       "9                     1         bike   \n",
       "10                    1         bike   \n",
       "11                    1         bike   \n",
       "12                    1         bike   \n",
       "13                    1         bike   \n",
       "14                    1         bike   \n",
       "15                    1         bike   \n",
       "16                    1         bike   \n",
       "17                    1         bike   \n",
       "18                    1         bike   \n",
       "19                    1         bike   \n",
       "\n",
       "    Did_Police_Officer_Attend_Scene_of_Accident  Junction_Detail  \\\n",
       "0                                             1                3   \n",
       "1                                             1                0   \n",
       "2                                             1                3   \n",
       "3                                             1                6   \n",
       "4                                             1                6   \n",
       "5                                             1                3   \n",
       "6                                             1                0   \n",
       "7                                             1                0   \n",
       "8                                             1                3   \n",
       "9                                             1                6   \n",
       "10                                            2                1   \n",
       "11                                            2                6   \n",
       "12                                            2                3   \n",
       "13                                            1                3   \n",
       "14                                            1                3   \n",
       "15                                            1                3   \n",
       "16                                            1                6   \n",
       "17                                            1                3   \n",
       "18                                            1                0   \n",
       "19                                            1                3   \n",
       "\n",
       "    Number_of_Vehicles  Accident_Severity  Unnamed: 14  \n",
       "0                    1                  3          NaN  \n",
       "1                    1                  3          NaN  \n",
       "2                    1                  3          NaN  \n",
       "3                    1                  2          NaN  \n",
       "4                    1                  3          NaN  \n",
       "5                    1                  3          NaN  \n",
       "6                    1                  2          NaN  \n",
       "7                    1                  3          NaN  \n",
       "8                    1                  3          NaN  \n",
       "9                    1                  3          NaN  \n",
       "10                   1                  3          NaN  \n",
       "11                   1                  2          NaN  \n",
       "12                   1                  3          NaN  \n",
       "13                   1                  3          NaN  \n",
       "14                   1                  3          NaN  \n",
       "15                   1                  3          NaN  \n",
       "16                   1                  3          NaN  \n",
       "17                   1                  3          NaN  \n",
       "18                   1                  3          NaN  \n",
       "19                   1                  3          NaN  "
      ]
     },
     "execution_count": 4,
     "metadata": {},
     "output_type": "execute_result"
    }
   ],
   "source": [
    "#Observar primeros 20 resultados\n",
    "df.head(20)"
   ]
  },
  {
   "attachments": {},
   "cell_type": "markdown",
   "metadata": {},
   "source": [
    "* Miremos el tipo de variables"
   ]
  },
  {
   "cell_type": "code",
   "execution_count": 5,
   "metadata": {},
   "outputs": [
    {
     "data": {
      "text/plain": [
       "Time                                            object\n",
       "Number_of_Casualties                             int64\n",
       "Day_of_Week                                     object\n",
       "Road_Type                                        int64\n",
       "Speed_limit                                    float64\n",
       "Light_Conditions                                 int64\n",
       "Weather_Conditions                               int64\n",
       "Road_Surface_Conditions                          int64\n",
       "Urban_or_Rural_Area                              int64\n",
       "Vehicle_Type                                    object\n",
       "Did_Police_Officer_Attend_Scene_of_Accident      int64\n",
       "Junction_Detail                                  int64\n",
       "Number_of_Vehicles                               int64\n",
       "Accident_Severity                                int64\n",
       "Unnamed: 14                                    float64\n",
       "dtype: object"
      ]
     },
     "execution_count": 5,
     "metadata": {},
     "output_type": "execute_result"
    }
   ],
   "source": [
    "#Parece que hay que cambiar algunas de tipo object a str.\n",
    "df.dtypes"
   ]
  },
  {
   "cell_type": "code",
   "execution_count": 6,
   "metadata": {},
   "outputs": [],
   "source": [
    "#Pasar las de objeto a str\n",
    "df['Time'] = df['Time'].astype('string')\n",
    "df['Day_of_Week'] = df['Day_of_Week'].astype('string')\n",
    "df['Vehicle_Type'] = df['Vehicle_Type'].astype('string')"
   ]
  },
  {
   "cell_type": "code",
   "execution_count": 7,
   "metadata": {},
   "outputs": [
    {
     "data": {
      "text/plain": [
       "Time                                            string\n",
       "Number_of_Casualties                             int64\n",
       "Day_of_Week                                     string\n",
       "Road_Type                                        int64\n",
       "Speed_limit                                    float64\n",
       "Light_Conditions                                 int64\n",
       "Weather_Conditions                               int64\n",
       "Road_Surface_Conditions                          int64\n",
       "Urban_or_Rural_Area                              int64\n",
       "Vehicle_Type                                    string\n",
       "Did_Police_Officer_Attend_Scene_of_Accident      int64\n",
       "Junction_Detail                                  int64\n",
       "Number_of_Vehicles                               int64\n",
       "Accident_Severity                                int64\n",
       "Unnamed: 14                                    float64\n",
       "dtype: object"
      ]
     },
     "execution_count": 7,
     "metadata": {},
     "output_type": "execute_result"
    }
   ],
   "source": [
    "#Verificar\n",
    "df.dtypes"
   ]
  },
  {
   "attachments": {},
   "cell_type": "markdown",
   "metadata": {},
   "source": [
    "* Ahora vamos a observar las distribuciones de las variables generando diagramas de barras. Esto nos va a servir más adelante para ver si hay outliers y tratar de aplicar transformaciones para corregir esto."
   ]
  },
  {
   "cell_type": "code",
   "execution_count": 8,
   "metadata": {},
   "outputs": [
    {
     "data": {
      "text/plain": [
       "<Axes: >"
      ]
     },
     "execution_count": 8,
     "metadata": {},
     "output_type": "execute_result"
    },
    {
     "data": {
      "image/png": "[encoded data removed]",
      "text/plain": [
       "<Figure size 640x480 with 1 Axes>"
      ]
     },
     "metadata": {},
     "output_type": "display_data"
    }
   ],
   "source": [
    "df['Time'].value_counts().plot(kind='bar')"
   ]
  },
  {
   "attachments": {},
   "cell_type": "markdown",
   "metadata": {},
   "source": [
    "* Nota: Vemos que hay una **representacion baja de valores de madrugada**. "
   ]
  },
  {
   "cell_type": "code",
   "execution_count": 9,
   "metadata": {},
   "outputs": [
    {
     "data": {
      "text/plain": [
       "<Axes: >"
      ]
     },
     "execution_count": 9,
     "metadata": {},
     "output_type": "execute_result"
    },
    {
     "data": {
      "image/png": "[encoded data removed]",
      "text/plain": [
       "<Figure size 640x480 with 1 Axes>"
      ]
     },
     "metadata": {},
     "output_type": "display_data"
    }
   ],
   "source": [
    "df['Day_of_Week'].value_counts().plot(kind='bar')"
   ]
  },
  {
   "cell_type": "code",
   "execution_count": 10,
   "metadata": {},
   "outputs": [
    {
     "data": {
      "text/plain": [
       "<Axes: >"
      ]
     },
     "execution_count": 10,
     "metadata": {},
     "output_type": "execute_result"
    },
    {
     "data": {
      "image/png": "[encoded data removed]",
      "text/plain": [
       "<Figure size 640x480 with 1 Axes>"
      ]
     },
     "metadata": {},
     "output_type": "display_data"
    }
   ],
   "source": [
    "df['Vehicle_Type'].value_counts().plot(kind='bar')"
   ]
  },
  {
   "attachments": {},
   "cell_type": "markdown",
   "metadata": {},
   "source": [
    "**Esto es problematico, vemos que en la base de datos solo hay ejemplos para muertes de bicicletas**. Por tanto esta variable es irrelevante. **Vamos a dropearla de una vez de la base de datos**"
   ]
  },
  {
   "cell_type": "code",
   "execution_count": 11,
   "metadata": {},
   "outputs": [],
   "source": [
    "df = df.drop('Vehicle_Type', axis=1)"
   ]
  },
  {
   "cell_type": "code",
   "execution_count": 12,
   "metadata": {},
   "outputs": [
    {
     "data": {
      "text/plain": [
       "Time                                            string\n",
       "Number_of_Casualties                             int64\n",
       "Day_of_Week                                     string\n",
       "Road_Type                                        int64\n",
       "Speed_limit                                    float64\n",
       "Light_Conditions                                 int64\n",
       "Weather_Conditions                               int64\n",
       "Road_Surface_Conditions                          int64\n",
       "Urban_or_Rural_Area                              int64\n",
       "Did_Police_Officer_Attend_Scene_of_Accident      int64\n",
       "Junction_Detail                                  int64\n",
       "Number_of_Vehicles                               int64\n",
       "Accident_Severity                                int64\n",
       "Unnamed: 14                                    float64\n",
       "dtype: object"
      ]
     },
     "execution_count": 12,
     "metadata": {},
     "output_type": "execute_result"
    }
   ],
   "source": [
    "df.dtypes"
   ]
  },
  {
   "attachments": {},
   "cell_type": "markdown",
   "metadata": {},
   "source": [
    "* Ahora bien, ya que terminamos el analisis de las variables string continuaremos con las que son categoricas segun la base de datos. Sin embargo antes analizaremos una la columna Unnamed. **Llama la atención que hay un alto porcentaje de valores nulos**"
   ]
  },
  {
   "cell_type": "code",
   "execution_count": 13,
   "metadata": {},
   "outputs": [
    {
     "name": "stdout",
     "output_type": "stream",
     "text": [
      "Hay 5338 valores nulos en esta columna de 5338\n"
     ]
    }
   ],
   "source": [
    "print('Hay ' + str(len(df['Unnamed: 14'].isna())) + ' valores nulos en esta columna de ' + str(df.shape[0]))"
   ]
  },
  {
   "cell_type": "code",
   "execution_count": 14,
   "metadata": {},
   "outputs": [],
   "source": [
    "#Vamos a dropearla\n",
    "df = df.drop('Unnamed: 14', axis=1)"
   ]
  },
  {
   "attachments": {},
   "cell_type": "markdown",
   "metadata": {},
   "source": [
    "### 1.1 Análisis Variables categoricas"
   ]
  },
  {
   "attachments": {},
   "cell_type": "markdown",
   "metadata": {},
   "source": [
    "* Segun el diccionario de la base de datos las siguientes variables son categoricas\n",
    "    - Accident_severity\n",
    "    - Day_of_Week\n",
    "    - Time\n",
    "    - Road type\n",
    "    - Junction_detail\n",
    "    - Light_conditions\n",
    "    - Weather_Conditions\n",
    "    - Road_surface_conditions\n",
    "    - Urban_or_Rural_Area\n",
    "    - Vehicle_Type\n",
    "    - Did_Police_Officer_Attend_Scene_of_Accident\n",
    "\n",
    "\n",
    "\n",
    "* Vamos a convertir estas a str y ver sus distribuciones entre las categoriasy analizar los resultados."
   ]
  },
  {
   "attachments": {},
   "cell_type": "markdown",
   "metadata": {},
   "source": [
    "#### 1.1.1 Convertir a string"
   ]
  },
  {
   "cell_type": "code",
   "execution_count": 15,
   "metadata": {},
   "outputs": [],
   "source": [
    "cat_vars = ['Accident_Severity', \n",
    "'Day_of_Week', \n",
    "'Time', 'Road_Type', \n",
    "'Junction_Detail', \n",
    "'Light_Conditions', \n",
    "'Weather_Conditions', \n",
    "'Road_Surface_Conditions', \n",
    "'Urban_or_Rural_Area', \n",
    "#'Vehicle_type', // Esta la dropeamos\n",
    "'Did_Police_Officer_Attend_Scene_of_Accident']\n",
    "\n",
    "for var in cat_vars:\n",
    "    df[var] = df[var].astype('string')"
   ]
  },
  {
   "cell_type": "code",
   "execution_count": 16,
   "metadata": {},
   "outputs": [
    {
     "data": {
      "text/plain": [
       "Time                                            string\n",
       "Number_of_Casualties                             int64\n",
       "Day_of_Week                                     string\n",
       "Road_Type                                       string\n",
       "Speed_limit                                    float64\n",
       "Light_Conditions                                string\n",
       "Weather_Conditions                              string\n",
       "Road_Surface_Conditions                         string\n",
       "Urban_or_Rural_Area                             string\n",
       "Did_Police_Officer_Attend_Scene_of_Accident     string\n",
       "Junction_Detail                                 string\n",
       "Number_of_Vehicles                               int64\n",
       "Accident_Severity                               string\n",
       "dtype: object"
      ]
     },
     "execution_count": 16,
     "metadata": {},
     "output_type": "execute_result"
    }
   ],
   "source": [
    "df.dtypes"
   ]
  },
  {
   "attachments": {},
   "cell_type": "markdown",
   "metadata": {},
   "source": [
    "#### 1.1.2 Reemplazar por labels del diccionario para las que faltan y ver su distribucion"
   ]
  },
  {
   "cell_type": "code",
   "execution_count": 17,
   "metadata": {},
   "outputs": [],
   "source": [
    "# Bien, ahora miremos las distribuciones\n",
    "def plot_distribution(df: pd.DataFrame, col: str):\n",
    "    df[col].value_counts().plot(kind='bar')"
   ]
  },
  {
   "cell_type": "code",
   "execution_count": 18,
   "metadata": {},
   "outputs": [],
   "source": [
    "df['Accident_Severity'] = df['Accident_Severity'].replace({'1': 'Fatal', '2': 'Serio', '3': 'Leve'})"
   ]
  },
  {
   "cell_type": "code",
   "execution_count": 19,
   "metadata": {},
   "outputs": [
    {
     "data": {
      "image/png": "[encoded data removed]",
      "text/plain": [
       "<Figure size 640x480 with 1 Axes>"
      ]
     },
     "metadata": {},
     "output_type": "display_data"
    }
   ],
   "source": [
    "plot_distribution(df, 'Accident_Severity')"
   ]
  },
  {
   "cell_type": "code",
   "execution_count": 20,
   "metadata": {},
   "outputs": [],
   "source": [
    "labels = ['Rotonda', '1SoloSentido', 'Autovia', 'Calzada', 'Circunvalacion', 'Desconocida']\n",
    "numbers = list(map(str,[1,2,3,6,7,9]))\n",
    "df['Road_Type'] = df['Road_Type'].replace(dict(zip(numbers, labels)))"
   ]
  },
  {
   "cell_type": "code",
   "execution_count": 21,
   "metadata": {},
   "outputs": [
    {
     "data": {
      "image/png": "[encoded data removed]",
      "text/plain": [
       "<Figure size 640x480 with 1 Axes>"
      ]
     },
     "metadata": {},
     "output_type": "display_data"
    }
   ],
   "source": [
    "plot_distribution(df, 'Road_Type')"
   ]
  },
  {
   "cell_type": "code",
   "execution_count": 44,
   "metadata": {},
   "outputs": [
    {
     "data": {
      "image/png": "[encoded data removed]",
      "text/plain": [
       "<Figure size 640x480 with 1 Axes>"
      ]
     },
     "metadata": {},
     "output_type": "display_data"
    }
   ],
   "source": [
    "plot_distribution(df, 'Accident_Severity')"
   ]
  }
 ],
 "metadata": {
  "kernelspec": {
   "display_name": "venv",
   "language": "python",
   "name": "python3"
  },
  "language_info": {
   "codemirror_mode": {
    "name": "ipython",
    "version": 3
   },
   "file_extension": ".py",
   "mimetype": "text/x-python",
   "name": "python",
   "nbconvert_exporter": "python",
   "pygments_lexer": "ipython3",
   "version": "3.11.2"
  },
  "orig_nbformat": 4,
  "vscode": {
   "interpreter": {
    "hash": "b365be7cc5434a7f88b33032de8a66b63f5883dcd4afa27ccd63f35b69e00d74"
   }
  }
 },
 "nbformat": 4,
 "nbformat_minor": 2
}
