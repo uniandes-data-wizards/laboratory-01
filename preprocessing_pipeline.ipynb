{
 "cells": [
  {
   "attachments": {},
   "cell_type": "markdown",
   "metadata": {},
   "source": [
    "# Preprocesamiento de los Datos - Pipeline\n",
    "\n",
    "A continuación se crea un pipeline que tiene como propósito ser utilizado para limpiar los datos de forma general antes de pasarlos a cualquier limpieza necesaria para cualquier algoritmo en particular. Se realizan, entre otros, ejercicios de one-hot encoding, imputación y normalizaión. Todo esto se consolida en un Pipeline para su reutilización."
   ]
  },
  {
   "attachments": {},
   "cell_type": "markdown",
   "metadata": {},
   "source": [
    "## 0. Instalar dependencias"
   ]
  },
  {
   "cell_type": "code",
   "execution_count": null,
   "metadata": {},
   "outputs": [],
   "source": [
    "%%sh\n",
    "pip install -r requirements.txt"
   ]
  },
  {
   "attachments": {},
   "cell_type": "markdown",
   "metadata": {},
   "source": [
    "## 1. Carga y exploración de los datos"
   ]
  },
  {
   "cell_type": "code",
   "execution_count": 1,
   "metadata": {},
   "outputs": [],
   "source": [
    "import pandas as pd"
   ]
  },
  {
   "cell_type": "code",
   "execution_count": 2,
   "metadata": {},
   "outputs": [],
   "source": [
    "#Cargar el archivo csv a un DataFrame\n",
    "#Note que aqui se usa un path relativo a la raiz del repositorio de Github\n",
    "df = pd.read_csv('./data/Datos_BiciAlpes.csv', delimiter=\";\", encoding='ISO-8859-1')"
   ]
  },
  {
   "cell_type": "code",
   "execution_count": 3,
   "metadata": {},
   "outputs": [
    {
     "data": {
      "text/html": [
       "<div>\n",
       "<style scoped>\n",
       "    .dataframe tbody tr th:only-of-type {\n",
       "        vertical-align: middle;\n",
       "    }\n",
       "\n",
       "    .dataframe tbody tr th {\n",
       "        vertical-align: top;\n",
       "    }\n",
       "\n",
       "    .dataframe thead th {\n",
       "        text-align: right;\n",
       "    }\n",
       "</style>\n",
       "<table border=\"1\" class=\"dataframe\">\n",
       "  <thead>\n",
       "    <tr style=\"text-align: right;\">\n",
       "      <th></th>\n",
       "      <th>Time</th>\n",
       "      <th>Number_of_Casualties</th>\n",
       "      <th>Day_of_Week</th>\n",
       "      <th>Road_Type</th>\n",
       "      <th>Speed_limit</th>\n",
       "      <th>Light_Conditions</th>\n",
       "      <th>Weather_Conditions</th>\n",
       "      <th>Road_Surface_Conditions</th>\n",
       "      <th>Urban_or_Rural_Area</th>\n",
       "      <th>Vehicle_Type</th>\n",
       "      <th>Did_Police_Officer_Attend_Scene_of_Accident</th>\n",
       "      <th>Junction_Detail</th>\n",
       "      <th>Number_of_Vehicles</th>\n",
       "      <th>Accident_Severity</th>\n",
       "      <th>Unnamed: 14</th>\n",
       "    </tr>\n",
       "  </thead>\n",
       "  <tbody>\n",
       "    <tr>\n",
       "      <th>0</th>\n",
       "      <td>Mañana</td>\n",
       "      <td>1</td>\n",
       "      <td>Día laboral</td>\n",
       "      <td>6</td>\n",
       "      <td>30.0</td>\n",
       "      <td>1</td>\n",
       "      <td>1</td>\n",
       "      <td>1</td>\n",
       "      <td>1</td>\n",
       "      <td>bike</td>\n",
       "      <td>1</td>\n",
       "      <td>3</td>\n",
       "      <td>1</td>\n",
       "      <td>3</td>\n",
       "      <td>NaN</td>\n",
       "    </tr>\n",
       "    <tr>\n",
       "      <th>1</th>\n",
       "      <td>Mañana</td>\n",
       "      <td>1</td>\n",
       "      <td>Día laboral</td>\n",
       "      <td>6</td>\n",
       "      <td>30.0</td>\n",
       "      <td>1</td>\n",
       "      <td>1</td>\n",
       "      <td>1</td>\n",
       "      <td>1</td>\n",
       "      <td>bike</td>\n",
       "      <td>1</td>\n",
       "      <td>0</td>\n",
       "      <td>1</td>\n",
       "      <td>3</td>\n",
       "      <td>NaN</td>\n",
       "    </tr>\n",
       "    <tr>\n",
       "      <th>2</th>\n",
       "      <td>Tarde</td>\n",
       "      <td>1</td>\n",
       "      <td>Fin de semana</td>\n",
       "      <td>6</td>\n",
       "      <td>30.0</td>\n",
       "      <td>1</td>\n",
       "      <td>1</td>\n",
       "      <td>1</td>\n",
       "      <td>1</td>\n",
       "      <td>bike</td>\n",
       "      <td>1</td>\n",
       "      <td>3</td>\n",
       "      <td>1</td>\n",
       "      <td>3</td>\n",
       "      <td>NaN</td>\n",
       "    </tr>\n",
       "    <tr>\n",
       "      <th>3</th>\n",
       "      <td>Tarde</td>\n",
       "      <td>2</td>\n",
       "      <td>Día laboral</td>\n",
       "      <td>6</td>\n",
       "      <td>30.0</td>\n",
       "      <td>1</td>\n",
       "      <td>1</td>\n",
       "      <td>1</td>\n",
       "      <td>1</td>\n",
       "      <td>bike</td>\n",
       "      <td>1</td>\n",
       "      <td>6</td>\n",
       "      <td>1</td>\n",
       "      <td>2</td>\n",
       "      <td>NaN</td>\n",
       "    </tr>\n",
       "    <tr>\n",
       "      <th>4</th>\n",
       "      <td>Mañana</td>\n",
       "      <td>2</td>\n",
       "      <td>Día laboral</td>\n",
       "      <td>6</td>\n",
       "      <td>30.0</td>\n",
       "      <td>1</td>\n",
       "      <td>1</td>\n",
       "      <td>1</td>\n",
       "      <td>1</td>\n",
       "      <td>bike</td>\n",
       "      <td>1</td>\n",
       "      <td>6</td>\n",
       "      <td>1</td>\n",
       "      <td>3</td>\n",
       "      <td>NaN</td>\n",
       "    </tr>\n",
       "    <tr>\n",
       "      <th>5</th>\n",
       "      <td>Tarde</td>\n",
       "      <td>2</td>\n",
       "      <td>Día laboral</td>\n",
       "      <td>6</td>\n",
       "      <td>30.0</td>\n",
       "      <td>1</td>\n",
       "      <td>1</td>\n",
       "      <td>1</td>\n",
       "      <td>1</td>\n",
       "      <td>bike</td>\n",
       "      <td>1</td>\n",
       "      <td>3</td>\n",
       "      <td>1</td>\n",
       "      <td>3</td>\n",
       "      <td>NaN</td>\n",
       "    </tr>\n",
       "    <tr>\n",
       "      <th>6</th>\n",
       "      <td>Tarde</td>\n",
       "      <td>1</td>\n",
       "      <td>Fin de semana</td>\n",
       "      <td>6</td>\n",
       "      <td>30.0</td>\n",
       "      <td>1</td>\n",
       "      <td>1</td>\n",
       "      <td>1</td>\n",
       "      <td>1</td>\n",
       "      <td>bike</td>\n",
       "      <td>1</td>\n",
       "      <td>0</td>\n",
       "      <td>1</td>\n",
       "      <td>2</td>\n",
       "      <td>NaN</td>\n",
       "    </tr>\n",
       "    <tr>\n",
       "      <th>7</th>\n",
       "      <td>Tarde</td>\n",
       "      <td>1</td>\n",
       "      <td>Día laboral</td>\n",
       "      <td>3</td>\n",
       "      <td>30.0</td>\n",
       "      <td>4</td>\n",
       "      <td>1</td>\n",
       "      <td>1</td>\n",
       "      <td>1</td>\n",
       "      <td>bike</td>\n",
       "      <td>1</td>\n",
       "      <td>0</td>\n",
       "      <td>1</td>\n",
       "      <td>3</td>\n",
       "      <td>NaN</td>\n",
       "    </tr>\n",
       "    <tr>\n",
       "      <th>8</th>\n",
       "      <td>Noche</td>\n",
       "      <td>1</td>\n",
       "      <td>Día laboral</td>\n",
       "      <td>3</td>\n",
       "      <td>30.0</td>\n",
       "      <td>4</td>\n",
       "      <td>1</td>\n",
       "      <td>2</td>\n",
       "      <td>1</td>\n",
       "      <td>bike</td>\n",
       "      <td>1</td>\n",
       "      <td>3</td>\n",
       "      <td>1</td>\n",
       "      <td>3</td>\n",
       "      <td>NaN</td>\n",
       "    </tr>\n",
       "    <tr>\n",
       "      <th>9</th>\n",
       "      <td>Tarde</td>\n",
       "      <td>1</td>\n",
       "      <td>Fin de semana</td>\n",
       "      <td>3</td>\n",
       "      <td>30.0</td>\n",
       "      <td>1</td>\n",
       "      <td>1</td>\n",
       "      <td>1</td>\n",
       "      <td>1</td>\n",
       "      <td>bike</td>\n",
       "      <td>1</td>\n",
       "      <td>6</td>\n",
       "      <td>1</td>\n",
       "      <td>3</td>\n",
       "      <td>NaN</td>\n",
       "    </tr>\n",
       "    <tr>\n",
       "      <th>10</th>\n",
       "      <td>Tarde</td>\n",
       "      <td>1</td>\n",
       "      <td>Día laboral</td>\n",
       "      <td>1</td>\n",
       "      <td>30.0</td>\n",
       "      <td>1</td>\n",
       "      <td>1</td>\n",
       "      <td>1</td>\n",
       "      <td>1</td>\n",
       "      <td>bike</td>\n",
       "      <td>2</td>\n",
       "      <td>1</td>\n",
       "      <td>1</td>\n",
       "      <td>3</td>\n",
       "      <td>NaN</td>\n",
       "    </tr>\n",
       "    <tr>\n",
       "      <th>11</th>\n",
       "      <td>Mañana</td>\n",
       "      <td>1</td>\n",
       "      <td>Día laboral</td>\n",
       "      <td>6</td>\n",
       "      <td>30.0</td>\n",
       "      <td>1</td>\n",
       "      <td>1</td>\n",
       "      <td>1</td>\n",
       "      <td>1</td>\n",
       "      <td>bike</td>\n",
       "      <td>2</td>\n",
       "      <td>6</td>\n",
       "      <td>1</td>\n",
       "      <td>2</td>\n",
       "      <td>NaN</td>\n",
       "    </tr>\n",
       "    <tr>\n",
       "      <th>12</th>\n",
       "      <td>Mañana</td>\n",
       "      <td>1</td>\n",
       "      <td>Día laboral</td>\n",
       "      <td>6</td>\n",
       "      <td>30.0</td>\n",
       "      <td>1</td>\n",
       "      <td>1</td>\n",
       "      <td>1</td>\n",
       "      <td>1</td>\n",
       "      <td>bike</td>\n",
       "      <td>2</td>\n",
       "      <td>3</td>\n",
       "      <td>1</td>\n",
       "      <td>3</td>\n",
       "      <td>NaN</td>\n",
       "    </tr>\n",
       "    <tr>\n",
       "      <th>13</th>\n",
       "      <td>Mañana</td>\n",
       "      <td>1</td>\n",
       "      <td>Día laboral</td>\n",
       "      <td>6</td>\n",
       "      <td>30.0</td>\n",
       "      <td>1</td>\n",
       "      <td>1</td>\n",
       "      <td>1</td>\n",
       "      <td>1</td>\n",
       "      <td>bike</td>\n",
       "      <td>1</td>\n",
       "      <td>3</td>\n",
       "      <td>1</td>\n",
       "      <td>3</td>\n",
       "      <td>NaN</td>\n",
       "    </tr>\n",
       "    <tr>\n",
       "      <th>14</th>\n",
       "      <td>Mañana</td>\n",
       "      <td>1</td>\n",
       "      <td>Día laboral</td>\n",
       "      <td>6</td>\n",
       "      <td>30.0</td>\n",
       "      <td>1</td>\n",
       "      <td>9</td>\n",
       "      <td>1</td>\n",
       "      <td>1</td>\n",
       "      <td>bike</td>\n",
       "      <td>1</td>\n",
       "      <td>3</td>\n",
       "      <td>1</td>\n",
       "      <td>3</td>\n",
       "      <td>NaN</td>\n",
       "    </tr>\n",
       "    <tr>\n",
       "      <th>15</th>\n",
       "      <td>Noche</td>\n",
       "      <td>1</td>\n",
       "      <td>Día laboral</td>\n",
       "      <td>6</td>\n",
       "      <td>30.0</td>\n",
       "      <td>1</td>\n",
       "      <td>1</td>\n",
       "      <td>1</td>\n",
       "      <td>1</td>\n",
       "      <td>bike</td>\n",
       "      <td>1</td>\n",
       "      <td>3</td>\n",
       "      <td>1</td>\n",
       "      <td>3</td>\n",
       "      <td>NaN</td>\n",
       "    </tr>\n",
       "    <tr>\n",
       "      <th>16</th>\n",
       "      <td>Mañana</td>\n",
       "      <td>1</td>\n",
       "      <td>Día laboral</td>\n",
       "      <td>6</td>\n",
       "      <td>30.0</td>\n",
       "      <td>1</td>\n",
       "      <td>1</td>\n",
       "      <td>1</td>\n",
       "      <td>1</td>\n",
       "      <td>bike</td>\n",
       "      <td>1</td>\n",
       "      <td>6</td>\n",
       "      <td>1</td>\n",
       "      <td>3</td>\n",
       "      <td>NaN</td>\n",
       "    </tr>\n",
       "    <tr>\n",
       "      <th>17</th>\n",
       "      <td>Mañana</td>\n",
       "      <td>1</td>\n",
       "      <td>Día laboral</td>\n",
       "      <td>6</td>\n",
       "      <td>30.0</td>\n",
       "      <td>1</td>\n",
       "      <td>1</td>\n",
       "      <td>2</td>\n",
       "      <td>1</td>\n",
       "      <td>bike</td>\n",
       "      <td>1</td>\n",
       "      <td>3</td>\n",
       "      <td>1</td>\n",
       "      <td>3</td>\n",
       "      <td>NaN</td>\n",
       "    </tr>\n",
       "    <tr>\n",
       "      <th>18</th>\n",
       "      <td>Noche</td>\n",
       "      <td>1</td>\n",
       "      <td>Día laboral</td>\n",
       "      <td>6</td>\n",
       "      <td>30.0</td>\n",
       "      <td>4</td>\n",
       "      <td>1</td>\n",
       "      <td>1</td>\n",
       "      <td>1</td>\n",
       "      <td>bike</td>\n",
       "      <td>1</td>\n",
       "      <td>0</td>\n",
       "      <td>1</td>\n",
       "      <td>3</td>\n",
       "      <td>NaN</td>\n",
       "    </tr>\n",
       "    <tr>\n",
       "      <th>19</th>\n",
       "      <td>Noche</td>\n",
       "      <td>1</td>\n",
       "      <td>Día laboral</td>\n",
       "      <td>6</td>\n",
       "      <td>30.0</td>\n",
       "      <td>1</td>\n",
       "      <td>1</td>\n",
       "      <td>1</td>\n",
       "      <td>1</td>\n",
       "      <td>bike</td>\n",
       "      <td>1</td>\n",
       "      <td>3</td>\n",
       "      <td>1</td>\n",
       "      <td>3</td>\n",
       "      <td>NaN</td>\n",
       "    </tr>\n",
       "  </tbody>\n",
       "</table>\n",
       "</div>"
      ],
      "text/plain": [
       "      Time  Number_of_Casualties    Day_of_Week  Road_Type  Speed_limit  \\\n",
       "0   Mañana                     1    Día laboral          6         30.0   \n",
       "1   Mañana                     1    Día laboral          6         30.0   \n",
       "2    Tarde                     1  Fin de semana          6         30.0   \n",
       "3    Tarde                     2    Día laboral          6         30.0   \n",
       "4   Mañana                     2    Día laboral          6         30.0   \n",
       "5    Tarde                     2    Día laboral          6         30.0   \n",
       "6    Tarde                     1  Fin de semana          6         30.0   \n",
       "7    Tarde                     1    Día laboral          3         30.0   \n",
       "8    Noche                     1    Día laboral          3         30.0   \n",
       "9    Tarde                     1  Fin de semana          3         30.0   \n",
       "10   Tarde                     1    Día laboral          1         30.0   \n",
       "11  Mañana                     1    Día laboral          6         30.0   \n",
       "12  Mañana                     1    Día laboral          6         30.0   \n",
       "13  Mañana                     1    Día laboral          6         30.0   \n",
       "14  Mañana                     1    Día laboral          6         30.0   \n",
       "15   Noche                     1    Día laboral          6         30.0   \n",
       "16  Mañana                     1    Día laboral          6         30.0   \n",
       "17  Mañana                     1    Día laboral          6         30.0   \n",
       "18   Noche                     1    Día laboral          6         30.0   \n",
       "19   Noche                     1    Día laboral          6         30.0   \n",
       "\n",
       "    Light_Conditions  Weather_Conditions  Road_Surface_Conditions  \\\n",
       "0                  1                   1                        1   \n",
       "1                  1                   1                        1   \n",
       "2                  1                   1                        1   \n",
       "3                  1                   1                        1   \n",
       "4                  1                   1                        1   \n",
       "5                  1                   1                        1   \n",
       "6                  1                   1                        1   \n",
       "7                  4                   1                        1   \n",
       "8                  4                   1                        2   \n",
       "9                  1                   1                        1   \n",
       "10                 1                   1                        1   \n",
       "11                 1                   1                        1   \n",
       "12                 1                   1                        1   \n",
       "13                 1                   1                        1   \n",
       "14                 1                   9                        1   \n",
       "15                 1                   1                        1   \n",
       "16                 1                   1                        1   \n",
       "17                 1                   1                        2   \n",
       "18                 4                   1                        1   \n",
       "19                 1                   1                        1   \n",
       "\n",
       "    Urban_or_Rural_Area Vehicle_Type  \\\n",
       "0                     1         bike   \n",
       "1                     1         bike   \n",
       "2                     1         bike   \n",
       "3                     1         bike   \n",
       "4                     1         bike   \n",
       "5                     1         bike   \n",
       "6                     1         bike   \n",
       "7                     1         bike   \n",
       "8                     1         bike   \n",
       "9                     1         bike   \n",
       "10                    1         bike   \n",
       "11                    1         bike   \n",
       "12                    1         bike   \n",
       "13                    1         bike   \n",
       "14                    1         bike   \n",
       "15                    1         bike   \n",
       "16                    1         bike   \n",
       "17                    1         bike   \n",
       "18                    1         bike   \n",
       "19                    1         bike   \n",
       "\n",
       "    Did_Police_Officer_Attend_Scene_of_Accident  Junction_Detail  \\\n",
       "0                                             1                3   \n",
       "1                                             1                0   \n",
       "2                                             1                3   \n",
       "3                                             1                6   \n",
       "4                                             1                6   \n",
       "5                                             1                3   \n",
       "6                                             1                0   \n",
       "7                                             1                0   \n",
       "8                                             1                3   \n",
       "9                                             1                6   \n",
       "10                                            2                1   \n",
       "11                                            2                6   \n",
       "12                                            2                3   \n",
       "13                                            1                3   \n",
       "14                                            1                3   \n",
       "15                                            1                3   \n",
       "16                                            1                6   \n",
       "17                                            1                3   \n",
       "18                                            1                0   \n",
       "19                                            1                3   \n",
       "\n",
       "    Number_of_Vehicles  Accident_Severity  Unnamed: 14  \n",
       "0                    1                  3          NaN  \n",
       "1                    1                  3          NaN  \n",
       "2                    1                  3          NaN  \n",
       "3                    1                  2          NaN  \n",
       "4                    1                  3          NaN  \n",
       "5                    1                  3          NaN  \n",
       "6                    1                  2          NaN  \n",
       "7                    1                  3          NaN  \n",
       "8                    1                  3          NaN  \n",
       "9                    1                  3          NaN  \n",
       "10                   1                  3          NaN  \n",
       "11                   1                  2          NaN  \n",
       "12                   1                  3          NaN  \n",
       "13                   1                  3          NaN  \n",
       "14                   1                  3          NaN  \n",
       "15                   1                  3          NaN  \n",
       "16                   1                  3          NaN  \n",
       "17                   1                  3          NaN  \n",
       "18                   1                  3          NaN  \n",
       "19                   1                  3          NaN  "
      ]
     },
     "execution_count": 3,
     "metadata": {},
     "output_type": "execute_result"
    }
   ],
   "source": [
    "#Observar primeros 20 resultados\n",
    "df.head(20)"
   ]
  },
  {
   "attachments": {},
   "cell_type": "markdown",
   "metadata": {},
   "source": [
    "* Miremos el tipo de variables"
   ]
  },
  {
   "cell_type": "code",
   "execution_count": 4,
   "metadata": {},
   "outputs": [
    {
     "data": {
      "text/plain": [
       "Time                                            object\n",
       "Number_of_Casualties                             int64\n",
       "Day_of_Week                                     object\n",
       "Road_Type                                        int64\n",
       "Speed_limit                                    float64\n",
       "Light_Conditions                                 int64\n",
       "Weather_Conditions                               int64\n",
       "Road_Surface_Conditions                          int64\n",
       "Urban_or_Rural_Area                              int64\n",
       "Vehicle_Type                                    object\n",
       "Did_Police_Officer_Attend_Scene_of_Accident      int64\n",
       "Junction_Detail                                  int64\n",
       "Number_of_Vehicles                               int64\n",
       "Accident_Severity                                int64\n",
       "Unnamed: 14                                    float64\n",
       "dtype: object"
      ]
     },
     "execution_count": 4,
     "metadata": {},
     "output_type": "execute_result"
    }
   ],
   "source": [
    "#Parece que hay que cambiar algunas de tipo object a str.\n",
    "df.dtypes"
   ]
  },
  {
   "cell_type": "code",
   "execution_count": 5,
   "metadata": {},
   "outputs": [],
   "source": [
    "#Pasar las de objeto a str\n",
    "df['Time'] = df['Time'].astype('string')\n",
    "df['Day_of_Week'] = df['Day_of_Week'].astype('string')\n",
    "df['Vehicle_Type'] = df['Vehicle_Type'].astype('string')"
   ]
  },
  {
   "cell_type": "code",
   "execution_count": 6,
   "metadata": {},
   "outputs": [
    {
     "data": {
      "text/plain": [
       "Time                                            string\n",
       "Number_of_Casualties                             int64\n",
       "Day_of_Week                                     string\n",
       "Road_Type                                        int64\n",
       "Speed_limit                                    float64\n",
       "Light_Conditions                                 int64\n",
       "Weather_Conditions                               int64\n",
       "Road_Surface_Conditions                          int64\n",
       "Urban_or_Rural_Area                              int64\n",
       "Vehicle_Type                                    string\n",
       "Did_Police_Officer_Attend_Scene_of_Accident      int64\n",
       "Junction_Detail                                  int64\n",
       "Number_of_Vehicles                               int64\n",
       "Accident_Severity                                int64\n",
       "Unnamed: 14                                    float64\n",
       "dtype: object"
      ]
     },
     "execution_count": 6,
     "metadata": {},
     "output_type": "execute_result"
    }
   ],
   "source": [
    "#Verificar\n",
    "df.dtypes"
   ]
  },
  {
   "attachments": {},
   "cell_type": "markdown",
   "metadata": {},
   "source": [
    "* Ahora vamos a observar las distribuciones de las variables generando diagramas de barras. Esto nos va a servir más adelante para ver si hay outliers y tratar de aplicar transformaciones para corregir esto."
   ]
  },
  {
   "cell_type": "code",
   "execution_count": 7,
   "metadata": {},
   "outputs": [
    {
     "data": {
      "text/plain": [
       "<Axes: >"
      ]
     },
     "execution_count": 7,
     "metadata": {},
     "output_type": "execute_result"
    },
    {
     "data": {
      "image/png": "[encoded data removed]",
      "text/plain": [
       "<Figure size 640x480 with 1 Axes>"
      ]
     },
     "metadata": {},
     "output_type": "display_data"
    }
   ],
   "source": [
    "df['Time'].value_counts().plot(kind='bar')"
   ]
  },
  {
   "attachments": {},
   "cell_type": "markdown",
   "metadata": {},
   "source": [
    "* Nota: Vemos que hay una **representacion baja de valores de madrugada**. "
   ]
  },
  {
   "cell_type": "code",
   "execution_count": 8,
   "metadata": {},
   "outputs": [
    {
     "data": {
      "text/plain": [
       "<Axes: >"
      ]
     },
     "execution_count": 8,
     "metadata": {},
     "output_type": "execute_result"
    },
    {
     "data": {
      "image/png": "[encoded data removed]",
      "text/plain": [
       "<Figure size 640x480 with 1 Axes>"
      ]
     },
     "metadata": {},
     "output_type": "display_data"
    }
   ],
   "source": [
    "df['Day_of_Week'].value_counts().plot(kind='bar')"
   ]
  },
  {
   "cell_type": "code",
   "execution_count": 9,
   "metadata": {},
   "outputs": [
    {
     "data": {
      "text/plain": [
       "<Axes: >"
      ]
     },
     "execution_count": 9,
     "metadata": {},
     "output_type": "execute_result"
    },
    {
     "data": {
      "image/png": "[encoded data removed]",
      "text/plain": [
       "<Figure size 640x480 with 1 Axes>"
      ]
     },
     "metadata": {},
     "output_type": "display_data"
    }
   ],
   "source": [
    "df['Vehicle_Type'].value_counts().plot(kind='bar')"
   ]
  },
  {
   "attachments": {},
   "cell_type": "markdown",
   "metadata": {},
   "source": [
    "**Esto es problematico, vemos que en la base de datos solo hay ejemplos para muertes de bicicletas**. Por tanto esta variable es irrelevante. **Vamos a dropearla de una vez de la base de datos**"
   ]
  },
  {
   "cell_type": "code",
   "execution_count": 10,
   "metadata": {},
   "outputs": [],
   "source": [
    "df = df.drop('Vehicle_Type', axis=1)"
   ]
  },
  {
   "cell_type": "code",
   "execution_count": 11,
   "metadata": {},
   "outputs": [
    {
     "data": {
      "text/plain": [
       "Time                                            string\n",
       "Number_of_Casualties                             int64\n",
       "Day_of_Week                                     string\n",
       "Road_Type                                        int64\n",
       "Speed_limit                                    float64\n",
       "Light_Conditions                                 int64\n",
       "Weather_Conditions                               int64\n",
       "Road_Surface_Conditions                          int64\n",
       "Urban_or_Rural_Area                              int64\n",
       "Did_Police_Officer_Attend_Scene_of_Accident      int64\n",
       "Junction_Detail                                  int64\n",
       "Number_of_Vehicles                               int64\n",
       "Accident_Severity                                int64\n",
       "Unnamed: 14                                    float64\n",
       "dtype: object"
      ]
     },
     "execution_count": 11,
     "metadata": {},
     "output_type": "execute_result"
    }
   ],
   "source": [
    "df.dtypes"
   ]
  },
  {
   "attachments": {},
   "cell_type": "markdown",
   "metadata": {},
   "source": [
    "* Ahora bien, ya que terminamos el analisis de las variables string continuaremos con las que son categoricas segun la base de datos. Sin embargo antes analizaremos una la columna Unnamed. **Llama la atención que hay un alto porcentaje de valores nulos**"
   ]
  },
  {
   "cell_type": "code",
   "execution_count": 19,
   "metadata": {},
   "outputs": [
    {
     "name": "stdout",
     "output_type": "stream",
     "text": [
      "Hay 5338 valores nulos en esta columna de 5338\n"
     ]
    }
   ],
   "source": [
    "print('Hay ' + str(len(df['Unnamed: 14'].isna())) + ' valores nulos en esta columna de ' + str(df.shape[0]))"
   ]
  },
  {
   "cell_type": "code",
   "execution_count": 20,
   "metadata": {},
   "outputs": [],
   "source": [
    "#Vamos a dropearla\n",
    "df = df.drop('Unnamed: 14', axis=1)"
   ]
  },
  {
   "attachments": {},
   "cell_type": "markdown",
   "metadata": {},
   "source": [
    "### 1.1 Análisis Variables categoricas"
   ]
  },
  {
   "attachments": {},
   "cell_type": "markdown",
   "metadata": {},
   "source": [
    "* Segun el diccionario de la base de datos las siguientes variables son categoricas\n",
    "    - Accident_severity\n",
    "    - Day_of_Week\n",
    "    - Time\n",
    "    - Road type\n",
    "    - Junction_detail\n",
    "    - Light_conditions\n",
    "    - Weather_Conditions\n",
    "    - Road_surface_conditions\n",
    "    - Urban_or_Rural_Area\n",
    "    - Vehicle_Type\n",
    "    - Did_Police_Officer_Attend_Scene_of_Accident\n",
    "\n",
    "\n",
    "\n",
    "* Vamos a convertir estas a str y ver sus distribuciones entre las categoriasy analizar los resultados."
   ]
  },
  {
   "attachments": {},
   "cell_type": "markdown",
   "metadata": {},
   "source": [
    "#### 1.1.1 Convertir a string"
   ]
  },
  {
   "cell_type": "code",
   "execution_count": 27,
   "metadata": {},
   "outputs": [],
   "source": [
    "cat_vars = ['Accident_Severity', \n",
    "'Day_of_Week', \n",
    "'Time', 'Road_Type', \n",
    "'Junction_Detail', \n",
    "'Light_Conditions', \n",
    "'Weather_Conditions', \n",
    "'Road_Surface_Conditions', \n",
    "'Urban_or_Rural_Area', \n",
    "#'Vehicle_type', // Esta la dropeamos\n",
    "'Did_Police_Officer_Attend_Scene_of_Accident']\n",
    "\n",
    "for var in cat_vars:\n",
    "    df[var] = df[var].astype('string')"
   ]
  },
  {
   "cell_type": "code",
   "execution_count": 28,
   "metadata": {},
   "outputs": [
    {
     "data": {
      "text/plain": [
       "Time                                            string\n",
       "Number_of_Casualties                             int64\n",
       "Day_of_Week                                     string\n",
       "Road_Type                                       string\n",
       "Speed_limit                                    float64\n",
       "Light_Conditions                                string\n",
       "Weather_Conditions                              string\n",
       "Road_Surface_Conditions                         string\n",
       "Urban_or_Rural_Area                             string\n",
       "Did_Police_Officer_Attend_Scene_of_Accident     string\n",
       "Junction_Detail                                 string\n",
       "Number_of_Vehicles                               int64\n",
       "Accident_Severity                               string\n",
       "dtype: object"
      ]
     },
     "execution_count": 28,
     "metadata": {},
     "output_type": "execute_result"
    }
   ],
   "source": [
    "df.dtypes"
   ]
  },
  {
   "attachments": {},
   "cell_type": "markdown",
   "metadata": {},
   "source": [
    "#### 1.1.2 Reemplazar por labels del diccionario"
   ]
  },
  {
   "cell_type": "code",
   "execution_count": 30,
   "metadata": {},
   "outputs": [],
   "source": [
    "# Bien, ahora miremos las distribuciones\n",
    "def plot_distribution(df: pd.DataFrame, col: str):\n",
    "    df[col].value_counts().plot(kind='bar')"
   ]
  },
  {
   "cell_type": "code",
   "execution_count": 33,
   "metadata": {},
   "outputs": [
    {
     "data": {
      "image/png": "[encoded data removed]",
      "text/plain": [
       "<Figure size 640x480 with 1 Axes>"
      ]
     },
     "metadata": {},
     "output_type": "display_data"
    }
   ],
   "source": [
    "plot_distribution(df, 'Accident_Severity')"
   ]
  }
 ],
 "metadata": {
  "kernelspec": {
   "display_name": "venv",
   "language": "python",
   "name": "python3"
  },
  "language_info": {
   "codemirror_mode": {
    "name": "ipython",
    "version": 3
   },
   "file_extension": ".py",
   "mimetype": "text/x-python",
   "name": "python",
   "nbconvert_exporter": "python",
   "pygments_lexer": "ipython3",
   "version": "3.11.2"
  },
  "orig_nbformat": 4,
  "vscode": {
   "interpreter": {
    "hash": "b365be7cc5434a7f88b33032de8a66b63f5883dcd4afa27ccd63f35b69e00d74"
   }
  }
 },
 "nbformat": 4,
 "nbformat_minor": 2
}
