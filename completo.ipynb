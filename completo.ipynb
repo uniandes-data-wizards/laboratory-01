{
 "cells": [
  {
   "attachments": {},
   "cell_type": "markdown",
   "metadata": {},
   "source": [
    "# Seccion 1: Preprocesamiento de los Datos - Pipeline\n",
    "\n",
    "A continuación se crea un pipeline que tiene como propósito ser utilizado para limpiar los datos de forma general antes de pasarlos a cualquier limpieza necesaria para cualquier algoritmo en particular. Se realizan, entre otros, ejercicios de one-hot encoding, imputación y normalizaión. Todo esto se consolida en un Pipeline para su reutilización.\n"
   ]
  },
  {
   "attachments": {},
   "cell_type": "markdown",
   "metadata": {},
   "source": [
    "## 0. Instalar dependencias\n"
   ]
  },
  {
   "cell_type": "code",
   "execution_count": 1431,
   "metadata": {},
   "outputs": [
    {
     "name": "stdout",
     "output_type": "stream",
     "text": [
      "Requirement already satisfied: appnope==0.1.3 in /Users/zejiran/Library/Python/3.10/lib/python/site-packages (from -r requirements.txt (line 1)) (0.1.3)\n",
      "Requirement already satisfied: asttokens==2.2.1 in /Users/zejiran/Library/Python/3.10/lib/python/site-packages (from -r requirements.txt (line 2)) (2.2.1)\n",
      "Requirement already satisfied: backcall==0.2.0 in /Users/zejiran/Library/Python/3.10/lib/python/site-packages (from -r requirements.txt (line 3)) (0.2.0)\n",
      "Requirement already satisfied: comm==0.1.2 in /Users/zejiran/Library/Python/3.10/lib/python/site-packages (from -r requirements.txt (line 4)) (0.1.2)\n",
      "Requirement already satisfied: contourpy==1.0.7 in /opt/homebrew/lib/python3.10/site-packages (from -r requirements.txt (line 5)) (1.0.7)\n",
      "Requirement already satisfied: cycler==0.11.0 in /opt/homebrew/lib/python3.10/site-packages (from -r requirements.txt (line 6)) (0.11.0)\n",
      "Requirement already satisfied: debugpy==1.6.6 in /Users/zejiran/Library/Python/3.10/lib/python/site-packages (from -r requirements.txt (line 7)) (1.6.6)\n",
      "Requirement already satisfied: decorator==5.1.1 in /Users/zejiran/Library/Python/3.10/lib/python/site-packages (from -r requirements.txt (line 8)) (5.1.1)\n",
      "Requirement already satisfied: executing==1.2.0 in /Users/zejiran/Library/Python/3.10/lib/python/site-packages (from -r requirements.txt (line 9)) (1.2.0)\n",
      "Requirement already satisfied: fonttools==4.38.0 in /opt/homebrew/lib/python3.10/site-packages (from -r requirements.txt (line 10)) (4.38.0)\n",
      "Requirement already satisfied: ipykernel==6.21.2 in /opt/homebrew/lib/python3.10/site-packages (from -r requirements.txt (line 11)) (6.21.2)\n",
      "Requirement already satisfied: ipython==8.10.0 in /opt/homebrew/lib/python3.10/site-packages (from -r requirements.txt (line 12)) (8.10.0)\n",
      "Requirement already satisfied: jedi==0.18.2 in /Users/zejiran/Library/Python/3.10/lib/python/site-packages (from -r requirements.txt (line 13)) (0.18.2)\n",
      "Requirement already satisfied: joblib==1.2.0 in /opt/homebrew/lib/python3.10/site-packages (from -r requirements.txt (line 14)) (1.2.0)\n",
      "Requirement already satisfied: jupyter_client==8.0.3 in /opt/homebrew/lib/python3.10/site-packages (from -r requirements.txt (line 15)) (8.0.3)\n",
      "Requirement already satisfied: jupyter_core==5.2.0 in /Users/zejiran/Library/Python/3.10/lib/python/site-packages (from -r requirements.txt (line 16)) (5.2.0)\n",
      "Requirement already satisfied: kiwisolver==1.4.4 in /opt/homebrew/lib/python3.10/site-packages (from -r requirements.txt (line 17)) (1.4.4)\n",
      "Requirement already satisfied: matplotlib==3.7.0 in /opt/homebrew/lib/python3.10/site-packages (from -r requirements.txt (line 18)) (3.7.0)\n",
      "Requirement already satisfied: matplotlib-inline==0.1.6 in /Users/zejiran/Library/Python/3.10/lib/python/site-packages (from -r requirements.txt (line 19)) (0.1.6)\n",
      "Requirement already satisfied: nest-asyncio==1.5.6 in /Users/zejiran/Library/Python/3.10/lib/python/site-packages (from -r requirements.txt (line 20)) (1.5.6)\n",
      "Requirement already satisfied: numpy==1.24.2 in /opt/homebrew/lib/python3.10/site-packages (from -r requirements.txt (line 21)) (1.24.2)\n",
      "Requirement already satisfied: packaging==23.0 in /opt/homebrew/lib/python3.10/site-packages (from -r requirements.txt (line 22)) (23.0)\n",
      "Requirement already satisfied: pandas==1.5.3 in /opt/homebrew/lib/python3.10/site-packages (from -r requirements.txt (line 23)) (1.5.3)\n",
      "Requirement already satisfied: parso==0.8.3 in /Users/zejiran/Library/Python/3.10/lib/python/site-packages (from -r requirements.txt (line 24)) (0.8.3)\n",
      "Requirement already satisfied: pexpect==4.8.0 in /Users/zejiran/Library/Python/3.10/lib/python/site-packages (from -r requirements.txt (line 25)) (4.8.0)\n",
      "Requirement already satisfied: pickleshare==0.7.5 in /Users/zejiran/Library/Python/3.10/lib/python/site-packages (from -r requirements.txt (line 26)) (0.7.5)\n",
      "Requirement already satisfied: Pillow==9.4.0 in /opt/homebrew/lib/python3.10/site-packages (from -r requirements.txt (line 27)) (9.4.0)\n",
      "Requirement already satisfied: platformdirs==3.0.0 in /opt/homebrew/lib/python3.10/site-packages (from -r requirements.txt (line 28)) (3.0.0)\n",
      "Requirement already satisfied: prompt-toolkit==3.0.36 in /Users/zejiran/Library/Python/3.10/lib/python/site-packages (from -r requirements.txt (line 29)) (3.0.36)\n",
      "Requirement already satisfied: psutil==5.9.4 in /Users/zejiran/Library/Python/3.10/lib/python/site-packages (from -r requirements.txt (line 30)) (5.9.4)\n",
      "Requirement already satisfied: ptyprocess==0.7.0 in /Users/zejiran/Library/Python/3.10/lib/python/site-packages (from -r requirements.txt (line 31)) (0.7.0)\n",
      "Requirement already satisfied: pure-eval==0.2.2 in /Users/zejiran/Library/Python/3.10/lib/python/site-packages (from -r requirements.txt (line 32)) (0.2.2)\n",
      "Requirement already satisfied: Pygments==2.14.0 in /opt/homebrew/lib/python3.10/site-packages (from -r requirements.txt (line 33)) (2.14.0)\n",
      "Requirement already satisfied: pyparsing==3.0.9 in /opt/homebrew/lib/python3.10/site-packages (from -r requirements.txt (line 34)) (3.0.9)\n",
      "Requirement already satisfied: python-dateutil==2.8.2 in /opt/homebrew/lib/python3.10/site-packages (from -r requirements.txt (line 35)) (2.8.2)\n",
      "Requirement already satisfied: pytz==2022.7.1 in /opt/homebrew/lib/python3.10/site-packages (from -r requirements.txt (line 36)) (2022.7.1)\n",
      "Requirement already satisfied: pyzmq==25.0.0 in /opt/homebrew/lib/python3.10/site-packages (from -r requirements.txt (line 37)) (25.0.0)\n",
      "Requirement already satisfied: scikit-learn==1.2.1 in /opt/homebrew/lib/python3.10/site-packages (from -r requirements.txt (line 38)) (1.2.1)\n",
      "Requirement already satisfied: scipy==1.10.0 in /opt/homebrew/lib/python3.10/site-packages (from -r requirements.txt (line 39)) (1.10.0)\n",
      "Requirement already satisfied: seaborn==0.12.2 in /opt/homebrew/lib/python3.10/site-packages (from -r requirements.txt (line 40)) (0.12.2)\n",
      "Requirement already satisfied: six==1.16.0 in /opt/homebrew/lib/python3.10/site-packages (from -r requirements.txt (line 41)) (1.16.0)\n",
      "Requirement already satisfied: stack-data==0.6.2 in /Users/zejiran/Library/Python/3.10/lib/python/site-packages (from -r requirements.txt (line 42)) (0.6.2)\n",
      "Requirement already satisfied: threadpoolctl==3.1.0 in /opt/homebrew/lib/python3.10/site-packages (from -r requirements.txt (line 43)) (3.1.0)\n",
      "Requirement already satisfied: tornado==6.2 in /Users/zejiran/Library/Python/3.10/lib/python/site-packages (from -r requirements.txt (line 44)) (6.2)\n",
      "Requirement already satisfied: traitlets==5.9.0 in /Users/zejiran/Library/Python/3.10/lib/python/site-packages (from -r requirements.txt (line 45)) (5.9.0)\n",
      "Requirement already satisfied: wcwidth==0.2.6 in /Users/zejiran/Library/Python/3.10/lib/python/site-packages (from -r requirements.txt (line 46)) (0.2.6)\n",
      "Requirement already satisfied: kmodes==0.12.2 in /opt/homebrew/lib/python3.10/site-packages (from -r requirements.txt (line 47)) (0.12.2)\n",
      "Requirement already satisfied: plotnine in /opt/homebrew/lib/python3.10/site-packages (from -r requirements.txt (line 48)) (0.10.1)\n",
      "Collecting yellowbrick\n",
      "  Downloading yellowbrick-1.5-py3-none-any.whl (282 kB)\n",
      "     ━━━━━━━━━━━━━━━━━━━━━━━━━━━━━━━━━━━━━━━ 282.6/282.6 kB 2.2 MB/s eta 0:00:00\n",
      "Requirement already satisfied: mizani>=0.8.1 in /opt/homebrew/lib/python3.10/site-packages (from plotnine->-r requirements.txt (line 48)) (0.8.1)\n",
      "Requirement already satisfied: patsy>=0.5.1 in /opt/homebrew/lib/python3.10/site-packages (from plotnine->-r requirements.txt (line 48)) (0.5.3)\n",
      "Requirement already satisfied: statsmodels>=0.13.2 in /opt/homebrew/lib/python3.10/site-packages (from plotnine->-r requirements.txt (line 48)) (0.13.5)\n",
      "Requirement already satisfied: palettable in /opt/homebrew/lib/python3.10/site-packages (from mizani>=0.8.1->plotnine->-r requirements.txt (line 48)) (3.3.0)\n",
      "Installing collected packages: yellowbrick\n",
      "Successfully installed yellowbrick-1.5\n"
     ]
    },
    {
     "name": "stderr",
     "output_type": "stream",
     "text": [
      "\n",
      "[notice] A new release of pip available: 22.3 -> 23.0\n",
      "[notice] To update, run: python3.10 -m pip install --upgrade pip\n"
     ]
    }
   ],
   "source": [
    "%%sh\n",
    "pip install -r requirements.txt"
   ]
  },
  {
   "attachments": {},
   "cell_type": "markdown",
   "metadata": {},
   "source": [
    "## 1. Carga y exploración de los datos\n"
   ]
  },
  {
   "cell_type": "code",
   "execution_count": 1330,
   "metadata": {},
   "outputs": [],
   "source": [
    "import pandas as pd\n",
    "import numpy as np"
   ]
  },
  {
   "cell_type": "code",
   "execution_count": 1331,
   "metadata": {},
   "outputs": [],
   "source": [
    "# Cargar el archivo csv a un DataFrame\n",
    "# Note que aqui se usa un path relativo a la raiz del repositorio de Github\n",
    "df = pd.read_csv('./data/Datos_BiciAlpes.csv',\n",
    "                 delimiter=\";\", encoding='ISO-8859-1')\n"
   ]
  },
  {
   "cell_type": "code",
   "execution_count": 1332,
   "metadata": {},
   "outputs": [
    {
     "data": {
      "text/html": [
       "<div>\n",
       "<style scoped>\n",
       "    .dataframe tbody tr th:only-of-type {\n",
       "        vertical-align: middle;\n",
       "    }\n",
       "\n",
       "    .dataframe tbody tr th {\n",
       "        vertical-align: top;\n",
       "    }\n",
       "\n",
       "    .dataframe thead th {\n",
       "        text-align: right;\n",
       "    }\n",
       "</style>\n",
       "<table border=\"1\" class=\"dataframe\">\n",
       "  <thead>\n",
       "    <tr style=\"text-align: right;\">\n",
       "      <th></th>\n",
       "      <th>Time</th>\n",
       "      <th>Number_of_Casualties</th>\n",
       "      <th>Day_of_Week</th>\n",
       "      <th>Road_Type</th>\n",
       "      <th>Speed_limit</th>\n",
       "      <th>Light_Conditions</th>\n",
       "      <th>Weather_Conditions</th>\n",
       "      <th>Road_Surface_Conditions</th>\n",
       "      <th>Urban_or_Rural_Area</th>\n",
       "      <th>Vehicle_Type</th>\n",
       "      <th>Did_Police_Officer_Attend_Scene_of_Accident</th>\n",
       "      <th>Junction_Detail</th>\n",
       "      <th>Number_of_Vehicles</th>\n",
       "      <th>Accident_Severity</th>\n",
       "      <th>Unnamed: 14</th>\n",
       "    </tr>\n",
       "  </thead>\n",
       "  <tbody>\n",
       "    <tr>\n",
       "      <th>0</th>\n",
       "      <td>Mañana</td>\n",
       "      <td>1</td>\n",
       "      <td>Día laboral</td>\n",
       "      <td>6</td>\n",
       "      <td>30.0</td>\n",
       "      <td>1</td>\n",
       "      <td>1</td>\n",
       "      <td>1</td>\n",
       "      <td>1</td>\n",
       "      <td>bike</td>\n",
       "      <td>1</td>\n",
       "      <td>3</td>\n",
       "      <td>1</td>\n",
       "      <td>3</td>\n",
       "      <td>NaN</td>\n",
       "    </tr>\n",
       "    <tr>\n",
       "      <th>1</th>\n",
       "      <td>Mañana</td>\n",
       "      <td>1</td>\n",
       "      <td>Día laboral</td>\n",
       "      <td>6</td>\n",
       "      <td>30.0</td>\n",
       "      <td>1</td>\n",
       "      <td>1</td>\n",
       "      <td>1</td>\n",
       "      <td>1</td>\n",
       "      <td>bike</td>\n",
       "      <td>1</td>\n",
       "      <td>0</td>\n",
       "      <td>1</td>\n",
       "      <td>3</td>\n",
       "      <td>NaN</td>\n",
       "    </tr>\n",
       "    <tr>\n",
       "      <th>2</th>\n",
       "      <td>Tarde</td>\n",
       "      <td>1</td>\n",
       "      <td>Fin de semana</td>\n",
       "      <td>6</td>\n",
       "      <td>30.0</td>\n",
       "      <td>1</td>\n",
       "      <td>1</td>\n",
       "      <td>1</td>\n",
       "      <td>1</td>\n",
       "      <td>bike</td>\n",
       "      <td>1</td>\n",
       "      <td>3</td>\n",
       "      <td>1</td>\n",
       "      <td>3</td>\n",
       "      <td>NaN</td>\n",
       "    </tr>\n",
       "    <tr>\n",
       "      <th>3</th>\n",
       "      <td>Tarde</td>\n",
       "      <td>2</td>\n",
       "      <td>Día laboral</td>\n",
       "      <td>6</td>\n",
       "      <td>30.0</td>\n",
       "      <td>1</td>\n",
       "      <td>1</td>\n",
       "      <td>1</td>\n",
       "      <td>1</td>\n",
       "      <td>bike</td>\n",
       "      <td>1</td>\n",
       "      <td>6</td>\n",
       "      <td>1</td>\n",
       "      <td>2</td>\n",
       "      <td>NaN</td>\n",
       "    </tr>\n",
       "    <tr>\n",
       "      <th>4</th>\n",
       "      <td>Mañana</td>\n",
       "      <td>2</td>\n",
       "      <td>Día laboral</td>\n",
       "      <td>6</td>\n",
       "      <td>30.0</td>\n",
       "      <td>1</td>\n",
       "      <td>1</td>\n",
       "      <td>1</td>\n",
       "      <td>1</td>\n",
       "      <td>bike</td>\n",
       "      <td>1</td>\n",
       "      <td>6</td>\n",
       "      <td>1</td>\n",
       "      <td>3</td>\n",
       "      <td>NaN</td>\n",
       "    </tr>\n",
       "    <tr>\n",
       "      <th>5</th>\n",
       "      <td>Tarde</td>\n",
       "      <td>2</td>\n",
       "      <td>Día laboral</td>\n",
       "      <td>6</td>\n",
       "      <td>30.0</td>\n",
       "      <td>1</td>\n",
       "      <td>1</td>\n",
       "      <td>1</td>\n",
       "      <td>1</td>\n",
       "      <td>bike</td>\n",
       "      <td>1</td>\n",
       "      <td>3</td>\n",
       "      <td>1</td>\n",
       "      <td>3</td>\n",
       "      <td>NaN</td>\n",
       "    </tr>\n",
       "    <tr>\n",
       "      <th>6</th>\n",
       "      <td>Tarde</td>\n",
       "      <td>1</td>\n",
       "      <td>Fin de semana</td>\n",
       "      <td>6</td>\n",
       "      <td>30.0</td>\n",
       "      <td>1</td>\n",
       "      <td>1</td>\n",
       "      <td>1</td>\n",
       "      <td>1</td>\n",
       "      <td>bike</td>\n",
       "      <td>1</td>\n",
       "      <td>0</td>\n",
       "      <td>1</td>\n",
       "      <td>2</td>\n",
       "      <td>NaN</td>\n",
       "    </tr>\n",
       "    <tr>\n",
       "      <th>7</th>\n",
       "      <td>Tarde</td>\n",
       "      <td>1</td>\n",
       "      <td>Día laboral</td>\n",
       "      <td>3</td>\n",
       "      <td>30.0</td>\n",
       "      <td>4</td>\n",
       "      <td>1</td>\n",
       "      <td>1</td>\n",
       "      <td>1</td>\n",
       "      <td>bike</td>\n",
       "      <td>1</td>\n",
       "      <td>0</td>\n",
       "      <td>1</td>\n",
       "      <td>3</td>\n",
       "      <td>NaN</td>\n",
       "    </tr>\n",
       "    <tr>\n",
       "      <th>8</th>\n",
       "      <td>Noche</td>\n",
       "      <td>1</td>\n",
       "      <td>Día laboral</td>\n",
       "      <td>3</td>\n",
       "      <td>30.0</td>\n",
       "      <td>4</td>\n",
       "      <td>1</td>\n",
       "      <td>2</td>\n",
       "      <td>1</td>\n",
       "      <td>bike</td>\n",
       "      <td>1</td>\n",
       "      <td>3</td>\n",
       "      <td>1</td>\n",
       "      <td>3</td>\n",
       "      <td>NaN</td>\n",
       "    </tr>\n",
       "    <tr>\n",
       "      <th>9</th>\n",
       "      <td>Tarde</td>\n",
       "      <td>1</td>\n",
       "      <td>Fin de semana</td>\n",
       "      <td>3</td>\n",
       "      <td>30.0</td>\n",
       "      <td>1</td>\n",
       "      <td>1</td>\n",
       "      <td>1</td>\n",
       "      <td>1</td>\n",
       "      <td>bike</td>\n",
       "      <td>1</td>\n",
       "      <td>6</td>\n",
       "      <td>1</td>\n",
       "      <td>3</td>\n",
       "      <td>NaN</td>\n",
       "    </tr>\n",
       "    <tr>\n",
       "      <th>10</th>\n",
       "      <td>Tarde</td>\n",
       "      <td>1</td>\n",
       "      <td>Día laboral</td>\n",
       "      <td>1</td>\n",
       "      <td>30.0</td>\n",
       "      <td>1</td>\n",
       "      <td>1</td>\n",
       "      <td>1</td>\n",
       "      <td>1</td>\n",
       "      <td>bike</td>\n",
       "      <td>2</td>\n",
       "      <td>1</td>\n",
       "      <td>1</td>\n",
       "      <td>3</td>\n",
       "      <td>NaN</td>\n",
       "    </tr>\n",
       "    <tr>\n",
       "      <th>11</th>\n",
       "      <td>Mañana</td>\n",
       "      <td>1</td>\n",
       "      <td>Día laboral</td>\n",
       "      <td>6</td>\n",
       "      <td>30.0</td>\n",
       "      <td>1</td>\n",
       "      <td>1</td>\n",
       "      <td>1</td>\n",
       "      <td>1</td>\n",
       "      <td>bike</td>\n",
       "      <td>2</td>\n",
       "      <td>6</td>\n",
       "      <td>1</td>\n",
       "      <td>2</td>\n",
       "      <td>NaN</td>\n",
       "    </tr>\n",
       "    <tr>\n",
       "      <th>12</th>\n",
       "      <td>Mañana</td>\n",
       "      <td>1</td>\n",
       "      <td>Día laboral</td>\n",
       "      <td>6</td>\n",
       "      <td>30.0</td>\n",
       "      <td>1</td>\n",
       "      <td>1</td>\n",
       "      <td>1</td>\n",
       "      <td>1</td>\n",
       "      <td>bike</td>\n",
       "      <td>2</td>\n",
       "      <td>3</td>\n",
       "      <td>1</td>\n",
       "      <td>3</td>\n",
       "      <td>NaN</td>\n",
       "    </tr>\n",
       "    <tr>\n",
       "      <th>13</th>\n",
       "      <td>Mañana</td>\n",
       "      <td>1</td>\n",
       "      <td>Día laboral</td>\n",
       "      <td>6</td>\n",
       "      <td>30.0</td>\n",
       "      <td>1</td>\n",
       "      <td>1</td>\n",
       "      <td>1</td>\n",
       "      <td>1</td>\n",
       "      <td>bike</td>\n",
       "      <td>1</td>\n",
       "      <td>3</td>\n",
       "      <td>1</td>\n",
       "      <td>3</td>\n",
       "      <td>NaN</td>\n",
       "    </tr>\n",
       "    <tr>\n",
       "      <th>14</th>\n",
       "      <td>Mañana</td>\n",
       "      <td>1</td>\n",
       "      <td>Día laboral</td>\n",
       "      <td>6</td>\n",
       "      <td>30.0</td>\n",
       "      <td>1</td>\n",
       "      <td>9</td>\n",
       "      <td>1</td>\n",
       "      <td>1</td>\n",
       "      <td>bike</td>\n",
       "      <td>1</td>\n",
       "      <td>3</td>\n",
       "      <td>1</td>\n",
       "      <td>3</td>\n",
       "      <td>NaN</td>\n",
       "    </tr>\n",
       "    <tr>\n",
       "      <th>15</th>\n",
       "      <td>Noche</td>\n",
       "      <td>1</td>\n",
       "      <td>Día laboral</td>\n",
       "      <td>6</td>\n",
       "      <td>30.0</td>\n",
       "      <td>1</td>\n",
       "      <td>1</td>\n",
       "      <td>1</td>\n",
       "      <td>1</td>\n",
       "      <td>bike</td>\n",
       "      <td>1</td>\n",
       "      <td>3</td>\n",
       "      <td>1</td>\n",
       "      <td>3</td>\n",
       "      <td>NaN</td>\n",
       "    </tr>\n",
       "    <tr>\n",
       "      <th>16</th>\n",
       "      <td>Mañana</td>\n",
       "      <td>1</td>\n",
       "      <td>Día laboral</td>\n",
       "      <td>6</td>\n",
       "      <td>30.0</td>\n",
       "      <td>1</td>\n",
       "      <td>1</td>\n",
       "      <td>1</td>\n",
       "      <td>1</td>\n",
       "      <td>bike</td>\n",
       "      <td>1</td>\n",
       "      <td>6</td>\n",
       "      <td>1</td>\n",
       "      <td>3</td>\n",
       "      <td>NaN</td>\n",
       "    </tr>\n",
       "    <tr>\n",
       "      <th>17</th>\n",
       "      <td>Mañana</td>\n",
       "      <td>1</td>\n",
       "      <td>Día laboral</td>\n",
       "      <td>6</td>\n",
       "      <td>30.0</td>\n",
       "      <td>1</td>\n",
       "      <td>1</td>\n",
       "      <td>2</td>\n",
       "      <td>1</td>\n",
       "      <td>bike</td>\n",
       "      <td>1</td>\n",
       "      <td>3</td>\n",
       "      <td>1</td>\n",
       "      <td>3</td>\n",
       "      <td>NaN</td>\n",
       "    </tr>\n",
       "    <tr>\n",
       "      <th>18</th>\n",
       "      <td>Noche</td>\n",
       "      <td>1</td>\n",
       "      <td>Día laboral</td>\n",
       "      <td>6</td>\n",
       "      <td>30.0</td>\n",
       "      <td>4</td>\n",
       "      <td>1</td>\n",
       "      <td>1</td>\n",
       "      <td>1</td>\n",
       "      <td>bike</td>\n",
       "      <td>1</td>\n",
       "      <td>0</td>\n",
       "      <td>1</td>\n",
       "      <td>3</td>\n",
       "      <td>NaN</td>\n",
       "    </tr>\n",
       "    <tr>\n",
       "      <th>19</th>\n",
       "      <td>Noche</td>\n",
       "      <td>1</td>\n",
       "      <td>Día laboral</td>\n",
       "      <td>6</td>\n",
       "      <td>30.0</td>\n",
       "      <td>1</td>\n",
       "      <td>1</td>\n",
       "      <td>1</td>\n",
       "      <td>1</td>\n",
       "      <td>bike</td>\n",
       "      <td>1</td>\n",
       "      <td>3</td>\n",
       "      <td>1</td>\n",
       "      <td>3</td>\n",
       "      <td>NaN</td>\n",
       "    </tr>\n",
       "  </tbody>\n",
       "</table>\n",
       "</div>"
      ],
      "text/plain": [
       "      Time  Number_of_Casualties    Day_of_Week  Road_Type  Speed_limit  \\\n",
       "0   Mañana                     1    Día laboral          6         30.0   \n",
       "1   Mañana                     1    Día laboral          6         30.0   \n",
       "2    Tarde                     1  Fin de semana          6         30.0   \n",
       "3    Tarde                     2    Día laboral          6         30.0   \n",
       "4   Mañana                     2    Día laboral          6         30.0   \n",
       "5    Tarde                     2    Día laboral          6         30.0   \n",
       "6    Tarde                     1  Fin de semana          6         30.0   \n",
       "7    Tarde                     1    Día laboral          3         30.0   \n",
       "8    Noche                     1    Día laboral          3         30.0   \n",
       "9    Tarde                     1  Fin de semana          3         30.0   \n",
       "10   Tarde                     1    Día laboral          1         30.0   \n",
       "11  Mañana                     1    Día laboral          6         30.0   \n",
       "12  Mañana                     1    Día laboral          6         30.0   \n",
       "13  Mañana                     1    Día laboral          6         30.0   \n",
       "14  Mañana                     1    Día laboral          6         30.0   \n",
       "15   Noche                     1    Día laboral          6         30.0   \n",
       "16  Mañana                     1    Día laboral          6         30.0   \n",
       "17  Mañana                     1    Día laboral          6         30.0   \n",
       "18   Noche                     1    Día laboral          6         30.0   \n",
       "19   Noche                     1    Día laboral          6         30.0   \n",
       "\n",
       "    Light_Conditions  Weather_Conditions  Road_Surface_Conditions  \\\n",
       "0                  1                   1                        1   \n",
       "1                  1                   1                        1   \n",
       "2                  1                   1                        1   \n",
       "3                  1                   1                        1   \n",
       "4                  1                   1                        1   \n",
       "5                  1                   1                        1   \n",
       "6                  1                   1                        1   \n",
       "7                  4                   1                        1   \n",
       "8                  4                   1                        2   \n",
       "9                  1                   1                        1   \n",
       "10                 1                   1                        1   \n",
       "11                 1                   1                        1   \n",
       "12                 1                   1                        1   \n",
       "13                 1                   1                        1   \n",
       "14                 1                   9                        1   \n",
       "15                 1                   1                        1   \n",
       "16                 1                   1                        1   \n",
       "17                 1                   1                        2   \n",
       "18                 4                   1                        1   \n",
       "19                 1                   1                        1   \n",
       "\n",
       "    Urban_or_Rural_Area Vehicle_Type  \\\n",
       "0                     1         bike   \n",
       "1                     1         bike   \n",
       "2                     1         bike   \n",
       "3                     1         bike   \n",
       "4                     1         bike   \n",
       "5                     1         bike   \n",
       "6                     1         bike   \n",
       "7                     1         bike   \n",
       "8                     1         bike   \n",
       "9                     1         bike   \n",
       "10                    1         bike   \n",
       "11                    1         bike   \n",
       "12                    1         bike   \n",
       "13                    1         bike   \n",
       "14                    1         bike   \n",
       "15                    1         bike   \n",
       "16                    1         bike   \n",
       "17                    1         bike   \n",
       "18                    1         bike   \n",
       "19                    1         bike   \n",
       "\n",
       "    Did_Police_Officer_Attend_Scene_of_Accident  Junction_Detail  \\\n",
       "0                                             1                3   \n",
       "1                                             1                0   \n",
       "2                                             1                3   \n",
       "3                                             1                6   \n",
       "4                                             1                6   \n",
       "5                                             1                3   \n",
       "6                                             1                0   \n",
       "7                                             1                0   \n",
       "8                                             1                3   \n",
       "9                                             1                6   \n",
       "10                                            2                1   \n",
       "11                                            2                6   \n",
       "12                                            2                3   \n",
       "13                                            1                3   \n",
       "14                                            1                3   \n",
       "15                                            1                3   \n",
       "16                                            1                6   \n",
       "17                                            1                3   \n",
       "18                                            1                0   \n",
       "19                                            1                3   \n",
       "\n",
       "    Number_of_Vehicles  Accident_Severity  Unnamed: 14  \n",
       "0                    1                  3          NaN  \n",
       "1                    1                  3          NaN  \n",
       "2                    1                  3          NaN  \n",
       "3                    1                  2          NaN  \n",
       "4                    1                  3          NaN  \n",
       "5                    1                  3          NaN  \n",
       "6                    1                  2          NaN  \n",
       "7                    1                  3          NaN  \n",
       "8                    1                  3          NaN  \n",
       "9                    1                  3          NaN  \n",
       "10                   1                  3          NaN  \n",
       "11                   1                  2          NaN  \n",
       "12                   1                  3          NaN  \n",
       "13                   1                  3          NaN  \n",
       "14                   1                  3          NaN  \n",
       "15                   1                  3          NaN  \n",
       "16                   1                  3          NaN  \n",
       "17                   1                  3          NaN  \n",
       "18                   1                  3          NaN  \n",
       "19                   1                  3          NaN  "
      ]
     },
     "execution_count": 1332,
     "metadata": {},
     "output_type": "execute_result"
    }
   ],
   "source": [
    "# Observar primeros 20 resultados\n",
    "df.head(20)\n"
   ]
  },
  {
   "attachments": {},
   "cell_type": "markdown",
   "metadata": {},
   "source": [
    "- Miremos el tipo de variables\n"
   ]
  },
  {
   "cell_type": "code",
   "execution_count": 1333,
   "metadata": {},
   "outputs": [
    {
     "data": {
      "text/plain": [
       "Time                                            object\n",
       "Number_of_Casualties                             int64\n",
       "Day_of_Week                                     object\n",
       "Road_Type                                        int64\n",
       "Speed_limit                                    float64\n",
       "Light_Conditions                                 int64\n",
       "Weather_Conditions                               int64\n",
       "Road_Surface_Conditions                          int64\n",
       "Urban_or_Rural_Area                              int64\n",
       "Vehicle_Type                                    object\n",
       "Did_Police_Officer_Attend_Scene_of_Accident      int64\n",
       "Junction_Detail                                  int64\n",
       "Number_of_Vehicles                               int64\n",
       "Accident_Severity                                int64\n",
       "Unnamed: 14                                    float64\n",
       "dtype: object"
      ]
     },
     "execution_count": 1333,
     "metadata": {},
     "output_type": "execute_result"
    }
   ],
   "source": [
    "# Parece que hay que cambiar algunas de tipo object a str.\n",
    "df.dtypes\n"
   ]
  },
  {
   "cell_type": "code",
   "execution_count": 1334,
   "metadata": {},
   "outputs": [],
   "source": [
    "# Pasar las de objeto a str\n",
    "df['Time'] = df['Time'].astype('string')\n",
    "df['Day_of_Week'] = df['Day_of_Week'].astype('string')\n",
    "df['Vehicle_Type'] = df['Vehicle_Type'].astype('string')\n"
   ]
  },
  {
   "cell_type": "code",
   "execution_count": 1335,
   "metadata": {},
   "outputs": [
    {
     "data": {
      "text/plain": [
       "Time                                            string\n",
       "Number_of_Casualties                             int64\n",
       "Day_of_Week                                     string\n",
       "Road_Type                                        int64\n",
       "Speed_limit                                    float64\n",
       "Light_Conditions                                 int64\n",
       "Weather_Conditions                               int64\n",
       "Road_Surface_Conditions                          int64\n",
       "Urban_or_Rural_Area                              int64\n",
       "Vehicle_Type                                    string\n",
       "Did_Police_Officer_Attend_Scene_of_Accident      int64\n",
       "Junction_Detail                                  int64\n",
       "Number_of_Vehicles                               int64\n",
       "Accident_Severity                                int64\n",
       "Unnamed: 14                                    float64\n",
       "dtype: object"
      ]
     },
     "execution_count": 1335,
     "metadata": {},
     "output_type": "execute_result"
    }
   ],
   "source": [
    "# Verificar\n",
    "df.dtypes\n"
   ]
  },
  {
   "attachments": {},
   "cell_type": "markdown",
   "metadata": {},
   "source": [
    "- Ahora vamos a observar las distribuciones de las variables generando diagramas de barras. Esto nos va a servir más adelante para ver si hay outliers y tratar de aplicar transformaciones para corregir esto.\n"
   ]
  },
  {
   "cell_type": "code",
   "execution_count": 1336,
   "metadata": {},
   "outputs": [
    {
     "data": {
      "text/plain": [
       "<Axes: >"
      ]
     },
     "execution_count": 1336,
     "metadata": {},
     "output_type": "execute_result"
    },
    {
     "data": {
      "image/png": "[encoded data removed]",
      "text/plain": [
       "<Figure size 640x480 with 1 Axes>"
      ]
     },
     "metadata": {},
     "output_type": "display_data"
    }
   ],
   "source": [
    "df['Time'].value_counts().plot(kind='bar')\n"
   ]
  },
  {
   "attachments": {},
   "cell_type": "markdown",
   "metadata": {},
   "source": [
    "- Nota: Vemos que hay una **representacion baja de valores de madrugada**.\n"
   ]
  },
  {
   "cell_type": "code",
   "execution_count": 1337,
   "metadata": {},
   "outputs": [
    {
     "data": {
      "text/plain": [
       "<Axes: >"
      ]
     },
     "execution_count": 1337,
     "metadata": {},
     "output_type": "execute_result"
    },
    {
     "data": {
      "image/png": "[encoded data removed]",
      "text/plain": [
       "<Figure size 640x480 with 1 Axes>"
      ]
     },
     "metadata": {},
     "output_type": "display_data"
    }
   ],
   "source": [
    "df['Day_of_Week'].value_counts().plot(kind='bar')\n"
   ]
  },
  {
   "cell_type": "code",
   "execution_count": 1338,
   "metadata": {},
   "outputs": [
    {
     "data": {
      "text/plain": [
       "<Axes: >"
      ]
     },
     "execution_count": 1338,
     "metadata": {},
     "output_type": "execute_result"
    },
    {
     "data": {
      "image/png": "[encoded data removed]",
      "text/plain": [
       "<Figure size 640x480 with 1 Axes>"
      ]
     },
     "metadata": {},
     "output_type": "display_data"
    }
   ],
   "source": [
    "df['Vehicle_Type'].value_counts().plot(kind='bar')\n"
   ]
  },
  {
   "attachments": {},
   "cell_type": "markdown",
   "metadata": {},
   "source": [
    "**Esto es problematico, vemos que en la base de datos solo hay ejemplos para muertes de bicicletas**. Por tanto esta variable es irrelevante. **Vamos a dropearla de una vez de la base de datos**\n"
   ]
  },
  {
   "cell_type": "code",
   "execution_count": 1339,
   "metadata": {},
   "outputs": [],
   "source": [
    "df = df.drop('Vehicle_Type', axis=1)\n"
   ]
  },
  {
   "cell_type": "code",
   "execution_count": 1340,
   "metadata": {},
   "outputs": [
    {
     "data": {
      "text/plain": [
       "Time                                            string\n",
       "Number_of_Casualties                             int64\n",
       "Day_of_Week                                     string\n",
       "Road_Type                                        int64\n",
       "Speed_limit                                    float64\n",
       "Light_Conditions                                 int64\n",
       "Weather_Conditions                               int64\n",
       "Road_Surface_Conditions                          int64\n",
       "Urban_or_Rural_Area                              int64\n",
       "Did_Police_Officer_Attend_Scene_of_Accident      int64\n",
       "Junction_Detail                                  int64\n",
       "Number_of_Vehicles                               int64\n",
       "Accident_Severity                                int64\n",
       "Unnamed: 14                                    float64\n",
       "dtype: object"
      ]
     },
     "execution_count": 1340,
     "metadata": {},
     "output_type": "execute_result"
    }
   ],
   "source": [
    "df.dtypes\n"
   ]
  },
  {
   "attachments": {},
   "cell_type": "markdown",
   "metadata": {},
   "source": [
    "- Ahora bien, ya que terminamos el analisis de las variables string continuaremos con las que son categoricas segun la base de datos. Sin embargo antes analizaremos una la columna Unnamed. **Llama la atención que hay un alto porcentaje de valores nulos**\n"
   ]
  },
  {
   "cell_type": "code",
   "execution_count": 1341,
   "metadata": {},
   "outputs": [
    {
     "name": "stdout",
     "output_type": "stream",
     "text": [
      "Hay 5338 valores nulos en esta columna de 5338\n"
     ]
    }
   ],
   "source": [
    "print('Hay ' + str(len(df['Unnamed: 14'].isna())) +\n",
    "      ' valores nulos en esta columna de ' + str(df.shape[0]))\n"
   ]
  },
  {
   "cell_type": "code",
   "execution_count": 1342,
   "metadata": {},
   "outputs": [],
   "source": [
    "# Vamos a dropearla\n",
    "df = df.drop('Unnamed: 14', axis=1)\n"
   ]
  },
  {
   "attachments": {},
   "cell_type": "markdown",
   "metadata": {},
   "source": [
    "### 1.1 Análisis Variables categoricas\n"
   ]
  },
  {
   "attachments": {},
   "cell_type": "markdown",
   "metadata": {},
   "source": [
    "- Segun el diccionario de la base de datos las siguientes variables son categoricas\n",
    "\n",
    "  - Accident_severity\n",
    "  - Day_of_Week\n",
    "  - Time\n",
    "  - Road type\n",
    "  - Junction_detail\n",
    "  - Light_conditions\n",
    "  - Weather_Conditions\n",
    "  - Road_surface_conditions\n",
    "  - Urban_or_Rural_Area\n",
    "  - Vehicle_Type\n",
    "  - Did_Police_Officer_Attend_Scene_of_Accident\n",
    "\n",
    "- Vamos a convertir estas a str y ver sus distribuciones entre las categoriasy analizar los resultados.\n"
   ]
  },
  {
   "attachments": {},
   "cell_type": "markdown",
   "metadata": {},
   "source": [
    "#### 1.1.1 Convertir a string\n"
   ]
  },
  {
   "cell_type": "code",
   "execution_count": 1343,
   "metadata": {},
   "outputs": [],
   "source": [
    "cat_vars = ['Accident_Severity',\n",
    "            'Day_of_Week',\n",
    "            'Time', 'Road_Type',\n",
    "            'Junction_Detail',\n",
    "            'Light_Conditions',\n",
    "            'Weather_Conditions',\n",
    "            'Road_Surface_Conditions',\n",
    "            'Urban_or_Rural_Area',\n",
    "            # 'Vehicle_type', // Esta la dropeamos\n",
    "            'Did_Police_Officer_Attend_Scene_of_Accident']\n",
    "\n",
    "for var in cat_vars:\n",
    "    df[var] = df[var].astype('string')\n"
   ]
  },
  {
   "cell_type": "code",
   "execution_count": 1344,
   "metadata": {},
   "outputs": [
    {
     "data": {
      "text/plain": [
       "Time                                            string\n",
       "Number_of_Casualties                             int64\n",
       "Day_of_Week                                     string\n",
       "Road_Type                                       string\n",
       "Speed_limit                                    float64\n",
       "Light_Conditions                                string\n",
       "Weather_Conditions                              string\n",
       "Road_Surface_Conditions                         string\n",
       "Urban_or_Rural_Area                             string\n",
       "Did_Police_Officer_Attend_Scene_of_Accident     string\n",
       "Junction_Detail                                 string\n",
       "Number_of_Vehicles                               int64\n",
       "Accident_Severity                               string\n",
       "dtype: object"
      ]
     },
     "execution_count": 1344,
     "metadata": {},
     "output_type": "execute_result"
    }
   ],
   "source": [
    "df.dtypes\n"
   ]
  },
  {
   "attachments": {},
   "cell_type": "markdown",
   "metadata": {},
   "source": [
    "#### 1.1.2 Reemplazar por labels del diccionario para las que faltan y ver su distribucion\n"
   ]
  },
  {
   "cell_type": "code",
   "execution_count": 1345,
   "metadata": {},
   "outputs": [],
   "source": [
    "# Bien, ahora miremos las distribuciones\n",
    "def plot_distribution(df: pd.DataFrame, col: str, dropna=True):\n",
    "    df[col].value_counts(dropna=dropna).plot(kind='bar')\n"
   ]
  },
  {
   "cell_type": "code",
   "execution_count": 1346,
   "metadata": {},
   "outputs": [],
   "source": [
    "df['Accident_Severity'] = df['Accident_Severity'].replace(\n",
    "    {'1': 'Fatal', '2': 'Serio', '3': 'Leve'})\n"
   ]
  },
  {
   "cell_type": "code",
   "execution_count": 1347,
   "metadata": {},
   "outputs": [
    {
     "data": {
      "image/png": "[encoded data removed]",
      "text/plain": [
       "<Figure size 640x480 with 1 Axes>"
      ]
     },
     "metadata": {},
     "output_type": "display_data"
    }
   ],
   "source": [
    "plot_distribution(df, 'Accident_Severity')\n"
   ]
  },
  {
   "cell_type": "code",
   "execution_count": 1348,
   "metadata": {},
   "outputs": [],
   "source": [
    "labels = ['Rotonda', '1SoloSentido', 'Autovia',\n",
    "          'Calzada', 'Circunvalacion', 'Desconocida']\n",
    "numbers = list(map(str, [1, 2, 3, 6, 7, 9]))\n",
    "df['Road_Type'] = df['Road_Type'].replace(dict(zip(numbers, labels)))\n"
   ]
  },
  {
   "cell_type": "code",
   "execution_count": 1349,
   "metadata": {},
   "outputs": [
    {
     "data": {
      "image/png": "[encoded data removed]",
      "text/plain": [
       "<Figure size 640x480 with 1 Axes>"
      ]
     },
     "metadata": {},
     "output_type": "display_data"
    }
   ],
   "source": [
    "plot_distribution(df, 'Road_Type')\n"
   ]
  },
  {
   "cell_type": "code",
   "execution_count": 1350,
   "metadata": {},
   "outputs": [],
   "source": [
    "df['Junction_Detail'] = df['Junction_Detail'].astype('string')\n"
   ]
  },
  {
   "cell_type": "code",
   "execution_count": 1351,
   "metadata": {},
   "outputs": [
    {
     "data": {
      "text/plain": [
       "0     2763\n",
       "3     1555\n",
       "6      468\n",
       "1      199\n",
       "9      171\n",
       "7       68\n",
       "8       43\n",
       "2       34\n",
       "-1      25\n",
       "5       12\n",
       "Name: Junction_Detail, dtype: Int64"
      ]
     },
     "execution_count": 1351,
     "metadata": {},
     "output_type": "execute_result"
    }
   ],
   "source": [
    "df['Junction_Detail'].value_counts(dropna=False)\n"
   ]
  },
  {
   "cell_type": "code",
   "execution_count": 1352,
   "metadata": {},
   "outputs": [],
   "source": [
    "labels = {'0': 'No_hay_cruce', '1': 'Rotonda', '2': 'Minirotonda', '3': 'T', '5': 'Carretera_Acceso',\n",
    "          '6': 'Encrucijada', '7': '+4salidas', '8': 'Entrada_Privada', '9': 'Otros', '-1': np.NAN}\n"
   ]
  },
  {
   "cell_type": "code",
   "execution_count": 1353,
   "metadata": {},
   "outputs": [],
   "source": [
    "df['Junction_Detail'] = df['Junction_Detail'].replace(labels)\n"
   ]
  },
  {
   "cell_type": "code",
   "execution_count": 1354,
   "metadata": {},
   "outputs": [
    {
     "data": {
      "image/png": "[encoded data removed]",
      "text/plain": [
       "<Figure size 640x480 with 1 Axes>"
      ]
     },
     "metadata": {},
     "output_type": "display_data"
    }
   ],
   "source": [
    "plot_distribution(df, 'Junction_Detail', False)\n"
   ]
  },
  {
   "attachments": {},
   "cell_type": "markdown",
   "metadata": {},
   "source": [
    "**Vemos que hay nans en esta característica**. Son pocos entonces más adelante lso imputaremos con la moda (No_hay_cruce).\n"
   ]
  },
  {
   "cell_type": "code",
   "execution_count": 1355,
   "metadata": {},
   "outputs": [],
   "source": [
    "labels_light_conditions = {'1': 'Diurna', '4': 'Oscuridad_Luces_Encendidas',\n",
    "                           '6': 'Oscuridad_Sin_Iluminacion', '7': 'Oscuridad_Iluminacion_Desconocida', '5': 'Oscuridad_Luces_Apagadas'}\n"
   ]
  },
  {
   "cell_type": "code",
   "execution_count": 1356,
   "metadata": {},
   "outputs": [],
   "source": [
    "df['Light_Conditions'] = df['Light_Conditions'].replace(\n",
    "    labels_light_conditions)\n"
   ]
  },
  {
   "cell_type": "code",
   "execution_count": 1357,
   "metadata": {},
   "outputs": [
    {
     "data": {
      "image/png": "[encoded data removed]",
      "text/plain": [
       "<Figure size 640x480 with 1 Axes>"
      ]
     },
     "metadata": {},
     "output_type": "display_data"
    }
   ],
   "source": [
    "plot_distribution(df, 'Light_Conditions')\n"
   ]
  },
  {
   "cell_type": "code",
   "execution_count": 1358,
   "metadata": {},
   "outputs": [
    {
     "data": {
      "text/plain": [
       "1    4621\n",
       "2     321\n",
       "9     191\n",
       "8      80\n",
       "4      59\n",
       "5      46\n",
       "3      12\n",
       "7       7\n",
       "6       1\n",
       "Name: Weather_Conditions, dtype: Int64"
      ]
     },
     "execution_count": 1358,
     "metadata": {},
     "output_type": "execute_result"
    }
   ],
   "source": [
    "df['Weather_Conditions'].value_counts()\n"
   ]
  },
  {
   "cell_type": "code",
   "execution_count": 1359,
   "metadata": {},
   "outputs": [],
   "source": [
    "labels = ['Bien, con vientos suaves', 'Lluvioso', 'Nevando', 'Bien, con vientos fuertes',\n",
    "          'Lluvioso, con vientos fuertes', 'Nevando, con vientos fuertes', 'Niebla', 'Otro', 'Desconocido']\n",
    "replace_weather_conditions = dict(\n",
    "    map(lambda x: (str(x[0] + 1), x[1]), enumerate(labels)))\n"
   ]
  },
  {
   "cell_type": "code",
   "execution_count": 1360,
   "metadata": {},
   "outputs": [
    {
     "data": {
      "text/plain": [
       "{'1': 'Bien, con vientos suaves',\n",
       " '2': 'Lluvioso',\n",
       " '3': 'Nevando',\n",
       " '4': 'Bien, con vientos fuertes',\n",
       " '5': 'Lluvioso, con vientos fuertes',\n",
       " '6': 'Nevando, con vientos fuertes',\n",
       " '7': 'Niebla',\n",
       " '8': 'Otro',\n",
       " '9': 'Desconocido'}"
      ]
     },
     "execution_count": 1360,
     "metadata": {},
     "output_type": "execute_result"
    }
   ],
   "source": [
    "replace_weather_conditions\n"
   ]
  },
  {
   "cell_type": "code",
   "execution_count": 1361,
   "metadata": {},
   "outputs": [],
   "source": [
    "df['Weather_Conditions'] = df['Weather_Conditions'].replace(\n",
    "    replace_weather_conditions)\n"
   ]
  },
  {
   "cell_type": "code",
   "execution_count": 1362,
   "metadata": {},
   "outputs": [
    {
     "data": {
      "image/png": "[encoded data removed]",
      "text/plain": [
       "<Figure size 640x480 with 1 Axes>"
      ]
     },
     "metadata": {},
     "output_type": "display_data"
    }
   ],
   "source": [
    "plot_distribution(df, 'Weather_Conditions')\n"
   ]
  },
  {
   "cell_type": "code",
   "execution_count": 1363,
   "metadata": {},
   "outputs": [
    {
     "data": {
      "text/plain": [
       "1     4260\n",
       "2      901\n",
       "4       87\n",
       "-1      81\n",
       "3        8\n",
       "5        1\n",
       "Name: Road_Surface_Conditions, dtype: Int64"
      ]
     },
     "execution_count": 1363,
     "metadata": {},
     "output_type": "execute_result"
    }
   ],
   "source": [
    "df['Road_Surface_Conditions'].value_counts()\n"
   ]
  },
  {
   "cell_type": "code",
   "execution_count": 1364,
   "metadata": {},
   "outputs": [
    {
     "data": {
      "text/plain": [
       "{'1': 'Seca',\n",
       " '2': 'Húmeda',\n",
       " '3': 'Nieve',\n",
       " '4': 'Hielo',\n",
       " '5': 'Inundadas',\n",
       " '6': 'Aceite',\n",
       " '7': 'Fango',\n",
       " '-1': nan}"
      ]
     },
     "execution_count": 1364,
     "metadata": {},
     "output_type": "execute_result"
    }
   ],
   "source": [
    "labels = ['Seca', 'Húmeda', 'Nieve', 'Hielo', 'Inundadas', 'Aceite', 'Fango']\n",
    "replace_road_surface_conditions = dict(\n",
    "    map(lambda x: (str(x[0] + 1), x[1]), enumerate(labels))) | {'-1': np.NAN}\n",
    "replace_road_surface_conditions\n"
   ]
  },
  {
   "cell_type": "code",
   "execution_count": 1365,
   "metadata": {},
   "outputs": [],
   "source": [
    "df['Road_Surface_Condition'] = df['Road_Surface_Conditions'].replace(\n",
    "    replace_road_surface_conditions)\n"
   ]
  },
  {
   "cell_type": "code",
   "execution_count": 1366,
   "metadata": {},
   "outputs": [
    {
     "data": {
      "image/png": "[encoded data removed]",
      "text/plain": [
       "<Figure size 640x480 with 1 Axes>"
      ]
     },
     "metadata": {},
     "output_type": "display_data"
    }
   ],
   "source": [
    "plot_distribution(df, 'Road_Surface_Condition', False)\n"
   ]
  },
  {
   "cell_type": "code",
   "execution_count": 1367,
   "metadata": {},
   "outputs": [
    {
     "data": {
      "text/plain": [
       "1    4040\n",
       "2    1298\n",
       "Name: Urban_or_Rural_Area, dtype: Int64"
      ]
     },
     "execution_count": 1367,
     "metadata": {},
     "output_type": "execute_result"
    }
   ],
   "source": [
    "df['Urban_or_Rural_Area'].value_counts()\n"
   ]
  },
  {
   "cell_type": "code",
   "execution_count": 1368,
   "metadata": {},
   "outputs": [
    {
     "data": {
      "text/plain": [
       "{'1': 'Urbano', '2': 'Rural', '3': 'No especificado'}"
      ]
     },
     "execution_count": 1368,
     "metadata": {},
     "output_type": "execute_result"
    }
   ],
   "source": [
    "labels = ['Urbano', 'Rural', 'No especificado']\n",
    "replace_urban_rural = dict(\n",
    "    map(lambda x: (str(x[0] + 1), x[1]), enumerate(labels)))\n",
    "replace_urban_rural\n"
   ]
  },
  {
   "cell_type": "code",
   "execution_count": 1369,
   "metadata": {},
   "outputs": [],
   "source": [
    "df['Urban_or_Rural_Area'] = df['Urban_or_Rural_Area'].replace(\n",
    "    replace_urban_rural)\n"
   ]
  },
  {
   "cell_type": "code",
   "execution_count": 1370,
   "metadata": {},
   "outputs": [
    {
     "data": {
      "image/png": "[encoded data removed]",
      "text/plain": [
       "<Figure size 640x480 with 1 Axes>"
      ]
     },
     "metadata": {},
     "output_type": "display_data"
    }
   ],
   "source": [
    "plot_distribution(df, 'Urban_or_Rural_Area')\n"
   ]
  },
  {
   "cell_type": "code",
   "execution_count": 1371,
   "metadata": {},
   "outputs": [
    {
     "data": {
      "text/plain": [
       "1     4059\n",
       "2     1231\n",
       "3       46\n",
       "-1       2\n",
       "Name: Did_Police_Officer_Attend_Scene_of_Accident, dtype: Int64"
      ]
     },
     "execution_count": 1371,
     "metadata": {},
     "output_type": "execute_result"
    }
   ],
   "source": [
    "df['Did_Police_Officer_Attend_Scene_of_Accident'].value_counts()\n"
   ]
  },
  {
   "cell_type": "code",
   "execution_count": 1372,
   "metadata": {},
   "outputs": [],
   "source": [
    "replace_police = {'1': 'Si', '2': 'No', '3': 'No se reporto', '-1': np.NAN}\n"
   ]
  },
  {
   "cell_type": "code",
   "execution_count": 1373,
   "metadata": {},
   "outputs": [],
   "source": [
    "df['Did_Police_Officer_Attend_Scene_of_Accident'] = df['Did_Police_Officer_Attend_Scene_of_Accident'].replace(\n",
    "    replace_police)\n"
   ]
  },
  {
   "cell_type": "code",
   "execution_count": 1374,
   "metadata": {},
   "outputs": [
    {
     "data": {
      "image/png": "[encoded data removed]",
      "text/plain": [
       "<Figure size 640x480 with 1 Axes>"
      ]
     },
     "metadata": {},
     "output_type": "display_data"
    }
   ],
   "source": [
    "plot_distribution(df, 'Did_Police_Officer_Attend_Scene_of_Accident', False)\n"
   ]
  },
  {
   "attachments": {},
   "cell_type": "markdown",
   "metadata": {},
   "source": [
    "### 1.2 Analisis Variables Continuas\n"
   ]
  },
  {
   "attachments": {},
   "cell_type": "markdown",
   "metadata": {},
   "source": [
    "#### 1.2.1 Recuperar variables continuas\n"
   ]
  },
  {
   "attachments": {},
   "cell_type": "markdown",
   "metadata": {},
   "source": [
    "- Vamos a analizar el, número de missing values y distribución de cada una de estas variables\n"
   ]
  },
  {
   "cell_type": "code",
   "execution_count": 1375,
   "metadata": {},
   "outputs": [],
   "source": [
    "def is_str(x): return type(df[x].dtype) is pd.core.arrays.string_.StringDtype\n"
   ]
  },
  {
   "cell_type": "code",
   "execution_count": 1376,
   "metadata": {},
   "outputs": [
    {
     "data": {
      "text/plain": [
       "['Time',\n",
       " 'Number_of_Casualties',\n",
       " 'Day_of_Week',\n",
       " 'Road_Type',\n",
       " 'Speed_limit',\n",
       " 'Light_Conditions',\n",
       " 'Weather_Conditions',\n",
       " 'Road_Surface_Conditions',\n",
       " 'Urban_or_Rural_Area',\n",
       " 'Did_Police_Officer_Attend_Scene_of_Accident',\n",
       " 'Junction_Detail',\n",
       " 'Number_of_Vehicles',\n",
       " 'Accident_Severity',\n",
       " 'Road_Surface_Condition']"
      ]
     },
     "execution_count": 1376,
     "metadata": {},
     "output_type": "execute_result"
    }
   ],
   "source": [
    "list(df.columns)\n"
   ]
  },
  {
   "cell_type": "code",
   "execution_count": 1377,
   "metadata": {},
   "outputs": [],
   "source": [
    "cont_cols = list(filter(lambda x: not is_str(x), list(df.columns)))\n"
   ]
  },
  {
   "cell_type": "code",
   "execution_count": 1378,
   "metadata": {},
   "outputs": [
    {
     "data": {
      "text/plain": [
       "['Number_of_Casualties', 'Speed_limit', 'Number_of_Vehicles']"
      ]
     },
     "execution_count": 1378,
     "metadata": {},
     "output_type": "execute_result"
    }
   ],
   "source": [
    "cont_cols\n"
   ]
  },
  {
   "attachments": {},
   "cell_type": "markdown",
   "metadata": {},
   "source": [
    "#### 1.2.2 Explorar distribuciones\n"
   ]
  },
  {
   "attachments": {},
   "cell_type": "markdown",
   "metadata": {},
   "source": [
    "- Miremos la densidad del numero de muertes\n"
   ]
  },
  {
   "cell_type": "code",
   "execution_count": 1379,
   "metadata": {},
   "outputs": [
    {
     "data": {
      "text/plain": [
       "<Axes: ylabel='Density'>"
      ]
     },
     "execution_count": 1379,
     "metadata": {},
     "output_type": "execute_result"
    },
    {
     "data": {
      "image/png": "[encoded data removed]",
      "text/plain": [
       "<Figure size 640x480 with 1 Axes>"
      ]
     },
     "metadata": {},
     "output_type": "display_data"
    }
   ],
   "source": [
    "df[cont_cols[0]].plot(kind='kde', ylabel='Density Number of Casualties')\n"
   ]
  },
  {
   "attachments": {},
   "cell_type": "markdown",
   "metadata": {},
   "source": [
    "- Vemos que para esta variable la mayoria estan concentradas en 1 y el resto en 2, 3 o 4. Vamos a convertir esta variable en una variable categorica\n"
   ]
  },
  {
   "cell_type": "code",
   "execution_count": 1380,
   "metadata": {},
   "outputs": [],
   "source": [
    "df[cont_cols[0]] = df[cont_cols[0]].astype('string')\n"
   ]
  },
  {
   "cell_type": "code",
   "execution_count": 1381,
   "metadata": {},
   "outputs": [
    {
     "data": {
      "image/png": "[encoded data removed]",
      "text/plain": [
       "<Figure size 640x480 with 1 Axes>"
      ]
     },
     "metadata": {},
     "output_type": "display_data"
    }
   ],
   "source": [
    "plot_distribution(df, cont_cols[0])\n"
   ]
  },
  {
   "cell_type": "code",
   "execution_count": 1382,
   "metadata": {},
   "outputs": [],
   "source": [
    "# Actualizemos las variables continuas ya que removimos una\n",
    "cont_cols = cont_cols[1:]\n"
   ]
  },
  {
   "cell_type": "code",
   "execution_count": 1383,
   "metadata": {},
   "outputs": [
    {
     "data": {
      "text/plain": [
       "'Speed_limit'"
      ]
     },
     "execution_count": 1383,
     "metadata": {},
     "output_type": "execute_result"
    }
   ],
   "source": [
    "# Sigamos explorando ahora esta variable\n",
    "cont_cols[0]\n"
   ]
  },
  {
   "cell_type": "code",
   "execution_count": 1384,
   "metadata": {},
   "outputs": [
    {
     "data": {
      "text/plain": [
       "<Axes: ylabel='Density'>"
      ]
     },
     "execution_count": 1384,
     "metadata": {},
     "output_type": "execute_result"
    },
    {
     "data": {
      "image/png": "[encoded data removed]",
      "text/plain": [
       "<Figure size 640x480 with 1 Axes>"
      ]
     },
     "metadata": {},
     "output_type": "display_data"
    }
   ],
   "source": [
    "df[cont_cols[0]].plot(kind='kde')\n"
   ]
  },
  {
   "cell_type": "code",
   "execution_count": 1385,
   "metadata": {},
   "outputs": [
    {
     "data": {
      "text/plain": [
       "30.0    4047\n",
       "60.0     533\n",
       "40.0     322\n",
       "20.0     321\n",
       "50.0      87\n",
       "70.0      27\n",
       "15.0       1\n",
       "Name: Speed_limit, dtype: int64"
      ]
     },
     "execution_count": 1385,
     "metadata": {},
     "output_type": "execute_result"
    }
   ],
   "source": [
    "# Veamos ahora los value counts\n",
    "df[cont_cols[0]].value_counts()\n"
   ]
  },
  {
   "cell_type": "code",
   "execution_count": 1386,
   "metadata": {},
   "outputs": [],
   "source": [
    "# Tampoco tiene mucha variabilidad, vamos a pasarla a discreta.\n"
   ]
  },
  {
   "cell_type": "code",
   "execution_count": 1387,
   "metadata": {},
   "outputs": [],
   "source": [
    "df[cont_cols[0]] = df[cont_cols[0]].astype('string')\n"
   ]
  },
  {
   "cell_type": "code",
   "execution_count": 1388,
   "metadata": {},
   "outputs": [
    {
     "data": {
      "image/png": "[encoded data removed]",
      "text/plain": [
       "<Figure size 640x480 with 1 Axes>"
      ]
     },
     "metadata": {},
     "output_type": "display_data"
    }
   ],
   "source": [
    "plot_distribution(df, cont_cols[0])\n"
   ]
  },
  {
   "cell_type": "code",
   "execution_count": 1389,
   "metadata": {},
   "outputs": [
    {
     "data": {
      "text/plain": [
       "['Number_of_Vehicles']"
      ]
     },
     "execution_count": 1389,
     "metadata": {},
     "output_type": "execute_result"
    }
   ],
   "source": [
    "# Actualizemos ya que volvimos a reducir este conjunto de variables continuas\n",
    "cont_cols = cont_cols[1:]\n",
    "cont_cols\n"
   ]
  },
  {
   "cell_type": "code",
   "execution_count": 1390,
   "metadata": {},
   "outputs": [
    {
     "data": {
      "text/plain": [
       "<Axes: ylabel='Density'>"
      ]
     },
     "execution_count": 1390,
     "metadata": {},
     "output_type": "execute_result"
    },
    {
     "data": {
      "image/png": "[encoded data removed]",
      "text/plain": [
       "<Figure size 640x480 with 1 Axes>"
      ]
     },
     "metadata": {},
     "output_type": "display_data"
    }
   ],
   "source": [
    "# Exploremos la distribución de número de vehiculos\n",
    "df[cont_cols[0]].plot(kind='kde')\n"
   ]
  },
  {
   "cell_type": "code",
   "execution_count": 1391,
   "metadata": {},
   "outputs": [
    {
     "data": {
      "text/plain": [
       "1    5332\n",
       "2       6\n",
       "Name: Number_of_Vehicles, dtype: int64"
      ]
     },
     "execution_count": 1391,
     "metadata": {},
     "output_type": "execute_result"
    }
   ],
   "source": [
    "# Miremos los value counts\n",
    "df[cont_cols[0]].value_counts()\n"
   ]
  },
  {
   "cell_type": "code",
   "execution_count": 1392,
   "metadata": {},
   "outputs": [],
   "source": [
    "# No hay variabilidad, vale más la pena estudiarla como variable categorica\n"
   ]
  },
  {
   "cell_type": "code",
   "execution_count": 1393,
   "metadata": {},
   "outputs": [],
   "source": [
    "df[cont_cols[0]] = df[cont_cols[0]].astype('string')\n"
   ]
  },
  {
   "cell_type": "code",
   "execution_count": 1394,
   "metadata": {},
   "outputs": [
    {
     "data": {
      "image/png": "[encoded data removed]",
      "text/plain": [
       "<Figure size 640x480 with 1 Axes>"
      ]
     },
     "metadata": {},
     "output_type": "display_data"
    }
   ],
   "source": [
    "plot_distribution(df, cont_cols[0])\n"
   ]
  },
  {
   "attachments": {},
   "cell_type": "markdown",
   "metadata": {},
   "source": [
    "### 1.3 Resumen resultado exploración\n"
   ]
  },
  {
   "attachments": {},
   "cell_type": "markdown",
   "metadata": {},
   "source": [
    "- Tenemos entonces las siguientes variables\n"
   ]
  },
  {
   "cell_type": "code",
   "execution_count": 1395,
   "metadata": {},
   "outputs": [
    {
     "data": {
      "text/plain": [
       "Time                                           string\n",
       "Number_of_Casualties                           string\n",
       "Day_of_Week                                    string\n",
       "Road_Type                                      string\n",
       "Speed_limit                                    string\n",
       "Light_Conditions                               string\n",
       "Weather_Conditions                             string\n",
       "Road_Surface_Conditions                        string\n",
       "Urban_or_Rural_Area                            string\n",
       "Did_Police_Officer_Attend_Scene_of_Accident    string\n",
       "Junction_Detail                                string\n",
       "Number_of_Vehicles                             string\n",
       "Accident_Severity                              string\n",
       "Road_Surface_Condition                         string\n",
       "dtype: object"
      ]
     },
     "execution_count": 1395,
     "metadata": {},
     "output_type": "execute_result"
    }
   ],
   "source": [
    "df.dtypes\n"
   ]
  },
  {
   "attachments": {},
   "cell_type": "markdown",
   "metadata": {},
   "source": [
    "- Como vemos, debido a la baja variabilidad de las que representaban valores númericos originalmente, optamos por tratarlas como categoricas.\n",
    "- Miremos el número de valores faltantes por columna\n"
   ]
  },
  {
   "cell_type": "code",
   "execution_count": 1396,
   "metadata": {},
   "outputs": [
    {
     "data": {
      "text/plain": [
       "Time                                            0\n",
       "Number_of_Casualties                            0\n",
       "Day_of_Week                                    19\n",
       "Road_Type                                       0\n",
       "Speed_limit                                     0\n",
       "Light_Conditions                                0\n",
       "Weather_Conditions                              0\n",
       "Road_Surface_Conditions                         0\n",
       "Urban_or_Rural_Area                             0\n",
       "Did_Police_Officer_Attend_Scene_of_Accident     2\n",
       "Junction_Detail                                25\n",
       "Number_of_Vehicles                              0\n",
       "Accident_Severity                               0\n",
       "Road_Surface_Condition                         81\n",
       "dtype: int64"
      ]
     },
     "execution_count": 1396,
     "metadata": {},
     "output_type": "execute_result"
    }
   ],
   "source": [
    "df.isna().sum()\n"
   ]
  },
  {
   "attachments": {},
   "cell_type": "markdown",
   "metadata": {},
   "source": [
    "- Vemos que, relativo al total de observaciones el número de valores faltantes es bajo y por tanto procederemos a hacer una imputación con la moda para las variables categoricas (todas). En la siguiente seccion realizaremos esto y posteriormente un OneHotEncoding.\n"
   ]
  },
  {
   "attachments": {},
   "cell_type": "markdown",
   "metadata": {},
   "source": [
    "## 2. Construcción del Pipeline\n"
   ]
  },
  {
   "cell_type": "code",
   "execution_count": 1397,
   "metadata": {},
   "outputs": [],
   "source": [
    "from sklearn.compose import ColumnTransformer\n",
    "from sklearn.impute import SimpleImputer\n",
    "from sklearn.preprocessing import OneHotEncoder\n",
    "from sklearn.pipeline import Pipeline\n"
   ]
  },
  {
   "cell_type": "code",
   "execution_count": 1398,
   "metadata": {},
   "outputs": [
    {
     "name": "stderr",
     "output_type": "stream",
     "text": [
      "/var/folders/x7/86msfzy10gn62hrc2kbqnsyw0000gq/T/ipykernel_43994/1477656044.py:1: DeprecationWarning: In a future version, `df.iloc[:, i] = newvals` will attempt to set the values inplace instead of always setting a new array. To retain the old behavior, use either `df[df.columns[i]] = newvals` or, if columns are non-unique, `df.isetitem(i, newvals)`\n"
     ]
    }
   ],
   "source": [
    "df[:] = df[:].astype('category')\n"
   ]
  },
  {
   "cell_type": "code",
   "execution_count": 1399,
   "metadata": {},
   "outputs": [
    {
     "name": "stderr",
     "output_type": "stream",
     "text": [
      "/var/folders/x7/86msfzy10gn62hrc2kbqnsyw0000gq/T/ipykernel_43994/1578082431.py:2: DeprecationWarning: In a future version, `df.iloc[:, i] = newvals` will attempt to set the values inplace instead of always setting a new array. To retain the old behavior, use either `df[df.columns[i]] = newvals` or, if columns are non-unique, `df.isetitem(i, newvals)`\n"
     ]
    },
    {
     "data": {
      "text/plain": [
       "Time                                            0\n",
       "Number_of_Casualties                            0\n",
       "Day_of_Week                                    19\n",
       "Road_Type                                       0\n",
       "Speed_limit                                     0\n",
       "Light_Conditions                                0\n",
       "Weather_Conditions                              0\n",
       "Road_Surface_Conditions                         0\n",
       "Urban_or_Rural_Area                             0\n",
       "Did_Police_Officer_Attend_Scene_of_Accident     2\n",
       "Junction_Detail                                25\n",
       "Number_of_Vehicles                              0\n",
       "Accident_Severity                               0\n",
       "Road_Surface_Condition                         81\n",
       "dtype: int64"
      ]
     },
     "execution_count": 1399,
     "metadata": {},
     "output_type": "execute_result"
    }
   ],
   "source": [
    "# Transformación necesaria para que identifique\n",
    "df[:] = df[:].replace({np.NAN: None})\n",
    "df.isna().sum()\n"
   ]
  },
  {
   "cell_type": "code",
   "execution_count": 1400,
   "metadata": {},
   "outputs": [
    {
     "data": {
      "text/plain": [
       "['Road_Type',\n",
       " 'Light_Conditions',\n",
       " 'Weather_Conditions',\n",
       " 'Urban_or_Rural_Area',\n",
       " 'Did_Police_Officer_Attend_Scene_of_Accident',\n",
       " 'Junction_Detail',\n",
       " 'Accident_Severity',\n",
       " 'Road_Surface_Condition',\n",
       " 'Cluster Labels',\n",
       " 'Segment']"
      ]
     },
     "execution_count": 1400,
     "metadata": {},
     "output_type": "execute_result"
    }
   ],
   "source": [
    "cols\n"
   ]
  },
  {
   "cell_type": "code",
   "execution_count": 1401,
   "metadata": {},
   "outputs": [
    {
     "data": {
      "text/plain": [
       "Time                                           0\n",
       "Number_of_Casualties                           0\n",
       "Day_of_Week                                    0\n",
       "Road_Type                                      0\n",
       "Speed_limit                                    0\n",
       "Light_Conditions                               0\n",
       "Weather_Conditions                             0\n",
       "Road_Surface_Conditions                        0\n",
       "Urban_or_Rural_Area                            0\n",
       "Did_Police_Officer_Attend_Scene_of_Accident    0\n",
       "Junction_Detail                                0\n",
       "Number_of_Vehicles                             0\n",
       "Accident_Severity                              0\n",
       "Road_Surface_Condition                         0\n",
       "dtype: int64"
      ]
     },
     "execution_count": 1401,
     "metadata": {},
     "output_type": "execute_result"
    }
   ],
   "source": [
    "cols = list(df.columns)\n",
    "imputer = SimpleImputer(strategy='most_frequent', missing_values=None)\n",
    "imputed = pd.DataFrame(imputer.fit_transform(df), columns=cols)\n",
    "imputed.isna().sum()\n"
   ]
  },
  {
   "cell_type": "code",
   "execution_count": 1402,
   "metadata": {},
   "outputs": [
    {
     "data": {
      "text/html": [
       "<div>\n",
       "<style scoped>\n",
       "    .dataframe tbody tr th:only-of-type {\n",
       "        vertical-align: middle;\n",
       "    }\n",
       "\n",
       "    .dataframe tbody tr th {\n",
       "        vertical-align: top;\n",
       "    }\n",
       "\n",
       "    .dataframe thead th {\n",
       "        text-align: right;\n",
       "    }\n",
       "</style>\n",
       "<table border=\"1\" class=\"dataframe\">\n",
       "  <thead>\n",
       "    <tr style=\"text-align: right;\">\n",
       "      <th></th>\n",
       "      <th>Time</th>\n",
       "      <th>Number_of_Casualties</th>\n",
       "      <th>Day_of_Week</th>\n",
       "      <th>Road_Type</th>\n",
       "      <th>Speed_limit</th>\n",
       "      <th>Light_Conditions</th>\n",
       "      <th>Weather_Conditions</th>\n",
       "      <th>Road_Surface_Conditions</th>\n",
       "      <th>Urban_or_Rural_Area</th>\n",
       "      <th>Did_Police_Officer_Attend_Scene_of_Accident</th>\n",
       "      <th>Junction_Detail</th>\n",
       "      <th>Number_of_Vehicles</th>\n",
       "      <th>Accident_Severity</th>\n",
       "      <th>Road_Surface_Condition</th>\n",
       "    </tr>\n",
       "  </thead>\n",
       "  <tbody>\n",
       "    <tr>\n",
       "      <th>0</th>\n",
       "      <td>Mañana</td>\n",
       "      <td>1</td>\n",
       "      <td>Día laboral</td>\n",
       "      <td>Calzada</td>\n",
       "      <td>30.0</td>\n",
       "      <td>Diurna</td>\n",
       "      <td>Bien, con vientos suaves</td>\n",
       "      <td>1</td>\n",
       "      <td>Urbano</td>\n",
       "      <td>Si</td>\n",
       "      <td>T</td>\n",
       "      <td>1</td>\n",
       "      <td>Leve</td>\n",
       "      <td>Seca</td>\n",
       "    </tr>\n",
       "    <tr>\n",
       "      <th>1</th>\n",
       "      <td>Mañana</td>\n",
       "      <td>1</td>\n",
       "      <td>Día laboral</td>\n",
       "      <td>Calzada</td>\n",
       "      <td>30.0</td>\n",
       "      <td>Diurna</td>\n",
       "      <td>Bien, con vientos suaves</td>\n",
       "      <td>1</td>\n",
       "      <td>Urbano</td>\n",
       "      <td>Si</td>\n",
       "      <td>No_hay_cruce</td>\n",
       "      <td>1</td>\n",
       "      <td>Leve</td>\n",
       "      <td>Seca</td>\n",
       "    </tr>\n",
       "    <tr>\n",
       "      <th>2</th>\n",
       "      <td>Tarde</td>\n",
       "      <td>1</td>\n",
       "      <td>Fin de semana</td>\n",
       "      <td>Calzada</td>\n",
       "      <td>30.0</td>\n",
       "      <td>Diurna</td>\n",
       "      <td>Bien, con vientos suaves</td>\n",
       "      <td>1</td>\n",
       "      <td>Urbano</td>\n",
       "      <td>Si</td>\n",
       "      <td>T</td>\n",
       "      <td>1</td>\n",
       "      <td>Leve</td>\n",
       "      <td>Seca</td>\n",
       "    </tr>\n",
       "    <tr>\n",
       "      <th>3</th>\n",
       "      <td>Tarde</td>\n",
       "      <td>2</td>\n",
       "      <td>Día laboral</td>\n",
       "      <td>Calzada</td>\n",
       "      <td>30.0</td>\n",
       "      <td>Diurna</td>\n",
       "      <td>Bien, con vientos suaves</td>\n",
       "      <td>1</td>\n",
       "      <td>Urbano</td>\n",
       "      <td>Si</td>\n",
       "      <td>Encrucijada</td>\n",
       "      <td>1</td>\n",
       "      <td>Serio</td>\n",
       "      <td>Seca</td>\n",
       "    </tr>\n",
       "    <tr>\n",
       "      <th>4</th>\n",
       "      <td>Mañana</td>\n",
       "      <td>2</td>\n",
       "      <td>Día laboral</td>\n",
       "      <td>Calzada</td>\n",
       "      <td>30.0</td>\n",
       "      <td>Diurna</td>\n",
       "      <td>Bien, con vientos suaves</td>\n",
       "      <td>1</td>\n",
       "      <td>Urbano</td>\n",
       "      <td>Si</td>\n",
       "      <td>Encrucijada</td>\n",
       "      <td>1</td>\n",
       "      <td>Leve</td>\n",
       "      <td>Seca</td>\n",
       "    </tr>\n",
       "  </tbody>\n",
       "</table>\n",
       "</div>"
      ],
      "text/plain": [
       "     Time Number_of_Casualties    Day_of_Week Road_Type Speed_limit  \\\n",
       "0  Mañana                    1    Día laboral   Calzada        30.0   \n",
       "1  Mañana                    1    Día laboral   Calzada        30.0   \n",
       "2   Tarde                    1  Fin de semana   Calzada        30.0   \n",
       "3   Tarde                    2    Día laboral   Calzada        30.0   \n",
       "4  Mañana                    2    Día laboral   Calzada        30.0   \n",
       "\n",
       "  Light_Conditions        Weather_Conditions Road_Surface_Conditions  \\\n",
       "0           Diurna  Bien, con vientos suaves                       1   \n",
       "1           Diurna  Bien, con vientos suaves                       1   \n",
       "2           Diurna  Bien, con vientos suaves                       1   \n",
       "3           Diurna  Bien, con vientos suaves                       1   \n",
       "4           Diurna  Bien, con vientos suaves                       1   \n",
       "\n",
       "  Urban_or_Rural_Area Did_Police_Officer_Attend_Scene_of_Accident  \\\n",
       "0              Urbano                                          Si   \n",
       "1              Urbano                                          Si   \n",
       "2              Urbano                                          Si   \n",
       "3              Urbano                                          Si   \n",
       "4              Urbano                                          Si   \n",
       "\n",
       "  Junction_Detail Number_of_Vehicles Accident_Severity Road_Surface_Condition  \n",
       "0               T                  1              Leve                   Seca  \n",
       "1    No_hay_cruce                  1              Leve                   Seca  \n",
       "2               T                  1              Leve                   Seca  \n",
       "3     Encrucijada                  1             Serio                   Seca  \n",
       "4     Encrucijada                  1              Leve                   Seca  "
      ]
     },
     "execution_count": 1402,
     "metadata": {},
     "output_type": "execute_result"
    }
   ],
   "source": [
    "imputed.head()\n"
   ]
  },
  {
   "cell_type": "code",
   "execution_count": 1403,
   "metadata": {},
   "outputs": [
    {
     "name": "stderr",
     "output_type": "stream",
     "text": [
      "/opt/homebrew/lib/python3.10/site-packages/sklearn/preprocessing/_encoders.py:828: FutureWarning: `sparse` was renamed to `sparse_output` in version 1.2 and will be removed in 1.4. `sparse_output` is ignored unless you leave `sparse` to its default value.\n"
     ]
    },
    {
     "data": {
      "text/plain": [
       "array([[0., 1., 0., ..., 0., 0., 1.],\n",
       "       [0., 1., 0., ..., 0., 0., 1.],\n",
       "       [0., 0., 0., ..., 0., 0., 1.],\n",
       "       ...,\n",
       "       [0., 0., 0., ..., 0., 0., 0.],\n",
       "       [0., 0., 1., ..., 0., 0., 1.],\n",
       "       [0., 1., 0., ..., 0., 0., 1.]])"
      ]
     },
     "execution_count": 1403,
     "metadata": {},
     "output_type": "execute_result"
    }
   ],
   "source": [
    "one_hot = OneHotEncoder(handle_unknown='ignore', sparse=False)\n",
    "encoded = one_hot.fit_transform(imputed)\n",
    "encoded\n"
   ]
  },
  {
   "attachments": {},
   "cell_type": "markdown",
   "metadata": {},
   "source": [
    "- Si bien esta base de datos ya está lista para ser procesada haremos un paso extra para recuperar los labels\n"
   ]
  },
  {
   "cell_type": "code",
   "execution_count": 1404,
   "metadata": {},
   "outputs": [
    {
     "data": {
      "text/plain": [
       "array(['Time_Madrugada', 'Time_Mañana', 'Time_Noche', 'Time_Tarde',\n",
       "       'Number_of_Casualties_1', 'Number_of_Casualties_2',\n",
       "       'Number_of_Casualties_3', 'Number_of_Casualties_4',\n",
       "       'Day_of_Week_Día laboral', 'Day_of_Week_Fin de semana',\n",
       "       'Road_Type_1SoloSentido', 'Road_Type_Autovia', 'Road_Type_Calzada',\n",
       "       'Road_Type_Circunvalacion', 'Road_Type_Desconocida',\n",
       "       'Road_Type_Rotonda', 'Speed_limit_15.0', 'Speed_limit_20.0',\n",
       "       'Speed_limit_30.0', 'Speed_limit_40.0', 'Speed_limit_50.0',\n",
       "       'Speed_limit_60.0', 'Speed_limit_70.0', 'Light_Conditions_Diurna',\n",
       "       'Light_Conditions_Oscuridad_Iluminacion_Desconocida',\n",
       "       'Light_Conditions_Oscuridad_Luces_Apagadas',\n",
       "       'Light_Conditions_Oscuridad_Luces_Encendidas',\n",
       "       'Light_Conditions_Oscuridad_Sin_Iluminacion',\n",
       "       'Weather_Conditions_Bien, con vientos fuertes',\n",
       "       'Weather_Conditions_Bien, con vientos suaves',\n",
       "       'Weather_Conditions_Desconocido', 'Weather_Conditions_Lluvioso',\n",
       "       'Weather_Conditions_Lluvioso, con vientos fuertes',\n",
       "       'Weather_Conditions_Nevando',\n",
       "       'Weather_Conditions_Nevando, con vientos fuertes',\n",
       "       'Weather_Conditions_Niebla', 'Weather_Conditions_Otro',\n",
       "       'Road_Surface_Conditions_-1', 'Road_Surface_Conditions_1',\n",
       "       'Road_Surface_Conditions_2', 'Road_Surface_Conditions_3',\n",
       "       'Road_Surface_Conditions_4', 'Road_Surface_Conditions_5',\n",
       "       'Urban_or_Rural_Area_Rural', 'Urban_or_Rural_Area_Urbano',\n",
       "       'Did_Police_Officer_Attend_Scene_of_Accident_No',\n",
       "       'Did_Police_Officer_Attend_Scene_of_Accident_No se reporto',\n",
       "       'Did_Police_Officer_Attend_Scene_of_Accident_Si',\n",
       "       'Junction_Detail_+4salidas', 'Junction_Detail_Carretera_Acceso',\n",
       "       'Junction_Detail_Encrucijada', 'Junction_Detail_Entrada_Privada',\n",
       "       'Junction_Detail_Minirotonda', 'Junction_Detail_No_hay_cruce',\n",
       "       'Junction_Detail_Otros', 'Junction_Detail_Rotonda',\n",
       "       'Junction_Detail_T', 'Number_of_Vehicles_1',\n",
       "       'Number_of_Vehicles_2', 'Accident_Severity_Fatal',\n",
       "       'Accident_Severity_Leve', 'Accident_Severity_Serio',\n",
       "       'Road_Surface_Condition_Hielo', 'Road_Surface_Condition_Húmeda',\n",
       "       'Road_Surface_Condition_Inundadas', 'Road_Surface_Condition_Nieve',\n",
       "       'Road_Surface_Condition_Seca'], dtype=object)"
      ]
     },
     "execution_count": 1404,
     "metadata": {},
     "output_type": "execute_result"
    }
   ],
   "source": [
    "one_hot.get_feature_names_out()\n"
   ]
  },
  {
   "cell_type": "code",
   "execution_count": 1405,
   "metadata": {},
   "outputs": [],
   "source": [
    "cols = one_hot.get_feature_names_out()\n"
   ]
  },
  {
   "cell_type": "code",
   "execution_count": 1406,
   "metadata": {},
   "outputs": [],
   "source": [
    "final_df = pd.DataFrame(encoded, columns=cols)\n"
   ]
  },
  {
   "cell_type": "code",
   "execution_count": 1407,
   "metadata": {},
   "outputs": [
    {
     "data": {
      "text/html": [
       "<div>\n",
       "<style scoped>\n",
       "    .dataframe tbody tr th:only-of-type {\n",
       "        vertical-align: middle;\n",
       "    }\n",
       "\n",
       "    .dataframe tbody tr th {\n",
       "        vertical-align: top;\n",
       "    }\n",
       "\n",
       "    .dataframe thead th {\n",
       "        text-align: right;\n",
       "    }\n",
       "</style>\n",
       "<table border=\"1\" class=\"dataframe\">\n",
       "  <thead>\n",
       "    <tr style=\"text-align: right;\">\n",
       "      <th></th>\n",
       "      <th>Time_Madrugada</th>\n",
       "      <th>Time_Mañana</th>\n",
       "      <th>Time_Noche</th>\n",
       "      <th>Time_Tarde</th>\n",
       "      <th>Number_of_Casualties_1</th>\n",
       "      <th>Number_of_Casualties_2</th>\n",
       "      <th>Number_of_Casualties_3</th>\n",
       "      <th>Number_of_Casualties_4</th>\n",
       "      <th>Day_of_Week_Día laboral</th>\n",
       "      <th>Day_of_Week_Fin de semana</th>\n",
       "      <th>...</th>\n",
       "      <th>Number_of_Vehicles_1</th>\n",
       "      <th>Number_of_Vehicles_2</th>\n",
       "      <th>Accident_Severity_Fatal</th>\n",
       "      <th>Accident_Severity_Leve</th>\n",
       "      <th>Accident_Severity_Serio</th>\n",
       "      <th>Road_Surface_Condition_Hielo</th>\n",
       "      <th>Road_Surface_Condition_Húmeda</th>\n",
       "      <th>Road_Surface_Condition_Inundadas</th>\n",
       "      <th>Road_Surface_Condition_Nieve</th>\n",
       "      <th>Road_Surface_Condition_Seca</th>\n",
       "    </tr>\n",
       "  </thead>\n",
       "  <tbody>\n",
       "    <tr>\n",
       "      <th>0</th>\n",
       "      <td>0.0</td>\n",
       "      <td>1.0</td>\n",
       "      <td>0.0</td>\n",
       "      <td>0.0</td>\n",
       "      <td>1.0</td>\n",
       "      <td>0.0</td>\n",
       "      <td>0.0</td>\n",
       "      <td>0.0</td>\n",
       "      <td>1.0</td>\n",
       "      <td>0.0</td>\n",
       "      <td>...</td>\n",
       "      <td>1.0</td>\n",
       "      <td>0.0</td>\n",
       "      <td>0.0</td>\n",
       "      <td>1.0</td>\n",
       "      <td>0.0</td>\n",
       "      <td>0.0</td>\n",
       "      <td>0.0</td>\n",
       "      <td>0.0</td>\n",
       "      <td>0.0</td>\n",
       "      <td>1.0</td>\n",
       "    </tr>\n",
       "    <tr>\n",
       "      <th>1</th>\n",
       "      <td>0.0</td>\n",
       "      <td>1.0</td>\n",
       "      <td>0.0</td>\n",
       "      <td>0.0</td>\n",
       "      <td>1.0</td>\n",
       "      <td>0.0</td>\n",
       "      <td>0.0</td>\n",
       "      <td>0.0</td>\n",
       "      <td>1.0</td>\n",
       "      <td>0.0</td>\n",
       "      <td>...</td>\n",
       "      <td>1.0</td>\n",
       "      <td>0.0</td>\n",
       "      <td>0.0</td>\n",
       "      <td>1.0</td>\n",
       "      <td>0.0</td>\n",
       "      <td>0.0</td>\n",
       "      <td>0.0</td>\n",
       "      <td>0.0</td>\n",
       "      <td>0.0</td>\n",
       "      <td>1.0</td>\n",
       "    </tr>\n",
       "    <tr>\n",
       "      <th>2</th>\n",
       "      <td>0.0</td>\n",
       "      <td>0.0</td>\n",
       "      <td>0.0</td>\n",
       "      <td>1.0</td>\n",
       "      <td>1.0</td>\n",
       "      <td>0.0</td>\n",
       "      <td>0.0</td>\n",
       "      <td>0.0</td>\n",
       "      <td>0.0</td>\n",
       "      <td>1.0</td>\n",
       "      <td>...</td>\n",
       "      <td>1.0</td>\n",
       "      <td>0.0</td>\n",
       "      <td>0.0</td>\n",
       "      <td>1.0</td>\n",
       "      <td>0.0</td>\n",
       "      <td>0.0</td>\n",
       "      <td>0.0</td>\n",
       "      <td>0.0</td>\n",
       "      <td>0.0</td>\n",
       "      <td>1.0</td>\n",
       "    </tr>\n",
       "    <tr>\n",
       "      <th>3</th>\n",
       "      <td>0.0</td>\n",
       "      <td>0.0</td>\n",
       "      <td>0.0</td>\n",
       "      <td>1.0</td>\n",
       "      <td>0.0</td>\n",
       "      <td>1.0</td>\n",
       "      <td>0.0</td>\n",
       "      <td>0.0</td>\n",
       "      <td>1.0</td>\n",
       "      <td>0.0</td>\n",
       "      <td>...</td>\n",
       "      <td>1.0</td>\n",
       "      <td>0.0</td>\n",
       "      <td>0.0</td>\n",
       "      <td>0.0</td>\n",
       "      <td>1.0</td>\n",
       "      <td>0.0</td>\n",
       "      <td>0.0</td>\n",
       "      <td>0.0</td>\n",
       "      <td>0.0</td>\n",
       "      <td>1.0</td>\n",
       "    </tr>\n",
       "    <tr>\n",
       "      <th>4</th>\n",
       "      <td>0.0</td>\n",
       "      <td>1.0</td>\n",
       "      <td>0.0</td>\n",
       "      <td>0.0</td>\n",
       "      <td>0.0</td>\n",
       "      <td>1.0</td>\n",
       "      <td>0.0</td>\n",
       "      <td>0.0</td>\n",
       "      <td>1.0</td>\n",
       "      <td>0.0</td>\n",
       "      <td>...</td>\n",
       "      <td>1.0</td>\n",
       "      <td>0.0</td>\n",
       "      <td>0.0</td>\n",
       "      <td>1.0</td>\n",
       "      <td>0.0</td>\n",
       "      <td>0.0</td>\n",
       "      <td>0.0</td>\n",
       "      <td>0.0</td>\n",
       "      <td>0.0</td>\n",
       "      <td>1.0</td>\n",
       "    </tr>\n",
       "  </tbody>\n",
       "</table>\n",
       "<p>5 rows × 67 columns</p>\n",
       "</div>"
      ],
      "text/plain": [
       "   Time_Madrugada  Time_Mañana  Time_Noche  Time_Tarde  \\\n",
       "0             0.0          1.0         0.0         0.0   \n",
       "1             0.0          1.0         0.0         0.0   \n",
       "2             0.0          0.0         0.0         1.0   \n",
       "3             0.0          0.0         0.0         1.0   \n",
       "4             0.0          1.0         0.0         0.0   \n",
       "\n",
       "   Number_of_Casualties_1  Number_of_Casualties_2  Number_of_Casualties_3  \\\n",
       "0                     1.0                     0.0                     0.0   \n",
       "1                     1.0                     0.0                     0.0   \n",
       "2                     1.0                     0.0                     0.0   \n",
       "3                     0.0                     1.0                     0.0   \n",
       "4                     0.0                     1.0                     0.0   \n",
       "\n",
       "   Number_of_Casualties_4  Day_of_Week_Día laboral  Day_of_Week_Fin de semana  \\\n",
       "0                     0.0                      1.0                        0.0   \n",
       "1                     0.0                      1.0                        0.0   \n",
       "2                     0.0                      0.0                        1.0   \n",
       "3                     0.0                      1.0                        0.0   \n",
       "4                     0.0                      1.0                        0.0   \n",
       "\n",
       "   ...  Number_of_Vehicles_1  Number_of_Vehicles_2  Accident_Severity_Fatal  \\\n",
       "0  ...                   1.0                   0.0                      0.0   \n",
       "1  ...                   1.0                   0.0                      0.0   \n",
       "2  ...                   1.0                   0.0                      0.0   \n",
       "3  ...                   1.0                   0.0                      0.0   \n",
       "4  ...                   1.0                   0.0                      0.0   \n",
       "\n",
       "   Accident_Severity_Leve  Accident_Severity_Serio  \\\n",
       "0                     1.0                      0.0   \n",
       "1                     1.0                      0.0   \n",
       "2                     1.0                      0.0   \n",
       "3                     0.0                      1.0   \n",
       "4                     1.0                      0.0   \n",
       "\n",
       "   Road_Surface_Condition_Hielo  Road_Surface_Condition_Húmeda  \\\n",
       "0                           0.0                            0.0   \n",
       "1                           0.0                            0.0   \n",
       "2                           0.0                            0.0   \n",
       "3                           0.0                            0.0   \n",
       "4                           0.0                            0.0   \n",
       "\n",
       "   Road_Surface_Condition_Inundadas  Road_Surface_Condition_Nieve  \\\n",
       "0                               0.0                           0.0   \n",
       "1                               0.0                           0.0   \n",
       "2                               0.0                           0.0   \n",
       "3                               0.0                           0.0   \n",
       "4                               0.0                           0.0   \n",
       "\n",
       "   Road_Surface_Condition_Seca  \n",
       "0                          1.0  \n",
       "1                          1.0  \n",
       "2                          1.0  \n",
       "3                          1.0  \n",
       "4                          1.0  \n",
       "\n",
       "[5 rows x 67 columns]"
      ]
     },
     "execution_count": 1407,
     "metadata": {},
     "output_type": "execute_result"
    }
   ],
   "source": [
    "final_df.head()\n"
   ]
  },
  {
   "attachments": {},
   "cell_type": "markdown",
   "metadata": {},
   "source": [
    "- Como vemos, vamos a realizar el clustering en un espacio de 67 dimensiones.\n"
   ]
  },
  {
   "attachments": {},
   "cell_type": "markdown",
   "metadata": {},
   "source": [
    "## 3. Guardar Base de Datos con Preprocesamiento General\n"
   ]
  },
  {
   "cell_type": "code",
   "execution_count": 1408,
   "metadata": {},
   "outputs": [],
   "source": [
    "final_df.to_csv('./data/final_preprocessed.csv')\n"
   ]
  },
  {
   "cell_type": "code",
   "execution_count": 1409,
   "metadata": {},
   "outputs": [],
   "source": [
    "# Para cargar simplemente hacemos\n",
    "clean_df = pd.read_csv('./data/final_preprocessed.csv')\n",
    "# Dropeamos el indice\n",
    "clean_df = clean_df.drop('Unnamed: 0', axis=1)\n"
   ]
  },
  {
   "cell_type": "code",
   "execution_count": 1410,
   "metadata": {},
   "outputs": [
    {
     "data": {
      "text/html": [
       "<div>\n",
       "<style scoped>\n",
       "    .dataframe tbody tr th:only-of-type {\n",
       "        vertical-align: middle;\n",
       "    }\n",
       "\n",
       "    .dataframe tbody tr th {\n",
       "        vertical-align: top;\n",
       "    }\n",
       "\n",
       "    .dataframe thead th {\n",
       "        text-align: right;\n",
       "    }\n",
       "</style>\n",
       "<table border=\"1\" class=\"dataframe\">\n",
       "  <thead>\n",
       "    <tr style=\"text-align: right;\">\n",
       "      <th></th>\n",
       "      <th>Time_Madrugada</th>\n",
       "      <th>Time_Mañana</th>\n",
       "      <th>Time_Noche</th>\n",
       "      <th>Time_Tarde</th>\n",
       "      <th>Number_of_Casualties_1</th>\n",
       "      <th>Number_of_Casualties_2</th>\n",
       "      <th>Number_of_Casualties_3</th>\n",
       "      <th>Number_of_Casualties_4</th>\n",
       "      <th>Day_of_Week_Día laboral</th>\n",
       "      <th>Day_of_Week_Fin de semana</th>\n",
       "      <th>...</th>\n",
       "      <th>Number_of_Vehicles_1</th>\n",
       "      <th>Number_of_Vehicles_2</th>\n",
       "      <th>Accident_Severity_Fatal</th>\n",
       "      <th>Accident_Severity_Leve</th>\n",
       "      <th>Accident_Severity_Serio</th>\n",
       "      <th>Road_Surface_Condition_Hielo</th>\n",
       "      <th>Road_Surface_Condition_Húmeda</th>\n",
       "      <th>Road_Surface_Condition_Inundadas</th>\n",
       "      <th>Road_Surface_Condition_Nieve</th>\n",
       "      <th>Road_Surface_Condition_Seca</th>\n",
       "    </tr>\n",
       "  </thead>\n",
       "  <tbody>\n",
       "    <tr>\n",
       "      <th>0</th>\n",
       "      <td>0.0</td>\n",
       "      <td>1.0</td>\n",
       "      <td>0.0</td>\n",
       "      <td>0.0</td>\n",
       "      <td>1.0</td>\n",
       "      <td>0.0</td>\n",
       "      <td>0.0</td>\n",
       "      <td>0.0</td>\n",
       "      <td>1.0</td>\n",
       "      <td>0.0</td>\n",
       "      <td>...</td>\n",
       "      <td>1.0</td>\n",
       "      <td>0.0</td>\n",
       "      <td>0.0</td>\n",
       "      <td>1.0</td>\n",
       "      <td>0.0</td>\n",
       "      <td>0.0</td>\n",
       "      <td>0.0</td>\n",
       "      <td>0.0</td>\n",
       "      <td>0.0</td>\n",
       "      <td>1.0</td>\n",
       "    </tr>\n",
       "    <tr>\n",
       "      <th>1</th>\n",
       "      <td>0.0</td>\n",
       "      <td>1.0</td>\n",
       "      <td>0.0</td>\n",
       "      <td>0.0</td>\n",
       "      <td>1.0</td>\n",
       "      <td>0.0</td>\n",
       "      <td>0.0</td>\n",
       "      <td>0.0</td>\n",
       "      <td>1.0</td>\n",
       "      <td>0.0</td>\n",
       "      <td>...</td>\n",
       "      <td>1.0</td>\n",
       "      <td>0.0</td>\n",
       "      <td>0.0</td>\n",
       "      <td>1.0</td>\n",
       "      <td>0.0</td>\n",
       "      <td>0.0</td>\n",
       "      <td>0.0</td>\n",
       "      <td>0.0</td>\n",
       "      <td>0.0</td>\n",
       "      <td>1.0</td>\n",
       "    </tr>\n",
       "    <tr>\n",
       "      <th>2</th>\n",
       "      <td>0.0</td>\n",
       "      <td>0.0</td>\n",
       "      <td>0.0</td>\n",
       "      <td>1.0</td>\n",
       "      <td>1.0</td>\n",
       "      <td>0.0</td>\n",
       "      <td>0.0</td>\n",
       "      <td>0.0</td>\n",
       "      <td>0.0</td>\n",
       "      <td>1.0</td>\n",
       "      <td>...</td>\n",
       "      <td>1.0</td>\n",
       "      <td>0.0</td>\n",
       "      <td>0.0</td>\n",
       "      <td>1.0</td>\n",
       "      <td>0.0</td>\n",
       "      <td>0.0</td>\n",
       "      <td>0.0</td>\n",
       "      <td>0.0</td>\n",
       "      <td>0.0</td>\n",
       "      <td>1.0</td>\n",
       "    </tr>\n",
       "    <tr>\n",
       "      <th>3</th>\n",
       "      <td>0.0</td>\n",
       "      <td>0.0</td>\n",
       "      <td>0.0</td>\n",
       "      <td>1.0</td>\n",
       "      <td>0.0</td>\n",
       "      <td>1.0</td>\n",
       "      <td>0.0</td>\n",
       "      <td>0.0</td>\n",
       "      <td>1.0</td>\n",
       "      <td>0.0</td>\n",
       "      <td>...</td>\n",
       "      <td>1.0</td>\n",
       "      <td>0.0</td>\n",
       "      <td>0.0</td>\n",
       "      <td>0.0</td>\n",
       "      <td>1.0</td>\n",
       "      <td>0.0</td>\n",
       "      <td>0.0</td>\n",
       "      <td>0.0</td>\n",
       "      <td>0.0</td>\n",
       "      <td>1.0</td>\n",
       "    </tr>\n",
       "    <tr>\n",
       "      <th>4</th>\n",
       "      <td>0.0</td>\n",
       "      <td>1.0</td>\n",
       "      <td>0.0</td>\n",
       "      <td>0.0</td>\n",
       "      <td>0.0</td>\n",
       "      <td>1.0</td>\n",
       "      <td>0.0</td>\n",
       "      <td>0.0</td>\n",
       "      <td>1.0</td>\n",
       "      <td>0.0</td>\n",
       "      <td>...</td>\n",
       "      <td>1.0</td>\n",
       "      <td>0.0</td>\n",
       "      <td>0.0</td>\n",
       "      <td>1.0</td>\n",
       "      <td>0.0</td>\n",
       "      <td>0.0</td>\n",
       "      <td>0.0</td>\n",
       "      <td>0.0</td>\n",
       "      <td>0.0</td>\n",
       "      <td>1.0</td>\n",
       "    </tr>\n",
       "  </tbody>\n",
       "</table>\n",
       "<p>5 rows × 67 columns</p>\n",
       "</div>"
      ],
      "text/plain": [
       "   Time_Madrugada  Time_Mañana  Time_Noche  Time_Tarde  \\\n",
       "0             0.0          1.0         0.0         0.0   \n",
       "1             0.0          1.0         0.0         0.0   \n",
       "2             0.0          0.0         0.0         1.0   \n",
       "3             0.0          0.0         0.0         1.0   \n",
       "4             0.0          1.0         0.0         0.0   \n",
       "\n",
       "   Number_of_Casualties_1  Number_of_Casualties_2  Number_of_Casualties_3  \\\n",
       "0                     1.0                     0.0                     0.0   \n",
       "1                     1.0                     0.0                     0.0   \n",
       "2                     1.0                     0.0                     0.0   \n",
       "3                     0.0                     1.0                     0.0   \n",
       "4                     0.0                     1.0                     0.0   \n",
       "\n",
       "   Number_of_Casualties_4  Day_of_Week_Día laboral  Day_of_Week_Fin de semana  \\\n",
       "0                     0.0                      1.0                        0.0   \n",
       "1                     0.0                      1.0                        0.0   \n",
       "2                     0.0                      0.0                        1.0   \n",
       "3                     0.0                      1.0                        0.0   \n",
       "4                     0.0                      1.0                        0.0   \n",
       "\n",
       "   ...  Number_of_Vehicles_1  Number_of_Vehicles_2  Accident_Severity_Fatal  \\\n",
       "0  ...                   1.0                   0.0                      0.0   \n",
       "1  ...                   1.0                   0.0                      0.0   \n",
       "2  ...                   1.0                   0.0                      0.0   \n",
       "3  ...                   1.0                   0.0                      0.0   \n",
       "4  ...                   1.0                   0.0                      0.0   \n",
       "\n",
       "   Accident_Severity_Leve  Accident_Severity_Serio  \\\n",
       "0                     1.0                      0.0   \n",
       "1                     1.0                      0.0   \n",
       "2                     1.0                      0.0   \n",
       "3                     0.0                      1.0   \n",
       "4                     1.0                      0.0   \n",
       "\n",
       "   Road_Surface_Condition_Hielo  Road_Surface_Condition_Húmeda  \\\n",
       "0                           0.0                            0.0   \n",
       "1                           0.0                            0.0   \n",
       "2                           0.0                            0.0   \n",
       "3                           0.0                            0.0   \n",
       "4                           0.0                            0.0   \n",
       "\n",
       "   Road_Surface_Condition_Inundadas  Road_Surface_Condition_Nieve  \\\n",
       "0                               0.0                           0.0   \n",
       "1                               0.0                           0.0   \n",
       "2                               0.0                           0.0   \n",
       "3                               0.0                           0.0   \n",
       "4                               0.0                           0.0   \n",
       "\n",
       "   Road_Surface_Condition_Seca  \n",
       "0                          1.0  \n",
       "1                          1.0  \n",
       "2                          1.0  \n",
       "3                          1.0  \n",
       "4                          1.0  \n",
       "\n",
       "[5 rows x 67 columns]"
      ]
     },
     "execution_count": 1410,
     "metadata": {},
     "output_type": "execute_result"
    }
   ],
   "source": [
    "clean_df.head()\n"
   ]
  },
  {
   "attachments": {},
   "cell_type": "markdown",
   "metadata": {},
   "source": [
    "## 4. Guardar Base Datos Preprocesada para K-Mmodes\n"
   ]
  },
  {
   "cell_type": "code",
   "execution_count": 1411,
   "metadata": {},
   "outputs": [],
   "source": [
    "imputed.to_csv('./data/kmodes_preprocessed.csv')\n"
   ]
  },
  {
   "cell_type": "code",
   "execution_count": 1412,
   "metadata": {},
   "outputs": [],
   "source": [
    "imputed_from_csv = pd.read_csv('./data/kmodes_preprocessed.csv')\n"
   ]
  },
  {
   "cell_type": "code",
   "execution_count": 1413,
   "metadata": {},
   "outputs": [],
   "source": [
    "imputed_from_csv.drop('Unnamed: 0', axis=1, inplace=True)\n"
   ]
  },
  {
   "attachments": {},
   "cell_type": "markdown",
   "metadata": {},
   "source": [
    "# Sección 2: Algoritmos\n"
   ]
  },
  {
   "attachments": {},
   "cell_type": "markdown",
   "metadata": {},
   "source": [
    "## 1. Gaussian Mixture\n"
   ]
  },
  {
   "attachments": {},
   "cell_type": "markdown",
   "metadata": {},
   "source": [
    "- Implementado por: Daniel Reales\n"
   ]
  },
  {
   "attachments": {},
   "cell_type": "markdown",
   "metadata": {},
   "source": [
    "- Vamos a utilizar el algoritmo de Gaussian Mixture para realizar el primer procesamiento de clustering. El hiperparametro sobre el cual debemos optimizar las dos medidas de costo (El AIC y el BIC) es el número de clusters.\n",
    "- Para poder saber el número de clusters optimo vamos a entrenar el algoritmo para un rango de 2 a 15 clusters. Si hay alguno que minimiza el AIC y el BIC tomaremos ese valor para el número de clusters.\n"
   ]
  },
  {
   "cell_type": "code",
   "execution_count": 1414,
   "metadata": {},
   "outputs": [],
   "source": [
    "from sklearn.mixture import GaussianMixture\n",
    "import matplotlib.pyplot as plt\n",
    "aic = []\n",
    "bic = []\n",
    "for n_clusters in range(2, 16):\n",
    "    gmm = GaussianMixture(n_components=n_clusters,\n",
    "                          random_state=0).fit(clean_df)\n",
    "    bic.append(gmm.bic(clean_df))\n",
    "    aic.append(gmm.aic(clean_df))\n"
   ]
  },
  {
   "attachments": {},
   "cell_type": "markdown",
   "metadata": {},
   "source": [
    "- Vamos ahora, ya que tenemos el calculo de las medidas de costo Akaike y Bayesiano a realizar una gráfica de estos valores para ver si pudimos identificar un mínimo.\n"
   ]
  },
  {
   "cell_type": "code",
   "execution_count": 1415,
   "metadata": {},
   "outputs": [
    {
     "data": {
      "text/plain": [
       "Text(0.5, 1.0, 'Akaike y Bayesiano por número de clusters')"
      ]
     },
     "execution_count": 1415,
     "metadata": {},
     "output_type": "execute_result"
    },
    {
     "data": {
      "image/png": "[encoded data removed]",
      "text/plain": [
       "<Figure size 1200x800 with 1 Axes>"
      ]
     },
     "metadata": {},
     "output_type": "display_data"
    }
   ],
   "source": [
    "n_clusters = range(2, 16)\n",
    "fig, ax = plt.subplots(figsize=(12, 8), nrows=1)\n",
    "ax.plot(n_clusters, aic, '-o', color='red')\n",
    "ax.plot(n_clusters, bic, '-o', color='blue')\n",
    "ax.set(xlabel='Número de Clusters', ylabel='Valor')\n",
    "ax.set_xticks(n_clusters)\n",
    "ax.set_title('Akaike y Bayesiano por número de clusters')\n"
   ]
  },
  {
   "attachments": {},
   "cell_type": "markdown",
   "metadata": {},
   "source": [
    "- Vemos que tanto el Akaike como el Bayesiano se minimizan en 13 clusters. Tomaremos esta medida.\n"
   ]
  },
  {
   "cell_type": "code",
   "execution_count": 1416,
   "metadata": {},
   "outputs": [],
   "source": [
    "final_gmm_results = GaussianMixture(\n",
    "    n_components=13, random_state=0).fit_predict(clean_df)\n"
   ]
  },
  {
   "cell_type": "code",
   "execution_count": 1417,
   "metadata": {},
   "outputs": [
    {
     "data": {
      "text/plain": [
       "array([ 2,  7,  1, ...,  5,  2, 11])"
      ]
     },
     "execution_count": 1417,
     "metadata": {},
     "output_type": "execute_result"
    }
   ],
   "source": [
    "final_gmm_results\n"
   ]
  },
  {
   "attachments": {},
   "cell_type": "markdown",
   "metadata": {},
   "source": [
    "- Ahora vamos a graficar los clusters realizando una reducción de dimensionalidad.\n"
   ]
  },
  {
   "cell_type": "code",
   "execution_count": 1418,
   "metadata": {},
   "outputs": [],
   "source": [
    "from sklearn.decomposition import PCA\n",
    "pca = PCA(n_components=2).fit_transform(clean_df)\n",
    "df_pca = pd.DataFrame(pca, columns=['x', 'y'])\n"
   ]
  },
  {
   "cell_type": "code",
   "execution_count": 1419,
   "metadata": {},
   "outputs": [
    {
     "data": {
      "image/png": "[encoded data removed]",
      "text/plain": [
       "<Figure size 640x480 with 1 Axes>"
      ]
     },
     "metadata": {},
     "output_type": "display_data"
    }
   ],
   "source": [
    "import seaborn as sns\n",
    "import matplotlib.pyplot as plt\n",
    "p = sns.scatterplot(data=df_pca, x='x', y='y',\n",
    "                    hue=final_gmm_results, legend=\"full\", palette=\"deep\")\n",
    "sns.move_legend(p, \"upper right\", bbox_to_anchor=(1.17, 1.2), title='Clusters')\n",
    "plt.show()\n"
   ]
  },
  {
   "cell_type": "code",
   "execution_count": 1433,
   "metadata": {},
   "outputs": [],
   "source": [
    "df_pca.to_csv('./out/gmm.csv')"
   ]
  },
  {
   "attachments": {},
   "cell_type": "markdown",
   "metadata": {},
   "source": [
    "## 2. K-Modes\n",
    "\n",
    "Implementado por: Juan Alegría\n",
    "\n",
    "El algoritmo de k-modes es una variante del algoritmo de k-means que se utiliza para agrupar datos categóricos en lugar de datos numéricos. En lugar de calcular la media de los valores de cada grupo, el algoritmo de k-modes calcula el modo de cada grupo, es decir, el valor más común en cada variable categórica.\n",
    "\n",
    "Algunas de las decisiones más importantes asociadas a la implementación del algoritmo y los hiperparámetros configurados son:\n",
    "\n",
    "- Inicialización: como en k-means, la inicialización de los modos puede afectar significativamente el resultado del algoritmo. Una opción común es inicializar los modos de forma aleatoria varias veces y elegir la mejor solución.\n",
    "- Distancia: para medir la distancia entre un punto de datos y un modo, es común utilizar la distancia Hamming, que mide la cantidad de atributos diferentes entre los dos puntos. Otras medidas de distancia también se pueden utilizar, como la distancia de Jaccard o la distancia euclidiana modificada.\n",
    "- Número de clusters (k): elegir el número adecuado de clusters es importante para obtener una buena solución. Una forma común de hacerlo es probar diferentes valores de k y elegir el que maximice una medida de calidad, como la silueta o la suma de las distancias cuadradas dentro del cluster.\n",
    "- Criterio de parada: como en k-means, es importante elegir un criterio de parada adecuado para evitar iterar indefinidamente. Los criterios comunes incluyen un número máximo de iteraciones, convergencia de los modos o una disminución mínima en la función objetivo.\n"
   ]
  },
  {
   "cell_type": "code",
   "execution_count": 1420,
   "metadata": {},
   "outputs": [
    {
     "data": {
      "text/html": [
       "<div>\n",
       "<style scoped>\n",
       "    .dataframe tbody tr th:only-of-type {\n",
       "        vertical-align: middle;\n",
       "    }\n",
       "\n",
       "    .dataframe tbody tr th {\n",
       "        vertical-align: top;\n",
       "    }\n",
       "\n",
       "    .dataframe thead th {\n",
       "        text-align: right;\n",
       "    }\n",
       "</style>\n",
       "<table border=\"1\" class=\"dataframe\">\n",
       "  <thead>\n",
       "    <tr style=\"text-align: right;\">\n",
       "      <th></th>\n",
       "      <th>Time</th>\n",
       "      <th>Number_of_Casualties</th>\n",
       "      <th>Day_of_Week</th>\n",
       "      <th>Road_Type</th>\n",
       "      <th>Speed_limit</th>\n",
       "      <th>Light_Conditions</th>\n",
       "      <th>Weather_Conditions</th>\n",
       "      <th>Road_Surface_Conditions</th>\n",
       "      <th>Urban_or_Rural_Area</th>\n",
       "      <th>Did_Police_Officer_Attend_Scene_of_Accident</th>\n",
       "      <th>Junction_Detail</th>\n",
       "      <th>Number_of_Vehicles</th>\n",
       "      <th>Accident_Severity</th>\n",
       "      <th>Road_Surface_Condition</th>\n",
       "    </tr>\n",
       "  </thead>\n",
       "  <tbody>\n",
       "    <tr>\n",
       "      <th>2669</th>\n",
       "      <td>Tarde</td>\n",
       "      <td>1</td>\n",
       "      <td>Fin de semana</td>\n",
       "      <td>Calzada</td>\n",
       "      <td>30.0</td>\n",
       "      <td>Diurna</td>\n",
       "      <td>Bien, con vientos suaves</td>\n",
       "      <td>1</td>\n",
       "      <td>Urbano</td>\n",
       "      <td>Si</td>\n",
       "      <td>Otros</td>\n",
       "      <td>1</td>\n",
       "      <td>Leve</td>\n",
       "      <td>Seca</td>\n",
       "    </tr>\n",
       "    <tr>\n",
       "      <th>627</th>\n",
       "      <td>Tarde</td>\n",
       "      <td>1</td>\n",
       "      <td>Fin de semana</td>\n",
       "      <td>1SoloSentido</td>\n",
       "      <td>30.0</td>\n",
       "      <td>Oscuridad_Luces_Encendidas</td>\n",
       "      <td>Bien, con vientos suaves</td>\n",
       "      <td>2</td>\n",
       "      <td>Urbano</td>\n",
       "      <td>Si</td>\n",
       "      <td>No_hay_cruce</td>\n",
       "      <td>1</td>\n",
       "      <td>Leve</td>\n",
       "      <td>Húmeda</td>\n",
       "    </tr>\n",
       "    <tr>\n",
       "      <th>907</th>\n",
       "      <td>Mañana</td>\n",
       "      <td>1</td>\n",
       "      <td>Día laboral</td>\n",
       "      <td>Calzada</td>\n",
       "      <td>40.0</td>\n",
       "      <td>Diurna</td>\n",
       "      <td>Bien, con vientos suaves</td>\n",
       "      <td>1</td>\n",
       "      <td>Rural</td>\n",
       "      <td>No</td>\n",
       "      <td>No_hay_cruce</td>\n",
       "      <td>1</td>\n",
       "      <td>Leve</td>\n",
       "      <td>Seca</td>\n",
       "    </tr>\n",
       "    <tr>\n",
       "      <th>5246</th>\n",
       "      <td>Mañana</td>\n",
       "      <td>1</td>\n",
       "      <td>Día laboral</td>\n",
       "      <td>Calzada</td>\n",
       "      <td>30.0</td>\n",
       "      <td>Diurna</td>\n",
       "      <td>Bien, con vientos suaves</td>\n",
       "      <td>1</td>\n",
       "      <td>Urbano</td>\n",
       "      <td>Si</td>\n",
       "      <td>No_hay_cruce</td>\n",
       "      <td>1</td>\n",
       "      <td>Serio</td>\n",
       "      <td>Seca</td>\n",
       "    </tr>\n",
       "    <tr>\n",
       "      <th>730</th>\n",
       "      <td>Noche</td>\n",
       "      <td>2</td>\n",
       "      <td>Día laboral</td>\n",
       "      <td>Calzada</td>\n",
       "      <td>15.0</td>\n",
       "      <td>Diurna</td>\n",
       "      <td>Bien, con vientos suaves</td>\n",
       "      <td>1</td>\n",
       "      <td>Urbano</td>\n",
       "      <td>Si</td>\n",
       "      <td>No_hay_cruce</td>\n",
       "      <td>1</td>\n",
       "      <td>Leve</td>\n",
       "      <td>Seca</td>\n",
       "    </tr>\n",
       "  </tbody>\n",
       "</table>\n",
       "</div>"
      ],
      "text/plain": [
       "        Time  Number_of_Casualties    Day_of_Week     Road_Type  Speed_limit  \\\n",
       "2669   Tarde                     1  Fin de semana       Calzada         30.0   \n",
       "627    Tarde                     1  Fin de semana  1SoloSentido         30.0   \n",
       "907   Mañana                     1    Día laboral       Calzada         40.0   \n",
       "5246  Mañana                     1    Día laboral       Calzada         30.0   \n",
       "730    Noche                     2    Día laboral       Calzada         15.0   \n",
       "\n",
       "                Light_Conditions        Weather_Conditions  \\\n",
       "2669                      Diurna  Bien, con vientos suaves   \n",
       "627   Oscuridad_Luces_Encendidas  Bien, con vientos suaves   \n",
       "907                       Diurna  Bien, con vientos suaves   \n",
       "5246                      Diurna  Bien, con vientos suaves   \n",
       "730                       Diurna  Bien, con vientos suaves   \n",
       "\n",
       "      Road_Surface_Conditions Urban_or_Rural_Area  \\\n",
       "2669                        1              Urbano   \n",
       "627                         2              Urbano   \n",
       "907                         1               Rural   \n",
       "5246                        1              Urbano   \n",
       "730                         1              Urbano   \n",
       "\n",
       "     Did_Police_Officer_Attend_Scene_of_Accident Junction_Detail  \\\n",
       "2669                                          Si           Otros   \n",
       "627                                           Si    No_hay_cruce   \n",
       "907                                           No    No_hay_cruce   \n",
       "5246                                          Si    No_hay_cruce   \n",
       "730                                           Si    No_hay_cruce   \n",
       "\n",
       "      Number_of_Vehicles Accident_Severity Road_Surface_Condition  \n",
       "2669                   1              Leve                   Seca  \n",
       "627                    1              Leve                 Húmeda  \n",
       "907                    1              Leve                   Seca  \n",
       "5246                   1             Serio                   Seca  \n",
       "730                    1              Leve                   Seca  "
      ]
     },
     "execution_count": 1420,
     "metadata": {},
     "output_type": "execute_result"
    }
   ],
   "source": [
    "from kmodes.kmodes import KModes\n",
    "import pandas as pd\n",
    "import matplotlib.pyplot as plt\n",
    "from plotnine import *\n",
    "import plotnine\n",
    "\n",
    "# Utilizamos los datos procesados para este algoritmo\n",
    "df_kmodes = imputed_from_csv\n",
    "\n",
    "# Muestra aleatoria\n",
    "df_kmodes.sample(5)\n"
   ]
  },
  {
   "cell_type": "code",
   "execution_count": 1421,
   "metadata": {},
   "outputs": [
    {
     "name": "stdout",
     "output_type": "stream",
     "text": [
      "<class 'pandas.core.frame.DataFrame'>\n",
      "RangeIndex: 5338 entries, 0 to 5337\n",
      "Data columns (total 14 columns):\n",
      " #   Column                                       Non-Null Count  Dtype  \n",
      "---  ------                                       --------------  -----  \n",
      " 0   Time                                         5338 non-null   object \n",
      " 1   Number_of_Casualties                         5338 non-null   int64  \n",
      " 2   Day_of_Week                                  5338 non-null   object \n",
      " 3   Road_Type                                    5338 non-null   object \n",
      " 4   Speed_limit                                  5338 non-null   float64\n",
      " 5   Light_Conditions                             5338 non-null   object \n",
      " 6   Weather_Conditions                           5338 non-null   object \n",
      " 7   Road_Surface_Conditions                      5338 non-null   int64  \n",
      " 8   Urban_or_Rural_Area                          5338 non-null   object \n",
      " 9   Did_Police_Officer_Attend_Scene_of_Accident  5338 non-null   object \n",
      " 10  Junction_Detail                              5338 non-null   object \n",
      " 11  Number_of_Vehicles                           5338 non-null   int64  \n",
      " 12  Accident_Severity                            5338 non-null   object \n",
      " 13  Road_Surface_Condition                       5338 non-null   object \n",
      "dtypes: float64(1), int64(3), object(10)\n",
      "memory usage: 584.0+ KB\n"
     ]
    }
   ],
   "source": [
    "df_kmodes.info()\n"
   ]
  },
  {
   "cell_type": "code",
   "execution_count": 1422,
   "metadata": {},
   "outputs": [],
   "source": [
    "# Cambiar valores nulos\n",
    "df_kmodes = df_kmodes.replace(r'^\\s*$', np.nan, regex=True)\n"
   ]
  },
  {
   "cell_type": "code",
   "execution_count": 1423,
   "metadata": {},
   "outputs": [
    {
     "data": {
      "text/plain": [
       "Time                                           4\n",
       "Day_of_Week                                    2\n",
       "Road_Type                                      6\n",
       "Light_Conditions                               5\n",
       "Weather_Conditions                             9\n",
       "Urban_or_Rural_Area                            2\n",
       "Did_Police_Officer_Attend_Scene_of_Accident    3\n",
       "Junction_Detail                                9\n",
       "Accident_Severity                              3\n",
       "Road_Surface_Condition                         5\n",
       "dtype: int64"
      ]
     },
     "execution_count": 1423,
     "metadata": {},
     "output_type": "execute_result"
    }
   ],
   "source": [
    "# Seleccionamos el valor único de cada columna categórica\n",
    "df_kmodes.select_dtypes('object').nunique()\n"
   ]
  },
  {
   "cell_type": "code",
   "execution_count": 1424,
   "metadata": {},
   "outputs": [
    {
     "data": {
      "text/html": [
       "<div>\n",
       "<style scoped>\n",
       "    .dataframe tbody tr th:only-of-type {\n",
       "        vertical-align: middle;\n",
       "    }\n",
       "\n",
       "    .dataframe tbody tr th {\n",
       "        vertical-align: top;\n",
       "    }\n",
       "\n",
       "    .dataframe thead th {\n",
       "        text-align: right;\n",
       "    }\n",
       "</style>\n",
       "<table border=\"1\" class=\"dataframe\">\n",
       "  <thead>\n",
       "    <tr style=\"text-align: right;\">\n",
       "      <th></th>\n",
       "      <th>Time</th>\n",
       "      <th>Day_of_Week</th>\n",
       "      <th>Road_Type</th>\n",
       "      <th>Light_Conditions</th>\n",
       "      <th>Weather_Conditions</th>\n",
       "      <th>Urban_or_Rural_Area</th>\n",
       "      <th>Did_Police_Officer_Attend_Scene_of_Accident</th>\n",
       "      <th>Junction_Detail</th>\n",
       "      <th>Accident_Severity</th>\n",
       "      <th>Road_Surface_Condition</th>\n",
       "    </tr>\n",
       "  </thead>\n",
       "  <tbody>\n",
       "    <tr>\n",
       "      <th>0</th>\n",
       "      <td>Mañana</td>\n",
       "      <td>Día laboral</td>\n",
       "      <td>Calzada</td>\n",
       "      <td>Diurna</td>\n",
       "      <td>Bien, con vientos suaves</td>\n",
       "      <td>Urbano</td>\n",
       "      <td>Si</td>\n",
       "      <td>T</td>\n",
       "      <td>Leve</td>\n",
       "      <td>Seca</td>\n",
       "    </tr>\n",
       "    <tr>\n",
       "      <th>1</th>\n",
       "      <td>Mañana</td>\n",
       "      <td>Día laboral</td>\n",
       "      <td>Calzada</td>\n",
       "      <td>Diurna</td>\n",
       "      <td>Bien, con vientos suaves</td>\n",
       "      <td>Urbano</td>\n",
       "      <td>Si</td>\n",
       "      <td>No_hay_cruce</td>\n",
       "      <td>Leve</td>\n",
       "      <td>Seca</td>\n",
       "    </tr>\n",
       "    <tr>\n",
       "      <th>2</th>\n",
       "      <td>Tarde</td>\n",
       "      <td>Fin de semana</td>\n",
       "      <td>Calzada</td>\n",
       "      <td>Diurna</td>\n",
       "      <td>Bien, con vientos suaves</td>\n",
       "      <td>Urbano</td>\n",
       "      <td>Si</td>\n",
       "      <td>T</td>\n",
       "      <td>Leve</td>\n",
       "      <td>Seca</td>\n",
       "    </tr>\n",
       "    <tr>\n",
       "      <th>3</th>\n",
       "      <td>Tarde</td>\n",
       "      <td>Día laboral</td>\n",
       "      <td>Calzada</td>\n",
       "      <td>Diurna</td>\n",
       "      <td>Bien, con vientos suaves</td>\n",
       "      <td>Urbano</td>\n",
       "      <td>Si</td>\n",
       "      <td>Encrucijada</td>\n",
       "      <td>Serio</td>\n",
       "      <td>Seca</td>\n",
       "    </tr>\n",
       "    <tr>\n",
       "      <th>4</th>\n",
       "      <td>Mañana</td>\n",
       "      <td>Día laboral</td>\n",
       "      <td>Calzada</td>\n",
       "      <td>Diurna</td>\n",
       "      <td>Bien, con vientos suaves</td>\n",
       "      <td>Urbano</td>\n",
       "      <td>Si</td>\n",
       "      <td>Encrucijada</td>\n",
       "      <td>Leve</td>\n",
       "      <td>Seca</td>\n",
       "    </tr>\n",
       "  </tbody>\n",
       "</table>\n",
       "</div>"
      ],
      "text/plain": [
       "     Time    Day_of_Week Road_Type Light_Conditions        Weather_Conditions  \\\n",
       "0  Mañana    Día laboral   Calzada           Diurna  Bien, con vientos suaves   \n",
       "1  Mañana    Día laboral   Calzada           Diurna  Bien, con vientos suaves   \n",
       "2   Tarde  Fin de semana   Calzada           Diurna  Bien, con vientos suaves   \n",
       "3   Tarde    Día laboral   Calzada           Diurna  Bien, con vientos suaves   \n",
       "4  Mañana    Día laboral   Calzada           Diurna  Bien, con vientos suaves   \n",
       "\n",
       "  Urban_or_Rural_Area Did_Police_Officer_Attend_Scene_of_Accident  \\\n",
       "0              Urbano                                          Si   \n",
       "1              Urbano                                          Si   \n",
       "2              Urbano                                          Si   \n",
       "3              Urbano                                          Si   \n",
       "4              Urbano                                          Si   \n",
       "\n",
       "  Junction_Detail Accident_Severity Road_Surface_Condition  \n",
       "0               T              Leve                   Seca  \n",
       "1    No_hay_cruce              Leve                   Seca  \n",
       "2               T              Leve                   Seca  \n",
       "3     Encrucijada             Serio                   Seca  \n",
       "4     Encrucijada              Leve                   Seca  "
      ]
     },
     "execution_count": 1424,
     "metadata": {},
     "output_type": "execute_result"
    }
   ],
   "source": [
    "# Seleccionamos las columnas categóricas\n",
    "cols = df_kmodes.select_dtypes('object').columns\n",
    "df_cat = df_kmodes[cols]\n",
    "# Mostramos los datos\n",
    "df_cat.head()\n"
   ]
  },
  {
   "cell_type": "code",
   "execution_count": 1425,
   "metadata": {},
   "outputs": [
    {
     "data": {
      "text/plain": [
       "Time                                           0\n",
       "Day_of_Week                                    0\n",
       "Road_Type                                      0\n",
       "Light_Conditions                               0\n",
       "Weather_Conditions                             0\n",
       "Urban_or_Rural_Area                            0\n",
       "Did_Police_Officer_Attend_Scene_of_Accident    0\n",
       "Junction_Detail                                0\n",
       "Accident_Severity                              0\n",
       "Road_Surface_Condition                         0\n",
       "dtype: int64"
      ]
     },
     "execution_count": 1425,
     "metadata": {},
     "output_type": "execute_result"
    }
   ],
   "source": [
    "# Verificamos los valores faltantes\n",
    "df_cat.isna().sum()\n"
   ]
  },
  {
   "cell_type": "code",
   "execution_count": 1426,
   "metadata": {},
   "outputs": [
    {
     "name": "stdout",
     "output_type": "stream",
     "text": [
      "Cluster initiation: 1\n",
      "Cluster initiation: 2\n",
      "Cluster initiation: 3\n",
      "Cluster initiation: 4\n",
      "Cluster initiation: 5\n",
      "Cluster initiation: 6\n",
      "Cluster initiation: 7\n",
      "Cluster initiation: 8\n",
      "Cluster initiation: 9\n"
     ]
    },
    {
     "data": {
      "image/png": "[encoded data removed]",
      "text/plain": [
       "<Figure size 800x480 with 1 Axes>"
      ]
     },
     "metadata": {
      "needs_background": "light"
     },
     "output_type": "display_data"
    },
    {
     "data": {
      "text/plain": [
       "<ggplot: (690341603)>"
      ]
     },
     "execution_count": 1426,
     "metadata": {},
     "output_type": "execute_result"
    }
   ],
   "source": [
    "# Convertir dataframe a matriz\n",
    "dfMatrix = df_cat.loc[:].to_numpy()\n",
    "\n",
    "# Choosing optimal K\n",
    "cost = []\n",
    "for cluster in range(1, 10):\n",
    "    try:\n",
    "        kmodes = KModes(n_jobs=-1, n_clusters=cluster,\n",
    "                        init='Huang', random_state=0)\n",
    "        kmodes.fit_predict(dfMatrix)\n",
    "        cost.append(kmodes.cost_)\n",
    "        print('Cluster initiation: {}'.format(cluster))\n",
    "    except:\n",
    "        break\n",
    "# Converting the results into a dataframe and plotting them\n",
    "df_cost = pd.DataFrame({'Cluster': range(1, 10), 'Cost': cost})\n",
    "# Data viz\n",
    "plotnine.options.figure_size = (8, 4.8)\n",
    "(\n",
    "    ggplot(data=df_cost) +\n",
    "    geom_line(aes(x='Cluster', y='Cost')) +\n",
    "    geom_point(aes(x='Cluster', y='Cost')) +\n",
    "    geom_label(aes(x='Cluster', y='Cost', label='Cluster'), size=10, nudge_y=1000) +\n",
    "    labs(title='Optimal number of cluster with Elbow Method') +\n",
    "    xlab('Number of Clusters k') +\n",
    "    ylab('Cost') +\n",
    "    theme_minimal()\n",
    ")\n"
   ]
  },
  {
   "cell_type": "code",
   "execution_count": 1427,
   "metadata": {},
   "outputs": [
    {
     "data": {
      "text/plain": [
       "array([1, 3, 1, ..., 1, 0, 3], dtype=uint16)"
      ]
     },
     "execution_count": 1427,
     "metadata": {},
     "output_type": "execute_result"
    }
   ],
   "source": [
    "# Creamos una instancia del algoritmo KModes\n",
    "kmodes = KModes(n_jobs = -1, n_clusters = 6, init = 'Huang', random_state = 0)\n",
    "\n",
    "\n",
    "# Entrenamos el modelo con los datos\n",
    "clusters = kmodes.fit_predict(dfMatrix)\n",
    "\n",
    "clusters\n"
   ]
  },
  {
   "cell_type": "code",
   "execution_count": 1428,
   "metadata": {},
   "outputs": [
    {
     "name": "stdout",
     "output_type": "stream",
     "text": [
      "[['Noche' 'Día laboral' 'Calzada' 'Oscuridad_Luces_Encendidas'\n",
      "  'Bien, con vientos suaves' 'Urbano' 'Si' 'No_hay_cruce' 'Leve' 'Seca']\n",
      " ['Tarde' 'Día laboral' 'Calzada' 'Diurna' 'Bien, con vientos suaves'\n",
      "  'Urbano' 'Si' 'T' 'Leve' 'Seca']\n",
      " ['Tarde' 'Fin de semana' 'Calzada' 'Diurna' 'Bien, con vientos suaves'\n",
      "  'Urbano' 'No' 'No_hay_cruce' 'Leve' 'Seca']\n",
      " ['Mañana' 'Día laboral' 'Calzada' 'Diurna' 'Bien, con vientos suaves'\n",
      "  'Urbano' 'No' 'No_hay_cruce' 'Leve' 'Seca']\n",
      " ['Tarde' 'Día laboral' 'Calzada' 'Diurna' 'Bien, con vientos suaves'\n",
      "  'Rural' 'Si' 'No_hay_cruce' 'Serio' 'Seca']\n",
      " ['Tarde' 'Fin de semana' 'Calzada' 'Diurna' 'Bien, con vientos suaves'\n",
      "  'Urbano' 'Si' 'No_hay_cruce' 'Leve' 'Seca']]\n",
      "Iteraciones:  2\n",
      "Costo:  10035.0\n"
     ]
    }
   ],
   "source": [
    "# Centroides del cluster\n",
    "print(kmodes.cluster_centroids_)\n",
    "# Verificar las iteraciones del cluster creado\n",
    "print(\"Iteraciones: \", kmodes.n_iter_)\n",
    "# Verificar el costo del cluster creado\n",
    "print(\"Costo: \", kmodes.cost_)\n"
   ]
  },
  {
   "cell_type": "code",
   "execution_count": 1429,
   "metadata": {},
   "outputs": [
    {
     "name": "stderr",
     "output_type": "stream",
     "text": [
      "/var/folders/x7/86msfzy10gn62hrc2kbqnsyw0000gq/T/ipykernel_43994/3583339209.py:2: SettingWithCopyWarning: \n",
      "A value is trying to be set on a copy of a slice from a DataFrame.\n",
      "Try using .loc[row_indexer,col_indexer] = value instead\n",
      "\n",
      "See the caveats in the documentation: https://pandas.pydata.org/pandas-docs/stable/user_guide/indexing.html#returning-a-view-versus-a-copy\n",
      "/var/folders/x7/86msfzy10gn62hrc2kbqnsyw0000gq/T/ipykernel_43994/3583339209.py:3: SettingWithCopyWarning: \n",
      "A value is trying to be set on a copy of a slice from a DataFrame.\n",
      "Try using .loc[row_indexer,col_indexer] = value instead\n",
      "\n",
      "See the caveats in the documentation: https://pandas.pydata.org/pandas-docs/stable/user_guide/indexing.html#returning-a-view-versus-a-copy\n",
      "/var/folders/x7/86msfzy10gn62hrc2kbqnsyw0000gq/T/ipykernel_43994/3583339209.py:5: SettingWithCopyWarning: \n",
      "A value is trying to be set on a copy of a slice from a DataFrame.\n",
      "Try using .loc[row_indexer,col_indexer] = value instead\n",
      "\n",
      "See the caveats in the documentation: https://pandas.pydata.org/pandas-docs/stable/user_guide/indexing.html#returning-a-view-versus-a-copy\n",
      "/var/folders/x7/86msfzy10gn62hrc2kbqnsyw0000gq/T/ipykernel_43994/3583339209.py:6: SettingWithCopyWarning: \n",
      "A value is trying to be set on a copy of a slice from a DataFrame.\n",
      "Try using .loc[row_indexer,col_indexer] = value instead\n",
      "\n",
      "See the caveats in the documentation: https://pandas.pydata.org/pandas-docs/stable/user_guide/indexing.html#returning-a-view-versus-a-copy\n"
     ]
    }
   ],
   "source": [
    "# Add the cluster to the dataframe\n",
    "df_cat['Cluster Labels'] = kmodes.labels_\n",
    "df_cat['Segment'] = df_cat['Cluster Labels'].map({0:'First', 1:'Second', 2:'Third'})\n",
    "# Order the cluster\n",
    "df_cat['Segment'] = df_cat['Segment'].astype('category')\n",
    "df_cat['Segment'] = df_cat['Segment'].cat.reorder_categories(['First', 'Second', 'Third'])\n"
   ]
  },
  {
   "cell_type": "code",
   "execution_count": 1435,
   "metadata": {},
   "outputs": [
    {
     "data": {
      "text/html": [
       "<div>\n",
       "<style scoped>\n",
       "    .dataframe tbody tr th:only-of-type {\n",
       "        vertical-align: middle;\n",
       "    }\n",
       "\n",
       "    .dataframe tbody tr th {\n",
       "        vertical-align: top;\n",
       "    }\n",
       "\n",
       "    .dataframe thead th {\n",
       "        text-align: right;\n",
       "    }\n",
       "</style>\n",
       "<table border=\"1\" class=\"dataframe\">\n",
       "  <thead>\n",
       "    <tr style=\"text-align: right;\">\n",
       "      <th></th>\n",
       "      <th>Road_Type</th>\n",
       "      <th>Light_Conditions</th>\n",
       "      <th>Weather_Conditions</th>\n",
       "      <th>Urban_or_Rural_Area</th>\n",
       "      <th>Did_Police_Officer_Attend_Scene_of_Accident</th>\n",
       "      <th>Junction_Detail</th>\n",
       "      <th>Accident_Severity</th>\n",
       "      <th>Road_Surface_Condition</th>\n",
       "      <th>Cluster Labels</th>\n",
       "      <th>Segment</th>\n",
       "    </tr>\n",
       "  </thead>\n",
       "  <tbody>\n",
       "    <tr>\n",
       "      <th>First Cluster</th>\n",
       "      <td>Noche</td>\n",
       "      <td>Día laboral</td>\n",
       "      <td>Calzada</td>\n",
       "      <td>Oscuridad_Luces_Encendidas</td>\n",
       "      <td>Bien, con vientos suaves</td>\n",
       "      <td>Urbano</td>\n",
       "      <td>Si</td>\n",
       "      <td>No_hay_cruce</td>\n",
       "      <td>Leve</td>\n",
       "      <td>Seca</td>\n",
       "    </tr>\n",
       "    <tr>\n",
       "      <th>Second Cluster</th>\n",
       "      <td>Tarde</td>\n",
       "      <td>Día laboral</td>\n",
       "      <td>Calzada</td>\n",
       "      <td>Diurna</td>\n",
       "      <td>Bien, con vientos suaves</td>\n",
       "      <td>Urbano</td>\n",
       "      <td>Si</td>\n",
       "      <td>T</td>\n",
       "      <td>Leve</td>\n",
       "      <td>Seca</td>\n",
       "    </tr>\n",
       "    <tr>\n",
       "      <th>Third Cluster</th>\n",
       "      <td>Tarde</td>\n",
       "      <td>Fin de semana</td>\n",
       "      <td>Calzada</td>\n",
       "      <td>Diurna</td>\n",
       "      <td>Bien, con vientos suaves</td>\n",
       "      <td>Urbano</td>\n",
       "      <td>No</td>\n",
       "      <td>No_hay_cruce</td>\n",
       "      <td>Leve</td>\n",
       "      <td>Seca</td>\n",
       "    </tr>\n",
       "    <tr>\n",
       "      <th>Fourth Cluster</th>\n",
       "      <td>Mañana</td>\n",
       "      <td>Día laboral</td>\n",
       "      <td>Calzada</td>\n",
       "      <td>Diurna</td>\n",
       "      <td>Bien, con vientos suaves</td>\n",
       "      <td>Urbano</td>\n",
       "      <td>No</td>\n",
       "      <td>No_hay_cruce</td>\n",
       "      <td>Leve</td>\n",
       "      <td>Seca</td>\n",
       "    </tr>\n",
       "    <tr>\n",
       "      <th>Fifth Cluster</th>\n",
       "      <td>Tarde</td>\n",
       "      <td>Día laboral</td>\n",
       "      <td>Calzada</td>\n",
       "      <td>Diurna</td>\n",
       "      <td>Bien, con vientos suaves</td>\n",
       "      <td>Rural</td>\n",
       "      <td>Si</td>\n",
       "      <td>No_hay_cruce</td>\n",
       "      <td>Serio</td>\n",
       "      <td>Seca</td>\n",
       "    </tr>\n",
       "    <tr>\n",
       "      <th>Sixth Cluster</th>\n",
       "      <td>Tarde</td>\n",
       "      <td>Fin de semana</td>\n",
       "      <td>Calzada</td>\n",
       "      <td>Diurna</td>\n",
       "      <td>Bien, con vientos suaves</td>\n",
       "      <td>Urbano</td>\n",
       "      <td>Si</td>\n",
       "      <td>No_hay_cruce</td>\n",
       "      <td>Leve</td>\n",
       "      <td>Seca</td>\n",
       "    </tr>\n",
       "  </tbody>\n",
       "</table>\n",
       "</div>"
      ],
      "text/plain": [
       "               Road_Type Light_Conditions Weather_Conditions  \\\n",
       "First Cluster      Noche      Día laboral            Calzada   \n",
       "Second Cluster     Tarde      Día laboral            Calzada   \n",
       "Third Cluster      Tarde    Fin de semana            Calzada   \n",
       "Fourth Cluster    Mañana      Día laboral            Calzada   \n",
       "Fifth Cluster      Tarde      Día laboral            Calzada   \n",
       "Sixth Cluster      Tarde    Fin de semana            Calzada   \n",
       "\n",
       "                       Urban_or_Rural_Area  \\\n",
       "First Cluster   Oscuridad_Luces_Encendidas   \n",
       "Second Cluster                      Diurna   \n",
       "Third Cluster                       Diurna   \n",
       "Fourth Cluster                      Diurna   \n",
       "Fifth Cluster                       Diurna   \n",
       "Sixth Cluster                       Diurna   \n",
       "\n",
       "               Did_Police_Officer_Attend_Scene_of_Accident Junction_Detail  \\\n",
       "First Cluster                     Bien, con vientos suaves          Urbano   \n",
       "Second Cluster                    Bien, con vientos suaves          Urbano   \n",
       "Third Cluster                     Bien, con vientos suaves          Urbano   \n",
       "Fourth Cluster                    Bien, con vientos suaves          Urbano   \n",
       "Fifth Cluster                     Bien, con vientos suaves           Rural   \n",
       "Sixth Cluster                     Bien, con vientos suaves          Urbano   \n",
       "\n",
       "               Accident_Severity Road_Surface_Condition Cluster Labels Segment  \n",
       "First Cluster                 Si           No_hay_cruce           Leve    Seca  \n",
       "Second Cluster                Si                      T           Leve    Seca  \n",
       "Third Cluster                 No           No_hay_cruce           Leve    Seca  \n",
       "Fourth Cluster                No           No_hay_cruce           Leve    Seca  \n",
       "Fifth Cluster                 Si           No_hay_cruce          Serio    Seca  \n",
       "Sixth Cluster                 Si           No_hay_cruce           Leve    Seca  "
      ]
     },
     "execution_count": 1435,
     "metadata": {},
     "output_type": "execute_result"
    }
   ],
   "source": [
    "# Columns for centroids\n",
    "list_col = ['Time', 'Number_of_Casualties', 'Day_of_Week']\n",
    "cols = [col for col in df_cat if col not in list_col]\n",
    "# Create an index for cluster interpretation\n",
    "index = ['First Cluster', 'Second Cluster', 'Third Cluster', 'Fourth Cluster', 'Fifth Cluster', 'Sixth Cluster']\n",
    "# Create the data frame\n",
    "df_kmodes = pd.DataFrame(kmodes.cluster_centroids_, columns = cols, index = index)\n",
    "\n",
    "df_kmodes"
   ]
  },
  {
   "cell_type": "code",
   "execution_count": 1436,
   "metadata": {},
   "outputs": [],
   "source": [
    "df_kmodes.to_csv('./out/kmodes.csv')"
   ]
  }
 ],
 "metadata": {
  "kernelspec": {
   "display_name": "Python 3",
   "language": "python",
   "name": "python3"
  },
  "language_info": {
   "codemirror_mode": {
    "name": "ipython",
    "version": 3
   },
   "file_extension": ".py",
   "mimetype": "text/x-python",
   "name": "python",
   "nbconvert_exporter": "python",
   "pygments_lexer": "ipython3",
   "version": "3.10.8"
  },
  "orig_nbformat": 4,
  "vscode": {
   "interpreter": {
    "hash": "b0fa6594d8f4cbf19f97940f81e996739fb7646882a419484c72d19e05852a7e"
   }
  }
 },
 "nbformat": 4,
 "nbformat_minor": 2
}
